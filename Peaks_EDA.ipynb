{
 "cells": [
  {
   "cell_type": "code",
   "execution_count": 2,
   "metadata": {},
   "outputs": [
    {
     "data": {
      "text/html": [
       "        <script type=\"text/javascript\">\n",
       "        window.PlotlyConfig = {MathJaxConfig: 'local'};\n",
       "        if (window.MathJax) {MathJax.Hub.Config({SVG: {font: \"STIX-Web\"}});}\n",
       "        if (typeof require !== 'undefined') {\n",
       "        require.undef(\"plotly\");\n",
       "        requirejs.config({\n",
       "            paths: {\n",
       "                'plotly': ['https://cdn.plot.ly/plotly-latest.min']\n",
       "            }\n",
       "        });\n",
       "        require(['plotly'], function(Plotly) {\n",
       "            window._Plotly = Plotly;\n",
       "        });\n",
       "        }\n",
       "        </script>\n",
       "        "
      ]
     },
     "metadata": {},
     "output_type": "display_data"
    }
   ],
   "source": [
    "import pandas as pd\n",
    "import numpy as np\n",
    "import matplotlib.pyplot as plt\n",
    "import seaborn as sns \n",
    "\n",
    "\n",
    "from plotly.offline import download_plotlyjs, init_notebook_mode, plot, iplot\n",
    "import plotly\n",
    "import plotly.graph_objs as go\n",
    "import plotly.express as px \n",
    "\n",
    "init_notebook_mode(connected=True)\n",
    "\n",
    "sns.set_style('darkgrid')"
   ]
  },
  {
   "cell_type": "markdown",
   "metadata": {},
   "source": [
    "### Data Reading "
   ]
  },
  {
   "cell_type": "code",
   "execution_count": 4,
   "metadata": {},
   "outputs": [
    {
     "data": {
      "text/html": [
       "<div>\n",
       "<style scoped>\n",
       "    .dataframe tbody tr th:only-of-type {\n",
       "        vertical-align: middle;\n",
       "    }\n",
       "\n",
       "    .dataframe tbody tr th {\n",
       "        vertical-align: top;\n",
       "    }\n",
       "\n",
       "    .dataframe thead th {\n",
       "        text-align: right;\n",
       "    }\n",
       "</style>\n",
       "<table border=\"1\" class=\"dataframe\">\n",
       "  <thead>\n",
       "    <tr style=\"text-align: right;\">\n",
       "      <th></th>\n",
       "      <th>peak_id</th>\n",
       "      <th>peak_name</th>\n",
       "      <th>nationality</th>\n",
       "      <th>year</th>\n",
       "      <th>season</th>\n",
       "      <th>host_cntr</th>\n",
       "      <th>other_cntrs</th>\n",
       "      <th>sponsor</th>\n",
       "      <th>leaders</th>\n",
       "      <th>rte_1_name</th>\n",
       "      <th>...</th>\n",
       "      <th>is_o2_sleeping</th>\n",
       "      <th>is_o2_medical</th>\n",
       "      <th>is_o2_used</th>\n",
       "      <th>is_o2_unkwn</th>\n",
       "      <th>had_o2</th>\n",
       "      <th>camp_sites</th>\n",
       "      <th>accidents</th>\n",
       "      <th>achievements</th>\n",
       "      <th>agency</th>\n",
       "      <th>members</th>\n",
       "    </tr>\n",
       "  </thead>\n",
       "  <tbody>\n",
       "    <tr>\n",
       "      <th>0</th>\n",
       "      <td>ACHN</td>\n",
       "      <td>Aichyn</td>\n",
       "      <td>Japan</td>\n",
       "      <td>2015</td>\n",
       "      <td>Autumn</td>\n",
       "      <td>Nepal</td>\n",
       "      <td>NaN</td>\n",
       "      <td>Doshisha University Alpine Club Western Nepal ...</td>\n",
       "      <td>Hiroki Senda</td>\n",
       "      <td>NW side</td>\n",
       "      <td>...</td>\n",
       "      <td>0</td>\n",
       "      <td>0</td>\n",
       "      <td>0</td>\n",
       "      <td>0</td>\n",
       "      <td>0</td>\n",
       "      <td>Smt(03,08/09)</td>\n",
       "      <td>NaN</td>\n",
       "      <td>NaN</td>\n",
       "      <td>Cosmo Treks</td>\n",
       "      <td>01  Hiroki (Yuki) Senda (L)(S), Japan 02  Ms. ...</td>\n",
       "    </tr>\n",
       "    <tr>\n",
       "      <th>1</th>\n",
       "      <td>ACHN</td>\n",
       "      <td>Aichyn</td>\n",
       "      <td>France</td>\n",
       "      <td>2015</td>\n",
       "      <td>Autumn</td>\n",
       "      <td>Nepal</td>\n",
       "      <td>NaN</td>\n",
       "      <td>Paulo Aichyn Expedition 2015</td>\n",
       "      <td>Paulo Grobel</td>\n",
       "      <td>N Ridge-W Ridge</td>\n",
       "      <td>...</td>\n",
       "      <td>0</td>\n",
       "      <td>0</td>\n",
       "      <td>0</td>\n",
       "      <td>0</td>\n",
       "      <td>0</td>\n",
       "      <td>Smt(25/09)</td>\n",
       "      <td>NaN</td>\n",
       "      <td>NaN</td>\n",
       "      <td>Yeti Adventure</td>\n",
       "      <td>01  Paul Marc (Paulo) Grobel (L)(S), France 02...</td>\n",
       "    </tr>\n",
       "    <tr>\n",
       "      <th>2</th>\n",
       "      <td>ACHN</td>\n",
       "      <td>Aichyn</td>\n",
       "      <td>France</td>\n",
       "      <td>2018</td>\n",
       "      <td>Autumn</td>\n",
       "      <td>Nepal</td>\n",
       "      <td>NaN</td>\n",
       "      <td>French Aichyn Expeditions 2018</td>\n",
       "      <td>Francois Damilano, Gregoire Lestienne</td>\n",
       "      <td>NaN</td>\n",
       "      <td>...</td>\n",
       "      <td>0</td>\n",
       "      <td>0</td>\n",
       "      <td>0</td>\n",
       "      <td>0</td>\n",
       "      <td>0</td>\n",
       "      <td>NaN</td>\n",
       "      <td>NaN</td>\n",
       "      <td>NaN</td>\n",
       "      <td>Himalayan Travellers Nepal</td>\n",
       "      <td>01  Francois Damilano (L), France 02  Gregoire...</td>\n",
       "    </tr>\n",
       "    <tr>\n",
       "      <th>3</th>\n",
       "      <td>AMAD</td>\n",
       "      <td>Ama Dablam</td>\n",
       "      <td>UK</td>\n",
       "      <td>1958</td>\n",
       "      <td>Autumn</td>\n",
       "      <td>Nepal</td>\n",
       "      <td>Italy</td>\n",
       "      <td>NaN</td>\n",
       "      <td>Alfred Gregory</td>\n",
       "      <td>SW Ridge</td>\n",
       "      <td>...</td>\n",
       "      <td>0</td>\n",
       "      <td>0</td>\n",
       "      <td>0</td>\n",
       "      <td>0</td>\n",
       "      <td>0</td>\n",
       "      <td>BC,C1,C2,xxx(6000m)</td>\n",
       "      <td>NaN</td>\n",
       "      <td>NaN</td>\n",
       "      <td>NaN</td>\n",
       "      <td>01  Alfred John (Alf) Gregory (L), UK 02  Rich...</td>\n",
       "    </tr>\n",
       "    <tr>\n",
       "      <th>4</th>\n",
       "      <td>AMAD</td>\n",
       "      <td>Ama Dablam</td>\n",
       "      <td>UK</td>\n",
       "      <td>1959</td>\n",
       "      <td>Spring</td>\n",
       "      <td>Nepal</td>\n",
       "      <td>NaN</td>\n",
       "      <td>NaN</td>\n",
       "      <td>J. H. Emlyn Jones</td>\n",
       "      <td>N Ridge-NE Spur</td>\n",
       "      <td>...</td>\n",
       "      <td>0</td>\n",
       "      <td>0</td>\n",
       "      <td>0</td>\n",
       "      <td>0</td>\n",
       "      <td>1</td>\n",
       "      <td>BC(17/04,5030m),C1(01/05,5440m),C2(05/05,5850m...</td>\n",
       "      <td>Fraser and Harris disappeared on way to summit...</td>\n",
       "      <td>NaN</td>\n",
       "      <td>NaN</td>\n",
       "      <td>01  John Hubert Emlyn Jones (L), UK 02  George...</td>\n",
       "    </tr>\n",
       "  </tbody>\n",
       "</table>\n",
       "<p>5 rows × 57 columns</p>\n",
       "</div>"
      ],
      "text/plain": [
       "  peak_id   peak_name nationality  year  season host_cntr other_cntrs  \\\n",
       "0    ACHN      Aichyn       Japan  2015  Autumn     Nepal         NaN   \n",
       "1    ACHN      Aichyn      France  2015  Autumn     Nepal         NaN   \n",
       "2    ACHN      Aichyn      France  2018  Autumn     Nepal         NaN   \n",
       "3    AMAD  Ama Dablam          UK  1958  Autumn     Nepal       Italy   \n",
       "4    AMAD  Ama Dablam          UK  1959  Spring     Nepal         NaN   \n",
       "\n",
       "                                             sponsor  \\\n",
       "0  Doshisha University Alpine Club Western Nepal ...   \n",
       "1                       Paulo Aichyn Expedition 2015   \n",
       "2                     French Aichyn Expeditions 2018   \n",
       "3                                                NaN   \n",
       "4                                                NaN   \n",
       "\n",
       "                                 leaders       rte_1_name  ... is_o2_sleeping  \\\n",
       "0                           Hiroki Senda          NW side  ...              0   \n",
       "1                           Paulo Grobel  N Ridge-W Ridge  ...              0   \n",
       "2  Francois Damilano, Gregoire Lestienne              NaN  ...              0   \n",
       "3                         Alfred Gregory         SW Ridge  ...              0   \n",
       "4                      J. H. Emlyn Jones  N Ridge-NE Spur  ...              0   \n",
       "\n",
       "  is_o2_medical is_o2_used is_o2_unkwn had_o2  \\\n",
       "0             0          0           0      0   \n",
       "1             0          0           0      0   \n",
       "2             0          0           0      0   \n",
       "3             0          0           0      0   \n",
       "4             0          0           0      1   \n",
       "\n",
       "                                          camp_sites  \\\n",
       "0                                      Smt(03,08/09)   \n",
       "1                                         Smt(25/09)   \n",
       "2                                                NaN   \n",
       "3                                BC,C1,C2,xxx(6000m)   \n",
       "4  BC(17/04,5030m),C1(01/05,5440m),C2(05/05,5850m...   \n",
       "\n",
       "                                           accidents  achievements  \\\n",
       "0                                                NaN           NaN   \n",
       "1                                                NaN           NaN   \n",
       "2                                                NaN           NaN   \n",
       "3                                                NaN           NaN   \n",
       "4  Fraser and Harris disappeared on way to summit...           NaN   \n",
       "\n",
       "                       agency  \\\n",
       "0                 Cosmo Treks   \n",
       "1              Yeti Adventure   \n",
       "2  Himalayan Travellers Nepal   \n",
       "3                         NaN   \n",
       "4                         NaN   \n",
       "\n",
       "                                             members  \n",
       "0  01  Hiroki (Yuki) Senda (L)(S), Japan 02  Ms. ...  \n",
       "1  01  Paul Marc (Paulo) Grobel (L)(S), France 02...  \n",
       "2  01  Francois Damilano (L), France 02  Gregoire...  \n",
       "3  01  Alfred John (Alf) Gregory (L), UK 02  Rich...  \n",
       "4  01  John Hubert Emlyn Jones (L), UK 02  George...  \n",
       "\n",
       "[5 rows x 57 columns]"
      ]
     },
     "execution_count": 4,
     "metadata": {},
     "output_type": "execute_result"
    }
   ],
   "source": [
    "data = pd.read_csv('C:\\\\Users\\\\vlad\\\\Desktop\\\\himalayan_db\\\\expeditions_data\\\\expeditions.csv')\n",
    "data.head()"
   ]
  },
  {
   "cell_type": "markdown",
   "metadata": {},
   "source": [
    "**Unfortunately**, we don't have the rest prominent eight thousanders:\n",
    "- K2, Broad Peak, Gasherbrum 1, Gasherbrum 2, Nanga Parbat (Karokoram)\n",
    "- Shishapangma (China)"
   ]
  },
  {
   "cell_type": "markdown",
   "metadata": {},
   "source": [
    "### Feature Description\n",
    "- `peak_id`: Peak id \n",
    "- `peak_name`: Peak name\n",
    "- `nationality`: The principle nationality of the expedition (main nationality)\n",
    "- `year`: Expedition year\n",
    "- `season`: Expedition season \n",
    "- `host_cntr`: Country from which ascent has begun \n",
    "- `other_cntrs`: Countires that took part in the expedition (members nationality)\n",
    "- `sponsor`: Expedition sponsor\n",
    "- `leaders`: Leader/leaders of the expedition\n",
    "- `rte_1_name`: The first route name (similar for the rest features with the same prefix)\n",
    "- `team_asc_1`: The times that a team ascended  for a certain route name (similar for the rest features with the same prefix)\n",
    "- `is_disputed`: Success Disputed or Unverified\n",
    "- `is_claim`: Expedition claims that summited, howevere without any evidence (probably a lie)\n",
    "- `is_commercial_rte`: If the expedition was commercial\n",
    "- `is_standard_rte`: If the route is standard (`S Col-SE Ridge`/`N Col-NE Ridge`/`N Col`)\n",
    "- `other_smts`: Other peaks summited\n",
    "- `approach`: Main expedition intermediate points to reach the mountain\n",
    "- `bc_arrived`: Arrival date at the base camp \n",
    "- `bc_left`: Departure date from the base camp \n",
    "- `total_days`: Total number of days spent by the expedition\n",
    "- `exp_result`: The result of the expedition\n",
    "- `is_traverse`: If the traverse has been made (?)\n",
    "- `is_ski_snowboard`: If the descent has been made using ski/snowboard\n",
    "- `is_parapente`: If the descent has been made using parapente\n",
    "- `term_note`: Summit termination details/results \n",
    "- `summit_day`: Day of the summit \n",
    "- `time`: Summit time \n",
    "- `max_elev_reached`: Max elevation reached by the expedition\n",
    "- `summit_days`: Day of the summit according to total_days feature\n",
    "- `total_mbrs`: Total number of expedition members\n",
    "- `mbrs_summited`: Total number of expedition members that have summited\n",
    "- `mbrs_deaths`: Total number of expedition members that died \n",
    "- `high_camps`: Number of high camps\n",
    "- `hired_abc`: ?\n",
    "- `hired_summits`: ?\n",
    "- `hired_deaths`: ?\n",
    "- `rope_fixed`: total rope length that has been fixed on the mountain/route\n",
    "- `is_no_hired_abc`: ?\n",
    "- `is_o2_not_used`:  If O2 has not been used\n",
    "- `is_o2_climbing`: If O2 has been used during climbing\n",
    "- `is_o2_descent`: If O2 has been used only on descent\n",
    "- `is_o2_medical`: If O2 has been used for medical reasons \n",
    "- `is_o2_unkwn`: It's unknown wether O2 has been used or not\n",
    "- `had_o2`: O2 has been taken but unused\n",
    "- `camp_sites`: Expedition camps locations \n",
    "- `accidents`: Accident description\n",
    "- `achievements`: Achievement description\n",
    "- `agency`: Commercial agency name \n",
    "- `members`: Expedition members (name , `L - Leader`, `S - Summited`, `D - Died`)"
   ]
  },
  {
   "cell_type": "markdown",
   "metadata": {},
   "source": [
    "### Interesting Question\n",
    "- What are the top 25 mountains by ascents in the Himalaya?\n",
    "    - What is success rate for these mountains?\n",
    "    - What are top 3 countries that have tried climbing most on each of these peaks?\n",
    "    - How many expeditions have been done in each year (yearly trend)?\n",
    "    - What is a popular season to climb these mountains?\n",
    "    - What is the popular host country for these mountains?\n",
    "    - How many independet expeditions/attempts have been done?\n",
    "    - Top 3 popular routes according to rte_1_name feature\n",
    "    - How many days you have to spend to summit?\n",
    "    - What is usually a weather window date? \n",
    "    - Summit time for a mountain \n",
    "    - How many Snowboard/Ski/Parapente attempts?\n",
    "    - Average expedition Size \n",
    "    - Number of Deaths\n",
    "    - Avg Summiters fraction of the Expedition\n",
    "    - Team Fraction to Die"
   ]
  },
  {
   "cell_type": "markdown",
   "metadata": {},
   "source": [
    "### Top 25 Most Popular Himalayan Mountains by Ascents\n",
    "First, let's have a look at not only eight thousanders but lower mountains as well"
   ]
  },
  {
   "cell_type": "code",
   "execution_count": 5,
   "metadata": {},
   "outputs": [
    {
     "data": {
      "image/png": "[encoded data removed]",
      "text/plain": [
       "<Figure size 1080x432 with 1 Axes>"
      ]
     },
     "metadata": {},
     "output_type": "display_data"
    }
   ],
   "source": [
    "# Top 25 mountains by total ascents \n",
    "top_25_df = pd.DataFrame(data['peak_name'].value_counts().sort_values(ascending=False)[:25]).rename(columns={'peak_name': 'ascents'})\n",
    "top_25_df.index.name = 'peak_name'\n",
    "top_25_df = top_25_df.reset_index()\n",
    "\n",
    "plt.figure(figsize=(15, 6))\n",
    "sns.barplot(x=top_25_df['peak_name'], y=top_25_df['ascents'])\n",
    "plt.xticks(rotation=45);"
   ]
  },
  {
   "cell_type": "markdown",
   "metadata": {},
   "source": [
    "We have almost all eight thousanders in the Himalaya. Except for Shishapangma\n",
    "\n",
    "### Success Rate "
   ]
  },
  {
   "cell_type": "code",
   "execution_count": 6,
   "metadata": {},
   "outputs": [],
   "source": [
    "top_25_mountains = top_25_df['peak_name'].values.tolist()\n",
    "success_flags = ['Success', 'Success (Subpeak, ForeSmt)', 'Success (Claimed)']"
   ]
  },
  {
   "cell_type": "code",
   "execution_count": 7,
   "metadata": {
    "scrolled": false
   },
   "outputs": [
    {
     "data": {
      "text/html": [
       "<div>\n",
       "<style scoped>\n",
       "    .dataframe tbody tr th:only-of-type {\n",
       "        vertical-align: middle;\n",
       "    }\n",
       "\n",
       "    .dataframe tbody tr th {\n",
       "        vertical-align: top;\n",
       "    }\n",
       "\n",
       "    .dataframe thead th {\n",
       "        text-align: right;\n",
       "    }\n",
       "</style>\n",
       "<table border=\"1\" class=\"dataframe\">\n",
       "  <thead>\n",
       "    <tr style=\"text-align: right;\">\n",
       "      <th></th>\n",
       "      <th>peak_name</th>\n",
       "      <th>suc_rate</th>\n",
       "    </tr>\n",
       "  </thead>\n",
       "  <tbody>\n",
       "    <tr>\n",
       "      <th>1</th>\n",
       "      <td>Ama Dablam</td>\n",
       "      <td>0.689993</td>\n",
       "    </tr>\n",
       "    <tr>\n",
       "      <th>11</th>\n",
       "      <td>Himlung Himal</td>\n",
       "      <td>0.660494</td>\n",
       "    </tr>\n",
       "    <tr>\n",
       "      <th>2</th>\n",
       "      <td>Cho Oyu</td>\n",
       "      <td>0.633855</td>\n",
       "    </tr>\n",
       "    <tr>\n",
       "      <th>12</th>\n",
       "      <td>Putha Hiunchuli</td>\n",
       "      <td>0.622449</td>\n",
       "    </tr>\n",
       "    <tr>\n",
       "      <th>0</th>\n",
       "      <td>Everest</td>\n",
       "      <td>0.614385</td>\n",
       "    </tr>\n",
       "  </tbody>\n",
       "</table>\n",
       "</div>"
      ],
      "text/plain": [
       "          peak_name  suc_rate\n",
       "1        Ama Dablam  0.689993\n",
       "11    Himlung Himal  0.660494\n",
       "2           Cho Oyu  0.633855\n",
       "12  Putha Hiunchuli  0.622449\n",
       "0           Everest  0.614385"
      ]
     },
     "execution_count": 7,
     "metadata": {},
     "output_type": "execute_result"
    }
   ],
   "source": [
    "suc_rate = data\\\n",
    "                .query(\"peak_name in @top_25_mountains and exp_result in @success_flags\")\\\n",
    "                .groupby('peak_name')\\\n",
    "                .agg({'peak_id': 'count'})\\\n",
    "                .reset_index().rename(columns={'peak_id': 'suc_ascents'})\n",
    "\n",
    "top_25_df = top_25_df.merge(suc_rate, how='inner', on='peak_name')\n",
    "top_25_df['suc_rate'] = top_25_df['suc_ascents']/top_25_df['ascents']\n",
    "top_25_df.sort_values('suc_rate', ascending=False)[['peak_name', 'suc_rate']].head()"
   ]
  },
  {
   "cell_type": "markdown",
   "metadata": {},
   "source": [
    "If you want to climb a mountain in the Himlaya and want to summit, pick Ama Dablam or Cho Oyu (8k mountain)\n",
    "\n",
    "### Top 3 Countries Participating Most "
   ]
  },
  {
   "cell_type": "code",
   "execution_count": 8,
   "metadata": {},
   "outputs": [
    {
     "data": {
      "application/vnd.plotly.v1+json": {
       "config": {
        "plotlyServerURL": "https://plot.ly"
       },
       "data": [
        {
         "alignmentgroup": "True",
         "hovertemplate": "nationality=USA<br>peak_name=%{x}<br>ascents=%{y}<extra></extra>",
         "legendgroup": "USA",
         "marker": {
          "color": "#636efa"
         },
         "name": "USA",
         "offsetgroup": "USA",
         "orientation": "v",
         "showlegend": true,
         "textposition": "auto",
         "type": "bar",
         "x": [
          "Everest",
          "Ama Dablam",
          "Cho Oyu",
          "Lhotse",
          "Makalu",
          "Pumori",
          "Annapurna IV",
          "Nuptse",
          "Jannu",
          "Annapurna South",
          "Annapurna II"
         ],
         "xaxis": "x",
         "y": [
          340,
          224,
          140,
          74,
          37,
          30,
          12,
          16,
          5,
          3,
          3
         ],
         "yaxis": "y"
        },
        {
         "alignmentgroup": "True",
         "hovertemplate": "nationality=UK<br>peak_name=%{x}<br>ascents=%{y}<extra></extra>",
         "legendgroup": "UK",
         "marker": {
          "color": "#EF553B"
         },
         "name": "UK",
         "offsetgroup": "UK",
         "orientation": "v",
         "showlegend": true,
         "textposition": "auto",
         "type": "bar",
         "x": [
          "Everest",
          "Ama Dablam",
          "Baruntse",
          "Pumori",
          "Annapurna IV",
          "Nuptse",
          "Annapurna III",
          "Annapurna II",
          "Gaurishankar"
         ],
         "xaxis": "x",
         "y": [
          196,
          149,
          40,
          19,
          8,
          11,
          8,
          8,
          5
         ],
         "yaxis": "y"
        },
        {
         "alignmentgroup": "True",
         "hovertemplate": "nationality=Japan<br>peak_name=%{x}<br>ascents=%{y}<extra></extra>",
         "legendgroup": "Japan",
         "marker": {
          "color": "#00cc96"
         },
         "name": "Japan",
         "offsetgroup": "Japan",
         "orientation": "v",
         "showlegend": true,
         "textposition": "auto",
         "type": "bar",
         "x": [
          "Everest",
          "Manaslu",
          "Dhaulagiri I",
          "Pumori",
          "Annapurna I",
          "Annapurna IV",
          "Tukuche",
          "Langtang Lirung",
          "Makalu II",
          "Annapurna III",
          "Annapurna South",
          "Annapurna II",
          "Gaurishankar"
         ],
         "xaxis": "x",
         "y": [
          139,
          75,
          48,
          24,
          22,
          11,
          16,
          16,
          7,
          5,
          12,
          10,
          10
         ],
         "yaxis": "y"
        },
        {
         "alignmentgroup": "True",
         "hovertemplate": "nationality=France<br>peak_name=%{x}<br>ascents=%{y}<extra></extra>",
         "legendgroup": "France",
         "marker": {
          "color": "#ab63fa"
         },
         "name": "France",
         "offsetgroup": "France",
         "orientation": "v",
         "showlegend": true,
         "textposition": "auto",
         "type": "bar",
         "x": [
          "Ama Dablam",
          "Dhaulagiri I",
          "Makalu",
          "Baruntse",
          "Himlung Himal",
          "Putha Hiunchuli",
          "Tilicho",
          "Tukuche",
          "Makalu II",
          "Jannu",
          "Annapurna South"
         ],
         "xaxis": "x",
         "y": [
          87,
          31,
          26,
          55,
          31,
          14,
          25,
          12,
          13,
          9,
          7
         ],
         "yaxis": "y"
        },
        {
         "alignmentgroup": "True",
         "hovertemplate": "nationality=Spain<br>peak_name=%{x}<br>ascents=%{y}<extra></extra>",
         "legendgroup": "Spain",
         "marker": {
          "color": "#FFA15A"
         },
         "name": "Spain",
         "offsetgroup": "Spain",
         "orientation": "v",
         "showlegend": true,
         "textposition": "auto",
         "type": "bar",
         "x": [
          "Cho Oyu",
          "Manaslu",
          "Dhaulagiri I",
          "Makalu",
          "Annapurna I",
          "Kangchenjunga",
          "Tukuche",
          "Makalu II",
          "Lhotse Shar"
         ],
         "xaxis": "x",
         "y": [
          152,
          58,
          52,
          37,
          30,
          16,
          4,
          6,
          8
         ],
         "yaxis": "y"
        },
        {
         "alignmentgroup": "True",
         "hovertemplate": "nationality=Italy<br>peak_name=%{x}<br>ascents=%{y}<extra></extra>",
         "legendgroup": "Italy",
         "marker": {
          "color": "#19d3f3"
         },
         "name": "Italy",
         "offsetgroup": "Italy",
         "orientation": "v",
         "showlegend": true,
         "textposition": "auto",
         "type": "bar",
         "x": [
          "Cho Oyu",
          "Manaslu",
          "Lhotse",
          "Kangchenjunga",
          "Langtang Lirung"
         ],
         "xaxis": "x",
         "y": [
          108,
          54,
          31,
          15,
          4
         ],
         "yaxis": "y"
        },
        {
         "alignmentgroup": "True",
         "hovertemplate": "nationality=S Korea<br>peak_name=%{x}<br>ascents=%{y}<extra></extra>",
         "legendgroup": "S Korea",
         "marker": {
          "color": "#FF6692"
         },
         "name": "S Korea",
         "offsetgroup": "S Korea",
         "orientation": "v",
         "showlegend": true,
         "textposition": "auto",
         "type": "bar",
         "x": [
          "Lhotse",
          "Annapurna I",
          "Langtang Lirung",
          "Annapurna III",
          "Lhotse Shar",
          "Gaurishankar"
         ],
         "xaxis": "x",
         "y": [
          39,
          25,
          4,
          4,
          7,
          3
         ],
         "yaxis": "y"
        },
        {
         "alignmentgroup": "True",
         "hovertemplate": "nationality=Germany<br>peak_name=%{x}<br>ascents=%{y}<extra></extra>",
         "legendgroup": "Germany",
         "marker": {
          "color": "#B6E880"
         },
         "name": "Germany",
         "offsetgroup": "Germany",
         "orientation": "v",
         "showlegend": true,
         "textposition": "auto",
         "type": "bar",
         "x": [
          "Baruntse",
          "Himlung Himal",
          "Putha Hiunchuli"
         ],
         "xaxis": "x",
         "y": [
          29,
          28,
          15
         ],
         "yaxis": "y"
        },
        {
         "alignmentgroup": "True",
         "hovertemplate": "nationality=India<br>peak_name=%{x}<br>ascents=%{y}<extra></extra>",
         "legendgroup": "India",
         "marker": {
          "color": "#FF97FF"
         },
         "name": "India",
         "offsetgroup": "India",
         "orientation": "v",
         "showlegend": true,
         "textposition": "auto",
         "type": "bar",
         "x": [
          "Kangchenjunga"
         ],
         "xaxis": "x",
         "y": [
          16
         ],
         "yaxis": "y"
        },
        {
         "alignmentgroup": "True",
         "hovertemplate": "nationality=Switzerland<br>peak_name=%{x}<br>ascents=%{y}<extra></extra>",
         "legendgroup": "Switzerland",
         "marker": {
          "color": "#FECB52"
         },
         "name": "Switzerland",
         "offsetgroup": "Switzerland",
         "orientation": "v",
         "showlegend": true,
         "textposition": "auto",
         "type": "bar",
         "x": [
          "Himlung Himal",
          "Tilicho",
          "Jannu",
          "Lhotse Shar"
         ],
         "xaxis": "x",
         "y": [
          16,
          10,
          5,
          5
         ],
         "yaxis": "y"
        },
        {
         "alignmentgroup": "True",
         "hovertemplate": "nationality=Austria<br>peak_name=%{x}<br>ascents=%{y}<extra></extra>",
         "legendgroup": "Austria",
         "marker": {
          "color": "#636efa"
         },
         "name": "Austria",
         "offsetgroup": "Austria",
         "orientation": "v",
         "showlegend": true,
         "textposition": "auto",
         "type": "bar",
         "x": [
          "Putha Hiunchuli",
          "Tilicho"
         ],
         "xaxis": "x",
         "y": [
          13,
          8
         ],
         "yaxis": "y"
        },
        {
         "alignmentgroup": "True",
         "hovertemplate": "nationality=Canada<br>peak_name=%{x}<br>ascents=%{y}<extra></extra>",
         "legendgroup": "Canada",
         "marker": {
          "color": "#EF553B"
         },
         "name": "Canada",
         "offsetgroup": "Canada",
         "orientation": "v",
         "showlegend": true,
         "textposition": "auto",
         "type": "bar",
         "x": [
          "Nuptse"
         ],
         "xaxis": "x",
         "y": [
          4
         ],
         "yaxis": "y"
        }
       ],
       "layout": {
        "barmode": "relative",
        "legend": {
         "title": {
          "text": "nationality"
         },
         "tracegroupgap": 0
        },
        "template": {
         "data": {
          "bar": [
           {
            "error_x": {
             "color": "#2a3f5f"
            },
            "error_y": {
             "color": "#2a3f5f"
            },
            "marker": {
             "line": {
              "color": "#E5ECF6",
              "width": 0.5
             }
            },
            "type": "bar"
           }
          ],
          "barpolar": [
           {
            "marker": {
             "line": {
              "color": "#E5ECF6",
              "width": 0.5
             }
            },
            "type": "barpolar"
           }
          ],
          "carpet": [
           {
            "aaxis": {
             "endlinecolor": "#2a3f5f",
             "gridcolor": "white",
             "linecolor": "white",
             "minorgridcolor": "white",
             "startlinecolor": "#2a3f5f"
            },
            "baxis": {
             "endlinecolor": "#2a3f5f",
             "gridcolor": "white",
             "linecolor": "white",
             "minorgridcolor": "white",
             "startlinecolor": "#2a3f5f"
            },
            "type": "carpet"
           }
          ],
          "choropleth": [
           {
            "colorbar": {
             "outlinewidth": 0,
             "ticks": ""
            },
            "type": "choropleth"
           }
          ],
          "contour": [
           {
            "colorbar": {
             "outlinewidth": 0,
             "ticks": ""
            },
            "colorscale": [
             [
              0,
              "#0d0887"
             ],
             [
              0.1111111111111111,
              "#46039f"
             ],
             [
              0.2222222222222222,
              "#7201a8"
             ],
             [
              0.3333333333333333,
              "#9c179e"
             ],
             [
              0.4444444444444444,
              "#bd3786"
             ],
             [
              0.5555555555555556,
              "#d8576b"
             ],
             [
              0.6666666666666666,
              "#ed7953"
             ],
             [
              0.7777777777777778,
              "#fb9f3a"
             ],
             [
              0.8888888888888888,
              "#fdca26"
             ],
             [
              1,
              "#f0f921"
             ]
            ],
            "type": "contour"
           }
          ],
          "contourcarpet": [
           {
            "colorbar": {
             "outlinewidth": 0,
             "ticks": ""
            },
            "type": "contourcarpet"
           }
          ],
          "heatmap": [
           {
            "colorbar": {
             "outlinewidth": 0,
             "ticks": ""
            },
            "colorscale": [
             [
              0,
              "#0d0887"
             ],
             [
              0.1111111111111111,
              "#46039f"
             ],
             [
              0.2222222222222222,
              "#7201a8"
             ],
             [
              0.3333333333333333,
              "#9c179e"
             ],
             [
              0.4444444444444444,
              "#bd3786"
             ],
             [
              0.5555555555555556,
              "#d8576b"
             ],
             [
              0.6666666666666666,
              "#ed7953"
             ],
             [
              0.7777777777777778,
              "#fb9f3a"
             ],
             [
              0.8888888888888888,
              "#fdca26"
             ],
             [
              1,
              "#f0f921"
             ]
            ],
            "type": "heatmap"
           }
          ],
          "heatmapgl": [
           {
            "colorbar": {
             "outlinewidth": 0,
             "ticks": ""
            },
            "colorscale": [
             [
              0,
              "#0d0887"
             ],
             [
              0.1111111111111111,
              "#46039f"
             ],
             [
              0.2222222222222222,
              "#7201a8"
             ],
             [
              0.3333333333333333,
              "#9c179e"
             ],
             [
              0.4444444444444444,
              "#bd3786"
             ],
             [
              0.5555555555555556,
              "#d8576b"
             ],
             [
              0.6666666666666666,
              "#ed7953"
             ],
             [
              0.7777777777777778,
              "#fb9f3a"
             ],
             [
              0.8888888888888888,
              "#fdca26"
             ],
             [
              1,
              "#f0f921"
             ]
            ],
            "type": "heatmapgl"
           }
          ],
          "histogram": [
           {
            "marker": {
             "colorbar": {
              "outlinewidth": 0,
              "ticks": ""
             }
            },
            "type": "histogram"
           }
          ],
          "histogram2d": [
           {
            "colorbar": {
             "outlinewidth": 0,
             "ticks": ""
            },
            "colorscale": [
             [
              0,
              "#0d0887"
             ],
             [
              0.1111111111111111,
              "#46039f"
             ],
             [
              0.2222222222222222,
              "#7201a8"
             ],
             [
              0.3333333333333333,
              "#9c179e"
             ],
             [
              0.4444444444444444,
              "#bd3786"
             ],
             [
              0.5555555555555556,
              "#d8576b"
             ],
             [
              0.6666666666666666,
              "#ed7953"
             ],
             [
              0.7777777777777778,
              "#fb9f3a"
             ],
             [
              0.8888888888888888,
              "#fdca26"
             ],
             [
              1,
              "#f0f921"
             ]
            ],
            "type": "histogram2d"
           }
          ],
          "histogram2dcontour": [
           {
            "colorbar": {
             "outlinewidth": 0,
             "ticks": ""
            },
            "colorscale": [
             [
              0,
              "#0d0887"
             ],
             [
              0.1111111111111111,
              "#46039f"
             ],
             [
              0.2222222222222222,
              "#7201a8"
             ],
             [
              0.3333333333333333,
              "#9c179e"
             ],
             [
              0.4444444444444444,
              "#bd3786"
             ],
             [
              0.5555555555555556,
              "#d8576b"
             ],
             [
              0.6666666666666666,
              "#ed7953"
             ],
             [
              0.7777777777777778,
              "#fb9f3a"
             ],
             [
              0.8888888888888888,
              "#fdca26"
             ],
             [
              1,
              "#f0f921"
             ]
            ],
            "type": "histogram2dcontour"
           }
          ],
          "mesh3d": [
           {
            "colorbar": {
             "outlinewidth": 0,
             "ticks": ""
            },
            "type": "mesh3d"
           }
          ],
          "parcoords": [
           {
            "line": {
             "colorbar": {
              "outlinewidth": 0,
              "ticks": ""
             }
            },
            "type": "parcoords"
           }
          ],
          "pie": [
           {
            "automargin": true,
            "type": "pie"
           }
          ],
          "scatter": [
           {
            "marker": {
             "colorbar": {
              "outlinewidth": 0,
              "ticks": ""
             }
            },
            "type": "scatter"
           }
          ],
          "scatter3d": [
           {
            "line": {
             "colorbar": {
              "outlinewidth": 0,
              "ticks": ""
             }
            },
            "marker": {
             "colorbar": {
              "outlinewidth": 0,
              "ticks": ""
             }
            },
            "type": "scatter3d"
           }
          ],
          "scattercarpet": [
           {
            "marker": {
             "colorbar": {
              "outlinewidth": 0,
              "ticks": ""
             }
            },
            "type": "scattercarpet"
           }
          ],
          "scattergeo": [
           {
            "marker": {
             "colorbar": {
              "outlinewidth": 0,
              "ticks": ""
             }
            },
            "type": "scattergeo"
           }
          ],
          "scattergl": [
           {
            "marker": {
             "colorbar": {
              "outlinewidth": 0,
              "ticks": ""
             }
            },
            "type": "scattergl"
           }
          ],
          "scattermapbox": [
           {
            "marker": {
             "colorbar": {
              "outlinewidth": 0,
              "ticks": ""
             }
            },
            "type": "scattermapbox"
           }
          ],
          "scatterpolar": [
           {
            "marker": {
             "colorbar": {
              "outlinewidth": 0,
              "ticks": ""
             }
            },
            "type": "scatterpolar"
           }
          ],
          "scatterpolargl": [
           {
            "marker": {
             "colorbar": {
              "outlinewidth": 0,
              "ticks": ""
             }
            },
            "type": "scatterpolargl"
           }
          ],
          "scatterternary": [
           {
            "marker": {
             "colorbar": {
              "outlinewidth": 0,
              "ticks": ""
             }
            },
            "type": "scatterternary"
           }
          ],
          "surface": [
           {
            "colorbar": {
             "outlinewidth": 0,
             "ticks": ""
            },
            "colorscale": [
             [
              0,
              "#0d0887"
             ],
             [
              0.1111111111111111,
              "#46039f"
             ],
             [
              0.2222222222222222,
              "#7201a8"
             ],
             [
              0.3333333333333333,
              "#9c179e"
             ],
             [
              0.4444444444444444,
              "#bd3786"
             ],
             [
              0.5555555555555556,
              "#d8576b"
             ],
             [
              0.6666666666666666,
              "#ed7953"
             ],
             [
              0.7777777777777778,
              "#fb9f3a"
             ],
             [
              0.8888888888888888,
              "#fdca26"
             ],
             [
              1,
              "#f0f921"
             ]
            ],
            "type": "surface"
           }
          ],
          "table": [
           {
            "cells": {
             "fill": {
              "color": "#EBF0F8"
             },
             "line": {
              "color": "white"
             }
            },
            "header": {
             "fill": {
              "color": "#C8D4E3"
             },
             "line": {
              "color": "white"
             }
            },
            "type": "table"
           }
          ]
         },
         "layout": {
          "annotationdefaults": {
           "arrowcolor": "#2a3f5f",
           "arrowhead": 0,
           "arrowwidth": 1
          },
          "autotypenumbers": "strict",
          "coloraxis": {
           "colorbar": {
            "outlinewidth": 0,
            "ticks": ""
           }
          },
          "colorscale": {
           "diverging": [
            [
             0,
             "#8e0152"
            ],
            [
             0.1,
             "#c51b7d"
            ],
            [
             0.2,
             "#de77ae"
            ],
            [
             0.3,
             "#f1b6da"
            ],
            [
             0.4,
             "#fde0ef"
            ],
            [
             0.5,
             "#f7f7f7"
            ],
            [
             0.6,
             "#e6f5d0"
            ],
            [
             0.7,
             "#b8e186"
            ],
            [
             0.8,
             "#7fbc41"
            ],
            [
             0.9,
             "#4d9221"
            ],
            [
             1,
             "#276419"
            ]
           ],
           "sequential": [
            [
             0,
             "#0d0887"
            ],
            [
             0.1111111111111111,
             "#46039f"
            ],
            [
             0.2222222222222222,
             "#7201a8"
            ],
            [
             0.3333333333333333,
             "#9c179e"
            ],
            [
             0.4444444444444444,
             "#bd3786"
            ],
            [
             0.5555555555555556,
             "#d8576b"
            ],
            [
             0.6666666666666666,
             "#ed7953"
            ],
            [
             0.7777777777777778,
             "#fb9f3a"
            ],
            [
             0.8888888888888888,
             "#fdca26"
            ],
            [
             1,
             "#f0f921"
            ]
           ],
           "sequentialminus": [
            [
             0,
             "#0d0887"
            ],
            [
             0.1111111111111111,
             "#46039f"
            ],
            [
             0.2222222222222222,
             "#7201a8"
            ],
            [
             0.3333333333333333,
             "#9c179e"
            ],
            [
             0.4444444444444444,
             "#bd3786"
            ],
            [
             0.5555555555555556,
             "#d8576b"
            ],
            [
             0.6666666666666666,
             "#ed7953"
            ],
            [
             0.7777777777777778,
             "#fb9f3a"
            ],
            [
             0.8888888888888888,
             "#fdca26"
            ],
            [
             1,
             "#f0f921"
            ]
           ]
          },
          "colorway": [
           "#636efa",
           "#EF553B",
           "#00cc96",
           "#ab63fa",
           "#FFA15A",
           "#19d3f3",
           "#FF6692",
           "#B6E880",
           "#FF97FF",
           "#FECB52"
          ],
          "font": {
           "color": "#2a3f5f"
          },
          "geo": {
           "bgcolor": "white",
           "lakecolor": "white",
           "landcolor": "#E5ECF6",
           "showlakes": true,
           "showland": true,
           "subunitcolor": "white"
          },
          "hoverlabel": {
           "align": "left"
          },
          "hovermode": "closest",
          "mapbox": {
           "style": "light"
          },
          "paper_bgcolor": "white",
          "plot_bgcolor": "#E5ECF6",
          "polar": {
           "angularaxis": {
            "gridcolor": "white",
            "linecolor": "white",
            "ticks": ""
           },
           "bgcolor": "#E5ECF6",
           "radialaxis": {
            "gridcolor": "white",
            "linecolor": "white",
            "ticks": ""
           }
          },
          "scene": {
           "xaxis": {
            "backgroundcolor": "#E5ECF6",
            "gridcolor": "white",
            "gridwidth": 2,
            "linecolor": "white",
            "showbackground": true,
            "ticks": "",
            "zerolinecolor": "white"
           },
           "yaxis": {
            "backgroundcolor": "#E5ECF6",
            "gridcolor": "white",
            "gridwidth": 2,
            "linecolor": "white",
            "showbackground": true,
            "ticks": "",
            "zerolinecolor": "white"
           },
           "zaxis": {
            "backgroundcolor": "#E5ECF6",
            "gridcolor": "white",
            "gridwidth": 2,
            "linecolor": "white",
            "showbackground": true,
            "ticks": "",
            "zerolinecolor": "white"
           }
          },
          "shapedefaults": {
           "line": {
            "color": "#2a3f5f"
           }
          },
          "ternary": {
           "aaxis": {
            "gridcolor": "white",
            "linecolor": "white",
            "ticks": ""
           },
           "baxis": {
            "gridcolor": "white",
            "linecolor": "white",
            "ticks": ""
           },
           "bgcolor": "#E5ECF6",
           "caxis": {
            "gridcolor": "white",
            "linecolor": "white",
            "ticks": ""
           }
          },
          "title": {
           "x": 0.05
          },
          "xaxis": {
           "automargin": true,
           "gridcolor": "white",
           "linecolor": "white",
           "ticks": "",
           "title": {
            "standoff": 15
           },
           "zerolinecolor": "white",
           "zerolinewidth": 2
          },
          "yaxis": {
           "automargin": true,
           "gridcolor": "white",
           "linecolor": "white",
           "ticks": "",
           "title": {
            "standoff": 15
           },
           "zerolinecolor": "white",
           "zerolinewidth": 2
          }
         }
        },
        "title": {
         "text": "Top 3 Participating Countries"
        },
        "xaxis": {
         "anchor": "y",
         "domain": [
          0,
          1
         ],
         "title": {
          "text": "peak_name"
         }
        },
        "yaxis": {
         "anchor": "x",
         "domain": [
          0,
          1
         ],
         "title": {
          "text": "ascents"
         }
        }
       }
      },
      "text/html": [
       "<div>                            <div id=\"97be2523-7d31-44ff-8d0a-0914fc78f6bf\" class=\"plotly-graph-div\" style=\"height:525px; width:100%;\"></div>            <script type=\"text/javascript\">                require([\"plotly\"], function(Plotly) {                    window.PLOTLYENV=window.PLOTLYENV || {};                                    if (document.getElementById(\"97be2523-7d31-44ff-8d0a-0914fc78f6bf\")) {                    Plotly.newPlot(                        \"97be2523-7d31-44ff-8d0a-0914fc78f6bf\",                        [{\"alignmentgroup\": \"True\", \"hovertemplate\": \"nationality=USA<br>peak_name=%{x}<br>ascents=%{y}<extra></extra>\", \"legendgroup\": \"USA\", \"marker\": {\"color\": \"#636efa\"}, \"name\": \"USA\", \"offsetgroup\": \"USA\", \"orientation\": \"v\", \"showlegend\": true, \"textposition\": \"auto\", \"type\": \"bar\", \"x\": [\"Everest\", \"Ama Dablam\", \"Cho Oyu\", \"Lhotse\", \"Makalu\", \"Pumori\", \"Annapurna IV\", \"Nuptse\", \"Jannu\", \"Annapurna South\", \"Annapurna II\"], \"xaxis\": \"x\", \"y\": [340, 224, 140, 74, 37, 30, 12, 16, 5, 3, 3], \"yaxis\": \"y\"}, {\"alignmentgroup\": \"True\", \"hovertemplate\": \"nationality=UK<br>peak_name=%{x}<br>ascents=%{y}<extra></extra>\", \"legendgroup\": \"UK\", \"marker\": {\"color\": \"#EF553B\"}, \"name\": \"UK\", \"offsetgroup\": \"UK\", \"orientation\": \"v\", \"showlegend\": true, \"textposition\": \"auto\", \"type\": \"bar\", \"x\": [\"Everest\", \"Ama Dablam\", \"Baruntse\", \"Pumori\", \"Annapurna IV\", \"Nuptse\", \"Annapurna III\", \"Annapurna II\", \"Gaurishankar\"], \"xaxis\": \"x\", \"y\": [196, 149, 40, 19, 8, 11, 8, 8, 5], \"yaxis\": \"y\"}, {\"alignmentgroup\": \"True\", \"hovertemplate\": \"nationality=Japan<br>peak_name=%{x}<br>ascents=%{y}<extra></extra>\", \"legendgroup\": \"Japan\", \"marker\": {\"color\": \"#00cc96\"}, \"name\": \"Japan\", \"offsetgroup\": \"Japan\", \"orientation\": \"v\", \"showlegend\": true, \"textposition\": \"auto\", \"type\": \"bar\", \"x\": [\"Everest\", \"Manaslu\", \"Dhaulagiri I\", \"Pumori\", \"Annapurna I\", \"Annapurna IV\", \"Tukuche\", \"Langtang Lirung\", \"Makalu II\", \"Annapurna III\", \"Annapurna South\", \"Annapurna II\", \"Gaurishankar\"], \"xaxis\": \"x\", \"y\": [139, 75, 48, 24, 22, 11, 16, 16, 7, 5, 12, 10, 10], \"yaxis\": \"y\"}, {\"alignmentgroup\": \"True\", \"hovertemplate\": \"nationality=France<br>peak_name=%{x}<br>ascents=%{y}<extra></extra>\", \"legendgroup\": \"France\", \"marker\": {\"color\": \"#ab63fa\"}, \"name\": \"France\", \"offsetgroup\": \"France\", \"orientation\": \"v\", \"showlegend\": true, \"textposition\": \"auto\", \"type\": \"bar\", \"x\": [\"Ama Dablam\", \"Dhaulagiri I\", \"Makalu\", \"Baruntse\", \"Himlung Himal\", \"Putha Hiunchuli\", \"Tilicho\", \"Tukuche\", \"Makalu II\", \"Jannu\", \"Annapurna South\"], \"xaxis\": \"x\", \"y\": [87, 31, 26, 55, 31, 14, 25, 12, 13, 9, 7], \"yaxis\": \"y\"}, {\"alignmentgroup\": \"True\", \"hovertemplate\": \"nationality=Spain<br>peak_name=%{x}<br>ascents=%{y}<extra></extra>\", \"legendgroup\": \"Spain\", \"marker\": {\"color\": \"#FFA15A\"}, \"name\": \"Spain\", \"offsetgroup\": \"Spain\", \"orientation\": \"v\", \"showlegend\": true, \"textposition\": \"auto\", \"type\": \"bar\", \"x\": [\"Cho Oyu\", \"Manaslu\", \"Dhaulagiri I\", \"Makalu\", \"Annapurna I\", \"Kangchenjunga\", \"Tukuche\", \"Makalu II\", \"Lhotse Shar\"], \"xaxis\": \"x\", \"y\": [152, 58, 52, 37, 30, 16, 4, 6, 8], \"yaxis\": \"y\"}, {\"alignmentgroup\": \"True\", \"hovertemplate\": \"nationality=Italy<br>peak_name=%{x}<br>ascents=%{y}<extra></extra>\", \"legendgroup\": \"Italy\", \"marker\": {\"color\": \"#19d3f3\"}, \"name\": \"Italy\", \"offsetgroup\": \"Italy\", \"orientation\": \"v\", \"showlegend\": true, \"textposition\": \"auto\", \"type\": \"bar\", \"x\": [\"Cho Oyu\", \"Manaslu\", \"Lhotse\", \"Kangchenjunga\", \"Langtang Lirung\"], \"xaxis\": \"x\", \"y\": [108, 54, 31, 15, 4], \"yaxis\": \"y\"}, {\"alignmentgroup\": \"True\", \"hovertemplate\": \"nationality=S Korea<br>peak_name=%{x}<br>ascents=%{y}<extra></extra>\", \"legendgroup\": \"S Korea\", \"marker\": {\"color\": \"#FF6692\"}, \"name\": \"S Korea\", \"offsetgroup\": \"S Korea\", \"orientation\": \"v\", \"showlegend\": true, \"textposition\": \"auto\", \"type\": \"bar\", \"x\": [\"Lhotse\", \"Annapurna I\", \"Langtang Lirung\", \"Annapurna III\", \"Lhotse Shar\", \"Gaurishankar\"], \"xaxis\": \"x\", \"y\": [39, 25, 4, 4, 7, 3], \"yaxis\": \"y\"}, {\"alignmentgroup\": \"True\", \"hovertemplate\": \"nationality=Germany<br>peak_name=%{x}<br>ascents=%{y}<extra></extra>\", \"legendgroup\": \"Germany\", \"marker\": {\"color\": \"#B6E880\"}, \"name\": \"Germany\", \"offsetgroup\": \"Germany\", \"orientation\": \"v\", \"showlegend\": true, \"textposition\": \"auto\", \"type\": \"bar\", \"x\": [\"Baruntse\", \"Himlung Himal\", \"Putha Hiunchuli\"], \"xaxis\": \"x\", \"y\": [29, 28, 15], \"yaxis\": \"y\"}, {\"alignmentgroup\": \"True\", \"hovertemplate\": \"nationality=India<br>peak_name=%{x}<br>ascents=%{y}<extra></extra>\", \"legendgroup\": \"India\", \"marker\": {\"color\": \"#FF97FF\"}, \"name\": \"India\", \"offsetgroup\": \"India\", \"orientation\": \"v\", \"showlegend\": true, \"textposition\": \"auto\", \"type\": \"bar\", \"x\": [\"Kangchenjunga\"], \"xaxis\": \"x\", \"y\": [16], \"yaxis\": \"y\"}, {\"alignmentgroup\": \"True\", \"hovertemplate\": \"nationality=Switzerland<br>peak_name=%{x}<br>ascents=%{y}<extra></extra>\", \"legendgroup\": \"Switzerland\", \"marker\": {\"color\": \"#FECB52\"}, \"name\": \"Switzerland\", \"offsetgroup\": \"Switzerland\", \"orientation\": \"v\", \"showlegend\": true, \"textposition\": \"auto\", \"type\": \"bar\", \"x\": [\"Himlung Himal\", \"Tilicho\", \"Jannu\", \"Lhotse Shar\"], \"xaxis\": \"x\", \"y\": [16, 10, 5, 5], \"yaxis\": \"y\"}, {\"alignmentgroup\": \"True\", \"hovertemplate\": \"nationality=Austria<br>peak_name=%{x}<br>ascents=%{y}<extra></extra>\", \"legendgroup\": \"Austria\", \"marker\": {\"color\": \"#636efa\"}, \"name\": \"Austria\", \"offsetgroup\": \"Austria\", \"orientation\": \"v\", \"showlegend\": true, \"textposition\": \"auto\", \"type\": \"bar\", \"x\": [\"Putha Hiunchuli\", \"Tilicho\"], \"xaxis\": \"x\", \"y\": [13, 8], \"yaxis\": \"y\"}, {\"alignmentgroup\": \"True\", \"hovertemplate\": \"nationality=Canada<br>peak_name=%{x}<br>ascents=%{y}<extra></extra>\", \"legendgroup\": \"Canada\", \"marker\": {\"color\": \"#EF553B\"}, \"name\": \"Canada\", \"offsetgroup\": \"Canada\", \"orientation\": \"v\", \"showlegend\": true, \"textposition\": \"auto\", \"type\": \"bar\", \"x\": [\"Nuptse\"], \"xaxis\": \"x\", \"y\": [4], \"yaxis\": \"y\"}],                        {\"barmode\": \"relative\", \"legend\": {\"title\": {\"text\": \"nationality\"}, \"tracegroupgap\": 0}, \"template\": {\"data\": {\"bar\": [{\"error_x\": {\"color\": \"#2a3f5f\"}, \"error_y\": {\"color\": \"#2a3f5f\"}, \"marker\": {\"line\": {\"color\": \"#E5ECF6\", \"width\": 0.5}}, \"type\": \"bar\"}], \"barpolar\": [{\"marker\": {\"line\": {\"color\": \"#E5ECF6\", \"width\": 0.5}}, \"type\": \"barpolar\"}], \"carpet\": [{\"aaxis\": {\"endlinecolor\": \"#2a3f5f\", \"gridcolor\": \"white\", \"linecolor\": \"white\", \"minorgridcolor\": \"white\", \"startlinecolor\": \"#2a3f5f\"}, \"baxis\": {\"endlinecolor\": \"#2a3f5f\", \"gridcolor\": \"white\", \"linecolor\": \"white\", \"minorgridcolor\": \"white\", \"startlinecolor\": \"#2a3f5f\"}, \"type\": \"carpet\"}], \"choropleth\": [{\"colorbar\": {\"outlinewidth\": 0, \"ticks\": \"\"}, \"type\": \"choropleth\"}], \"contour\": [{\"colorbar\": {\"outlinewidth\": 0, \"ticks\": \"\"}, \"colorscale\": [[0.0, \"#0d0887\"], [0.1111111111111111, \"#46039f\"], [0.2222222222222222, \"#7201a8\"], [0.3333333333333333, \"#9c179e\"], [0.4444444444444444, \"#bd3786\"], [0.5555555555555556, \"#d8576b\"], [0.6666666666666666, \"#ed7953\"], [0.7777777777777778, \"#fb9f3a\"], [0.8888888888888888, \"#fdca26\"], [1.0, \"#f0f921\"]], \"type\": \"contour\"}], \"contourcarpet\": [{\"colorbar\": {\"outlinewidth\": 0, \"ticks\": \"\"}, \"type\": \"contourcarpet\"}], \"heatmap\": [{\"colorbar\": {\"outlinewidth\": 0, \"ticks\": \"\"}, \"colorscale\": [[0.0, \"#0d0887\"], [0.1111111111111111, \"#46039f\"], [0.2222222222222222, \"#7201a8\"], [0.3333333333333333, \"#9c179e\"], [0.4444444444444444, \"#bd3786\"], [0.5555555555555556, \"#d8576b\"], [0.6666666666666666, \"#ed7953\"], [0.7777777777777778, \"#fb9f3a\"], [0.8888888888888888, \"#fdca26\"], [1.0, \"#f0f921\"]], \"type\": \"heatmap\"}], \"heatmapgl\": [{\"colorbar\": {\"outlinewidth\": 0, \"ticks\": \"\"}, \"colorscale\": [[0.0, \"#0d0887\"], [0.1111111111111111, \"#46039f\"], [0.2222222222222222, \"#7201a8\"], [0.3333333333333333, \"#9c179e\"], [0.4444444444444444, \"#bd3786\"], [0.5555555555555556, \"#d8576b\"], [0.6666666666666666, \"#ed7953\"], [0.7777777777777778, \"#fb9f3a\"], [0.8888888888888888, \"#fdca26\"], [1.0, \"#f0f921\"]], \"type\": \"heatmapgl\"}], \"histogram\": [{\"marker\": {\"colorbar\": {\"outlinewidth\": 0, \"ticks\": \"\"}}, \"type\": \"histogram\"}], \"histogram2d\": [{\"colorbar\": {\"outlinewidth\": 0, \"ticks\": \"\"}, \"colorscale\": [[0.0, \"#0d0887\"], [0.1111111111111111, \"#46039f\"], [0.2222222222222222, \"#7201a8\"], [0.3333333333333333, \"#9c179e\"], [0.4444444444444444, \"#bd3786\"], [0.5555555555555556, \"#d8576b\"], [0.6666666666666666, \"#ed7953\"], [0.7777777777777778, \"#fb9f3a\"], [0.8888888888888888, \"#fdca26\"], [1.0, \"#f0f921\"]], \"type\": \"histogram2d\"}], \"histogram2dcontour\": [{\"colorbar\": {\"outlinewidth\": 0, \"ticks\": \"\"}, \"colorscale\": [[0.0, \"#0d0887\"], [0.1111111111111111, \"#46039f\"], [0.2222222222222222, \"#7201a8\"], [0.3333333333333333, \"#9c179e\"], [0.4444444444444444, \"#bd3786\"], [0.5555555555555556, \"#d8576b\"], [0.6666666666666666, \"#ed7953\"], [0.7777777777777778, \"#fb9f3a\"], [0.8888888888888888, \"#fdca26\"], [1.0, \"#f0f921\"]], \"type\": \"histogram2dcontour\"}], \"mesh3d\": [{\"colorbar\": {\"outlinewidth\": 0, \"ticks\": \"\"}, \"type\": \"mesh3d\"}], \"parcoords\": [{\"line\": {\"colorbar\": {\"outlinewidth\": 0, \"ticks\": \"\"}}, \"type\": \"parcoords\"}], \"pie\": [{\"automargin\": true, \"type\": \"pie\"}], \"scatter\": [{\"marker\": {\"colorbar\": {\"outlinewidth\": 0, \"ticks\": \"\"}}, \"type\": \"scatter\"}], \"scatter3d\": [{\"line\": {\"colorbar\": {\"outlinewidth\": 0, \"ticks\": \"\"}}, \"marker\": {\"colorbar\": {\"outlinewidth\": 0, \"ticks\": \"\"}}, \"type\": \"scatter3d\"}], \"scattercarpet\": [{\"marker\": {\"colorbar\": {\"outlinewidth\": 0, \"ticks\": \"\"}}, \"type\": \"scattercarpet\"}], \"scattergeo\": [{\"marker\": {\"colorbar\": {\"outlinewidth\": 0, \"ticks\": \"\"}}, \"type\": \"scattergeo\"}], \"scattergl\": [{\"marker\": {\"colorbar\": {\"outlinewidth\": 0, \"ticks\": \"\"}}, \"type\": \"scattergl\"}], \"scattermapbox\": [{\"marker\": {\"colorbar\": {\"outlinewidth\": 0, \"ticks\": \"\"}}, \"type\": \"scattermapbox\"}], \"scatterpolar\": [{\"marker\": {\"colorbar\": {\"outlinewidth\": 0, \"ticks\": \"\"}}, \"type\": \"scatterpolar\"}], \"scatterpolargl\": [{\"marker\": {\"colorbar\": {\"outlinewidth\": 0, \"ticks\": \"\"}}, \"type\": \"scatterpolargl\"}], \"scatterternary\": [{\"marker\": {\"colorbar\": {\"outlinewidth\": 0, \"ticks\": \"\"}}, \"type\": \"scatterternary\"}], \"surface\": [{\"colorbar\": {\"outlinewidth\": 0, \"ticks\": \"\"}, \"colorscale\": [[0.0, \"#0d0887\"], [0.1111111111111111, \"#46039f\"], [0.2222222222222222, \"#7201a8\"], [0.3333333333333333, \"#9c179e\"], [0.4444444444444444, \"#bd3786\"], [0.5555555555555556, \"#d8576b\"], [0.6666666666666666, \"#ed7953\"], [0.7777777777777778, \"#fb9f3a\"], [0.8888888888888888, \"#fdca26\"], [1.0, \"#f0f921\"]], \"type\": \"surface\"}], \"table\": [{\"cells\": {\"fill\": {\"color\": \"#EBF0F8\"}, \"line\": {\"color\": \"white\"}}, \"header\": {\"fill\": {\"color\": \"#C8D4E3\"}, \"line\": {\"color\": \"white\"}}, \"type\": \"table\"}]}, \"layout\": {\"annotationdefaults\": {\"arrowcolor\": \"#2a3f5f\", \"arrowhead\": 0, \"arrowwidth\": 1}, \"autotypenumbers\": \"strict\", \"coloraxis\": {\"colorbar\": {\"outlinewidth\": 0, \"ticks\": \"\"}}, \"colorscale\": {\"diverging\": [[0, \"#8e0152\"], [0.1, \"#c51b7d\"], [0.2, \"#de77ae\"], [0.3, \"#f1b6da\"], [0.4, \"#fde0ef\"], [0.5, \"#f7f7f7\"], [0.6, \"#e6f5d0\"], [0.7, \"#b8e186\"], [0.8, \"#7fbc41\"], [0.9, \"#4d9221\"], [1, \"#276419\"]], \"sequential\": [[0.0, \"#0d0887\"], [0.1111111111111111, \"#46039f\"], [0.2222222222222222, \"#7201a8\"], [0.3333333333333333, \"#9c179e\"], [0.4444444444444444, \"#bd3786\"], [0.5555555555555556, \"#d8576b\"], [0.6666666666666666, \"#ed7953\"], [0.7777777777777778, \"#fb9f3a\"], [0.8888888888888888, \"#fdca26\"], [1.0, \"#f0f921\"]], \"sequentialminus\": [[0.0, \"#0d0887\"], [0.1111111111111111, \"#46039f\"], [0.2222222222222222, \"#7201a8\"], [0.3333333333333333, \"#9c179e\"], [0.4444444444444444, \"#bd3786\"], [0.5555555555555556, \"#d8576b\"], [0.6666666666666666, \"#ed7953\"], [0.7777777777777778, \"#fb9f3a\"], [0.8888888888888888, \"#fdca26\"], [1.0, \"#f0f921\"]]}, \"colorway\": [\"#636efa\", \"#EF553B\", \"#00cc96\", \"#ab63fa\", \"#FFA15A\", \"#19d3f3\", \"#FF6692\", \"#B6E880\", \"#FF97FF\", \"#FECB52\"], \"font\": {\"color\": \"#2a3f5f\"}, \"geo\": {\"bgcolor\": \"white\", \"lakecolor\": \"white\", \"landcolor\": \"#E5ECF6\", \"showlakes\": true, \"showland\": true, \"subunitcolor\": \"white\"}, \"hoverlabel\": {\"align\": \"left\"}, \"hovermode\": \"closest\", \"mapbox\": {\"style\": \"light\"}, \"paper_bgcolor\": \"white\", \"plot_bgcolor\": \"#E5ECF6\", \"polar\": {\"angularaxis\": {\"gridcolor\": \"white\", \"linecolor\": \"white\", \"ticks\": \"\"}, \"bgcolor\": \"#E5ECF6\", \"radialaxis\": {\"gridcolor\": \"white\", \"linecolor\": \"white\", \"ticks\": \"\"}}, \"scene\": {\"xaxis\": {\"backgroundcolor\": \"#E5ECF6\", \"gridcolor\": \"white\", \"gridwidth\": 2, \"linecolor\": \"white\", \"showbackground\": true, \"ticks\": \"\", \"zerolinecolor\": \"white\"}, \"yaxis\": {\"backgroundcolor\": \"#E5ECF6\", \"gridcolor\": \"white\", \"gridwidth\": 2, \"linecolor\": \"white\", \"showbackground\": true, \"ticks\": \"\", \"zerolinecolor\": \"white\"}, \"zaxis\": {\"backgroundcolor\": \"#E5ECF6\", \"gridcolor\": \"white\", \"gridwidth\": 2, \"linecolor\": \"white\", \"showbackground\": true, \"ticks\": \"\", \"zerolinecolor\": \"white\"}}, \"shapedefaults\": {\"line\": {\"color\": \"#2a3f5f\"}}, \"ternary\": {\"aaxis\": {\"gridcolor\": \"white\", \"linecolor\": \"white\", \"ticks\": \"\"}, \"baxis\": {\"gridcolor\": \"white\", \"linecolor\": \"white\", \"ticks\": \"\"}, \"bgcolor\": \"#E5ECF6\", \"caxis\": {\"gridcolor\": \"white\", \"linecolor\": \"white\", \"ticks\": \"\"}}, \"title\": {\"x\": 0.05}, \"xaxis\": {\"automargin\": true, \"gridcolor\": \"white\", \"linecolor\": \"white\", \"ticks\": \"\", \"title\": {\"standoff\": 15}, \"zerolinecolor\": \"white\", \"zerolinewidth\": 2}, \"yaxis\": {\"automargin\": true, \"gridcolor\": \"white\", \"linecolor\": \"white\", \"ticks\": \"\", \"title\": {\"standoff\": 15}, \"zerolinecolor\": \"white\", \"zerolinewidth\": 2}}}, \"title\": {\"text\": \"Top 3 Participating Countries\"}, \"xaxis\": {\"anchor\": \"y\", \"domain\": [0.0, 1.0], \"title\": {\"text\": \"peak_name\"}}, \"yaxis\": {\"anchor\": \"x\", \"domain\": [0.0, 1.0], \"title\": {\"text\": \"ascents\"}}},                        {\"responsive\": true}                    ).then(function(){\n",
       "                            \n",
       "var gd = document.getElementById('97be2523-7d31-44ff-8d0a-0914fc78f6bf');\n",
       "var x = new MutationObserver(function (mutations, observer) {{\n",
       "        var display = window.getComputedStyle(gd).display;\n",
       "        if (!display || display === 'none') {{\n",
       "            console.log([gd, 'removed!']);\n",
       "            Plotly.purge(gd);\n",
       "            observer.disconnect();\n",
       "        }}\n",
       "}});\n",
       "\n",
       "// Listen for the removal of the full notebook cells\n",
       "var notebookContainer = gd.closest('#notebook-container');\n",
       "if (notebookContainer) {{\n",
       "    x.observe(notebookContainer, {childList: true});\n",
       "}}\n",
       "\n",
       "// Listen for the clearing of the current output cell\n",
       "var outputEl = gd.closest('.output');\n",
       "if (outputEl) {{\n",
       "    x.observe(outputEl, {childList: true});\n",
       "}}\n",
       "\n",
       "                        })                };                });            </script>        </div>"
      ]
     },
     "metadata": {},
     "output_type": "display_data"
    }
   ],
   "source": [
    "# Itermediate DF\n",
    "tmp_df = data\\\n",
    "    .query(\"peak_name in @top_25_mountains\")\\\n",
    "    .groupby(['peak_name', 'nationality'], as_index=False)\\\n",
    "    .agg({'peak_id': 'count'}).rename(columns={'peak_id': 'ascents'})\n",
    "\n",
    "top_countries_on_top_peaks = pd.DataFrame()\n",
    "for peak in top_25_mountains:\n",
    "    top_countries_on_top_peaks = top_countries_on_top_peaks.append(\n",
    "        tmp_df.query('peak_name == @peak').sort_values('ascents', ascending=False)[:3]\n",
    "    )\n",
    "    \n",
    "fig = px.bar(top_countries_on_top_peaks,\n",
    "             x='peak_name',\n",
    "             y='ascents',\n",
    "             color='nationality',\n",
    "             title='Top 3 Participating Countries',\n",
    "             color_continuous_scale=px.colors.sequential.Bluyl) \n",
    "fig.show() "
   ]
  },
  {
   "cell_type": "markdown",
   "metadata": {},
   "source": [
    "### Number of Expeditions by Year"
   ]
  },
  {
   "cell_type": "code",
   "execution_count": 9,
   "metadata": {},
   "outputs": [
    {
     "data": {
      "image/png": "[encoded data removed]",
      "text/plain": [
       "<Figure size 1440x432 with 1 Axes>"
      ]
     },
     "metadata": {},
     "output_type": "display_data"
    }
   ],
   "source": [
    "year_exped_trend = data\\\n",
    "    .query(\"peak_name in @top_25_mountains\")\\\n",
    "    .groupby('year', as_index=False)\\\n",
    "    .agg({'peak_id': 'count'}).rename(columns={'peak_id':'ascents'})\n",
    "\n",
    "\n",
    "plt.figure(figsize=(20, 6))\n",
    "sns.barplot(x=year_exped_trend['year'],\n",
    "            y=year_exped_trend['ascents'],\n",
    "            order=year_exped_trend['year'].sort_values(ascending=False))\n",
    "plt.xticks(rotation=45);"
   ]
  },
  {
   "cell_type": "markdown",
   "metadata": {},
   "source": [
    "**Some insights:**\n",
    "- 2020: Coronavirus\n",
    "- 2015: Earthquake"
   ]
  },
  {
   "cell_type": "markdown",
   "metadata": {},
   "source": [
    "### Popular Season to Climb"
   ]
  },
  {
   "cell_type": "code",
   "execution_count": 10,
   "metadata": {},
   "outputs": [
    {
     "data": {
      "application/vnd.plotly.v1+json": {
       "config": {
        "plotlyServerURL": "https://plot.ly"
       },
       "data": [
        {
         "alignmentgroup": "True",
         "hovertemplate": "season=Autumn<br>peak_name=%{x}<br>ascents=%{y}<extra></extra>",
         "legendgroup": "Autumn",
         "marker": {
          "color": "#636efa"
         },
         "name": "Autumn",
         "offsetgroup": "Autumn",
         "orientation": "v",
         "showlegend": true,
         "textposition": "auto",
         "type": "bar",
         "x": [
          "Ama Dablam",
          "Annapurna I",
          "Annapurna II",
          "Annapurna III",
          "Annapurna IV",
          "Annapurna South",
          "Baruntse",
          "Cho Oyu",
          "Dhaulagiri I",
          "Everest",
          "Gaurishankar",
          "Himlung Himal",
          "Jannu",
          "Kangchenjunga",
          "Langtang Lirung",
          "Lhotse",
          "Lhotse Shar",
          "Makalu",
          "Makalu II",
          "Manaslu",
          "Nuptse",
          "Pumori",
          "Putha Hiunchuli",
          "Tilicho",
          "Tukuche"
         ],
         "xaxis": "x",
         "y": [
          1126,
          84,
          18,
          29,
          66,
          19,
          230,
          856,
          165,
          227,
          21,
          136,
          22,
          29,
          28,
          63,
          18,
          97,
          29,
          481,
          25,
          173,
          77,
          70,
          43
         ],
         "yaxis": "y"
        },
        {
         "alignmentgroup": "True",
         "hovertemplate": "season=Spring<br>peak_name=%{x}<br>ascents=%{y}<extra></extra>",
         "legendgroup": "Spring",
         "marker": {
          "color": "#EF553B"
         },
         "name": "Spring",
         "offsetgroup": "Spring",
         "orientation": "v",
         "showlegend": true,
         "textposition": "auto",
         "type": "bar",
         "x": [
          "Ama Dablam",
          "Annapurna I",
          "Annapurna II",
          "Annapurna III",
          "Annapurna IV",
          "Annapurna South",
          "Baruntse",
          "Cho Oyu",
          "Dhaulagiri I",
          "Everest",
          "Gaurishankar",
          "Himlung Himal",
          "Jannu",
          "Kangchenjunga",
          "Langtang Lirung",
          "Lhotse",
          "Lhotse Shar",
          "Makalu",
          "Makalu II",
          "Manaslu",
          "Nuptse",
          "Pumori",
          "Putha Hiunchuli",
          "Tilicho",
          "Tukuche"
         ],
         "xaxis": "x",
         "y": [
          230,
          134,
          14,
          8,
          28,
          13,
          80,
          466,
          209,
          1871,
          10,
          23,
          19,
          149,
          14,
          359,
          18,
          245,
          18,
          176,
          29,
          74,
          21,
          13,
          17
         ],
         "yaxis": "y"
        },
        {
         "alignmentgroup": "True",
         "hovertemplate": "season=Winter<br>peak_name=%{x}<br>ascents=%{y}<extra></extra>",
         "legendgroup": "Winter",
         "marker": {
          "color": "#00cc96"
         },
         "name": "Winter",
         "offsetgroup": "Winter",
         "orientation": "v",
         "showlegend": true,
         "textposition": "auto",
         "type": "bar",
         "x": [
          "Ama Dablam",
          "Annapurna I",
          "Annapurna II",
          "Annapurna IV",
          "Annapurna South",
          "Baruntse",
          "Cho Oyu",
          "Dhaulagiri I",
          "Everest",
          "Gaurishankar",
          "Himlung Himal",
          "Jannu",
          "Kangchenjunga",
          "Langtang Lirung",
          "Lhotse",
          "Makalu",
          "Manaslu",
          "Nuptse",
          "Pumori",
          "Tilicho",
          "Tukuche"
         ],
         "xaxis": "x",
         "y": [
          73,
          22,
          2,
          2,
          3,
          1,
          12,
          13,
          33,
          2,
          1,
          3,
          3,
          6,
          8,
          14,
          19,
          2,
          18,
          4,
          2
         ],
         "yaxis": "y"
        },
        {
         "alignmentgroup": "True",
         "hovertemplate": "season=Summer<br>peak_name=%{x}<br>ascents=%{y}<extra></extra>",
         "legendgroup": "Summer",
         "marker": {
          "color": "#ab63fa"
         },
         "name": "Summer",
         "offsetgroup": "Summer",
         "orientation": "v",
         "showlegend": true,
         "textposition": "auto",
         "type": "bar",
         "x": [
          "Annapurna I",
          "Annapurna II",
          "Annapurna IV",
          "Annapurna South",
          "Cho Oyu",
          "Dhaulagiri I",
          "Everest",
          "Himlung Himal",
          "Kangchenjunga",
          "Langtang Lirung",
          "Manaslu"
         ],
         "xaxis": "x",
         "y": [
          2,
          1,
          2,
          1,
          7,
          1,
          24,
          2,
          3,
          1,
          1
         ],
         "yaxis": "y"
        },
        {
         "alignmentgroup": "True",
         "hovertemplate": "season=All<br>peak_name=%{x}<br>ascents=%{y}<extra></extra>",
         "legendgroup": "All",
         "marker": {
          "color": "#FFA15A"
         },
         "name": "All",
         "offsetgroup": "All",
         "orientation": "v",
         "showlegend": true,
         "textposition": "auto",
         "type": "bar",
         "x": [
          "Dhaulagiri I"
         ],
         "xaxis": "x",
         "y": [
          1
         ],
         "yaxis": "y"
        }
       ],
       "layout": {
        "barmode": "relative",
        "legend": {
         "title": {
          "text": "season"
         },
         "tracegroupgap": 0
        },
        "template": {
         "data": {
          "bar": [
           {
            "error_x": {
             "color": "#2a3f5f"
            },
            "error_y": {
             "color": "#2a3f5f"
            },
            "marker": {
             "line": {
              "color": "#E5ECF6",
              "width": 0.5
             }
            },
            "type": "bar"
           }
          ],
          "barpolar": [
           {
            "marker": {
             "line": {
              "color": "#E5ECF6",
              "width": 0.5
             }
            },
            "type": "barpolar"
           }
          ],
          "carpet": [
           {
            "aaxis": {
             "endlinecolor": "#2a3f5f",
             "gridcolor": "white",
             "linecolor": "white",
             "minorgridcolor": "white",
             "startlinecolor": "#2a3f5f"
            },
            "baxis": {
             "endlinecolor": "#2a3f5f",
             "gridcolor": "white",
             "linecolor": "white",
             "minorgridcolor": "white",
             "startlinecolor": "#2a3f5f"
            },
            "type": "carpet"
           }
          ],
          "choropleth": [
           {
            "colorbar": {
             "outlinewidth": 0,
             "ticks": ""
            },
            "type": "choropleth"
           }
          ],
          "contour": [
           {
            "colorbar": {
             "outlinewidth": 0,
             "ticks": ""
            },
            "colorscale": [
             [
              0,
              "#0d0887"
             ],
             [
              0.1111111111111111,
              "#46039f"
             ],
             [
              0.2222222222222222,
              "#7201a8"
             ],
             [
              0.3333333333333333,
              "#9c179e"
             ],
             [
              0.4444444444444444,
              "#bd3786"
             ],
             [
              0.5555555555555556,
              "#d8576b"
             ],
             [
              0.6666666666666666,
              "#ed7953"
             ],
             [
              0.7777777777777778,
              "#fb9f3a"
             ],
             [
              0.8888888888888888,
              "#fdca26"
             ],
             [
              1,
              "#f0f921"
             ]
            ],
            "type": "contour"
           }
          ],
          "contourcarpet": [
           {
            "colorbar": {
             "outlinewidth": 0,
             "ticks": ""
            },
            "type": "contourcarpet"
           }
          ],
          "heatmap": [
           {
            "colorbar": {
             "outlinewidth": 0,
             "ticks": ""
            },
            "colorscale": [
             [
              0,
              "#0d0887"
             ],
             [
              0.1111111111111111,
              "#46039f"
             ],
             [
              0.2222222222222222,
              "#7201a8"
             ],
             [
              0.3333333333333333,
              "#9c179e"
             ],
             [
              0.4444444444444444,
              "#bd3786"
             ],
             [
              0.5555555555555556,
              "#d8576b"
             ],
             [
              0.6666666666666666,
              "#ed7953"
             ],
             [
              0.7777777777777778,
              "#fb9f3a"
             ],
             [
              0.8888888888888888,
              "#fdca26"
             ],
             [
              1,
              "#f0f921"
             ]
            ],
            "type": "heatmap"
           }
          ],
          "heatmapgl": [
           {
            "colorbar": {
             "outlinewidth": 0,
             "ticks": ""
            },
            "colorscale": [
             [
              0,
              "#0d0887"
             ],
             [
              0.1111111111111111,
              "#46039f"
             ],
             [
              0.2222222222222222,
              "#7201a8"
             ],
             [
              0.3333333333333333,
              "#9c179e"
             ],
             [
              0.4444444444444444,
              "#bd3786"
             ],
             [
              0.5555555555555556,
              "#d8576b"
             ],
             [
              0.6666666666666666,
              "#ed7953"
             ],
             [
              0.7777777777777778,
              "#fb9f3a"
             ],
             [
              0.8888888888888888,
              "#fdca26"
             ],
             [
              1,
              "#f0f921"
             ]
            ],
            "type": "heatmapgl"
           }
          ],
          "histogram": [
           {
            "marker": {
             "colorbar": {
              "outlinewidth": 0,
              "ticks": ""
             }
            },
            "type": "histogram"
           }
          ],
          "histogram2d": [
           {
            "colorbar": {
             "outlinewidth": 0,
             "ticks": ""
            },
            "colorscale": [
             [
              0,
              "#0d0887"
             ],
             [
              0.1111111111111111,
              "#46039f"
             ],
             [
              0.2222222222222222,
              "#7201a8"
             ],
             [
              0.3333333333333333,
              "#9c179e"
             ],
             [
              0.4444444444444444,
              "#bd3786"
             ],
             [
              0.5555555555555556,
              "#d8576b"
             ],
             [
              0.6666666666666666,
              "#ed7953"
             ],
             [
              0.7777777777777778,
              "#fb9f3a"
             ],
             [
              0.8888888888888888,
              "#fdca26"
             ],
             [
              1,
              "#f0f921"
             ]
            ],
            "type": "histogram2d"
           }
          ],
          "histogram2dcontour": [
           {
            "colorbar": {
             "outlinewidth": 0,
             "ticks": ""
            },
            "colorscale": [
             [
              0,
              "#0d0887"
             ],
             [
              0.1111111111111111,
              "#46039f"
             ],
             [
              0.2222222222222222,
              "#7201a8"
             ],
             [
              0.3333333333333333,
              "#9c179e"
             ],
             [
              0.4444444444444444,
              "#bd3786"
             ],
             [
              0.5555555555555556,
              "#d8576b"
             ],
             [
              0.6666666666666666,
              "#ed7953"
             ],
             [
              0.7777777777777778,
              "#fb9f3a"
             ],
             [
              0.8888888888888888,
              "#fdca26"
             ],
             [
              1,
              "#f0f921"
             ]
            ],
            "type": "histogram2dcontour"
           }
          ],
          "mesh3d": [
           {
            "colorbar": {
             "outlinewidth": 0,
             "ticks": ""
            },
            "type": "mesh3d"
           }
          ],
          "parcoords": [
           {
            "line": {
             "colorbar": {
              "outlinewidth": 0,
              "ticks": ""
             }
            },
            "type": "parcoords"
           }
          ],
          "pie": [
           {
            "automargin": true,
            "type": "pie"
           }
          ],
          "scatter": [
           {
            "marker": {
             "colorbar": {
              "outlinewidth": 0,
              "ticks": ""
             }
            },
            "type": "scatter"
           }
          ],
          "scatter3d": [
           {
            "line": {
             "colorbar": {
              "outlinewidth": 0,
              "ticks": ""
             }
            },
            "marker": {
             "colorbar": {
              "outlinewidth": 0,
              "ticks": ""
             }
            },
            "type": "scatter3d"
           }
          ],
          "scattercarpet": [
           {
            "marker": {
             "colorbar": {
              "outlinewidth": 0,
              "ticks": ""
             }
            },
            "type": "scattercarpet"
           }
          ],
          "scattergeo": [
           {
            "marker": {
             "colorbar": {
              "outlinewidth": 0,
              "ticks": ""
             }
            },
            "type": "scattergeo"
           }
          ],
          "scattergl": [
           {
            "marker": {
             "colorbar": {
              "outlinewidth": 0,
              "ticks": ""
             }
            },
            "type": "scattergl"
           }
          ],
          "scattermapbox": [
           {
            "marker": {
             "colorbar": {
              "outlinewidth": 0,
              "ticks": ""
             }
            },
            "type": "scattermapbox"
           }
          ],
          "scatterpolar": [
           {
            "marker": {
             "colorbar": {
              "outlinewidth": 0,
              "ticks": ""
             }
            },
            "type": "scatterpolar"
           }
          ],
          "scatterpolargl": [
           {
            "marker": {
             "colorbar": {
              "outlinewidth": 0,
              "ticks": ""
             }
            },
            "type": "scatterpolargl"
           }
          ],
          "scatterternary": [
           {
            "marker": {
             "colorbar": {
              "outlinewidth": 0,
              "ticks": ""
             }
            },
            "type": "scatterternary"
           }
          ],
          "surface": [
           {
            "colorbar": {
             "outlinewidth": 0,
             "ticks": ""
            },
            "colorscale": [
             [
              0,
              "#0d0887"
             ],
             [
              0.1111111111111111,
              "#46039f"
             ],
             [
              0.2222222222222222,
              "#7201a8"
             ],
             [
              0.3333333333333333,
              "#9c179e"
             ],
             [
              0.4444444444444444,
              "#bd3786"
             ],
             [
              0.5555555555555556,
              "#d8576b"
             ],
             [
              0.6666666666666666,
              "#ed7953"
             ],
             [
              0.7777777777777778,
              "#fb9f3a"
             ],
             [
              0.8888888888888888,
              "#fdca26"
             ],
             [
              1,
              "#f0f921"
             ]
            ],
            "type": "surface"
           }
          ],
          "table": [
           {
            "cells": {
             "fill": {
              "color": "#EBF0F8"
             },
             "line": {
              "color": "white"
             }
            },
            "header": {
             "fill": {
              "color": "#C8D4E3"
             },
             "line": {
              "color": "white"
             }
            },
            "type": "table"
           }
          ]
         },
         "layout": {
          "annotationdefaults": {
           "arrowcolor": "#2a3f5f",
           "arrowhead": 0,
           "arrowwidth": 1
          },
          "autotypenumbers": "strict",
          "coloraxis": {
           "colorbar": {
            "outlinewidth": 0,
            "ticks": ""
           }
          },
          "colorscale": {
           "diverging": [
            [
             0,
             "#8e0152"
            ],
            [
             0.1,
             "#c51b7d"
            ],
            [
             0.2,
             "#de77ae"
            ],
            [
             0.3,
             "#f1b6da"
            ],
            [
             0.4,
             "#fde0ef"
            ],
            [
             0.5,
             "#f7f7f7"
            ],
            [
             0.6,
             "#e6f5d0"
            ],
            [
             0.7,
             "#b8e186"
            ],
            [
             0.8,
             "#7fbc41"
            ],
            [
             0.9,
             "#4d9221"
            ],
            [
             1,
             "#276419"
            ]
           ],
           "sequential": [
            [
             0,
             "#0d0887"
            ],
            [
             0.1111111111111111,
             "#46039f"
            ],
            [
             0.2222222222222222,
             "#7201a8"
            ],
            [
             0.3333333333333333,
             "#9c179e"
            ],
            [
             0.4444444444444444,
             "#bd3786"
            ],
            [
             0.5555555555555556,
             "#d8576b"
            ],
            [
             0.6666666666666666,
             "#ed7953"
            ],
            [
             0.7777777777777778,
             "#fb9f3a"
            ],
            [
             0.8888888888888888,
             "#fdca26"
            ],
            [
             1,
             "#f0f921"
            ]
           ],
           "sequentialminus": [
            [
             0,
             "#0d0887"
            ],
            [
             0.1111111111111111,
             "#46039f"
            ],
            [
             0.2222222222222222,
             "#7201a8"
            ],
            [
             0.3333333333333333,
             "#9c179e"
            ],
            [
             0.4444444444444444,
             "#bd3786"
            ],
            [
             0.5555555555555556,
             "#d8576b"
            ],
            [
             0.6666666666666666,
             "#ed7953"
            ],
            [
             0.7777777777777778,
             "#fb9f3a"
            ],
            [
             0.8888888888888888,
             "#fdca26"
            ],
            [
             1,
             "#f0f921"
            ]
           ]
          },
          "colorway": [
           "#636efa",
           "#EF553B",
           "#00cc96",
           "#ab63fa",
           "#FFA15A",
           "#19d3f3",
           "#FF6692",
           "#B6E880",
           "#FF97FF",
           "#FECB52"
          ],
          "font": {
           "color": "#2a3f5f"
          },
          "geo": {
           "bgcolor": "white",
           "lakecolor": "white",
           "landcolor": "#E5ECF6",
           "showlakes": true,
           "showland": true,
           "subunitcolor": "white"
          },
          "hoverlabel": {
           "align": "left"
          },
          "hovermode": "closest",
          "mapbox": {
           "style": "light"
          },
          "paper_bgcolor": "white",
          "plot_bgcolor": "#E5ECF6",
          "polar": {
           "angularaxis": {
            "gridcolor": "white",
            "linecolor": "white",
            "ticks": ""
           },
           "bgcolor": "#E5ECF6",
           "radialaxis": {
            "gridcolor": "white",
            "linecolor": "white",
            "ticks": ""
           }
          },
          "scene": {
           "xaxis": {
            "backgroundcolor": "#E5ECF6",
            "gridcolor": "white",
            "gridwidth": 2,
            "linecolor": "white",
            "showbackground": true,
            "ticks": "",
            "zerolinecolor": "white"
           },
           "yaxis": {
            "backgroundcolor": "#E5ECF6",
            "gridcolor": "white",
            "gridwidth": 2,
            "linecolor": "white",
            "showbackground": true,
            "ticks": "",
            "zerolinecolor": "white"
           },
           "zaxis": {
            "backgroundcolor": "#E5ECF6",
            "gridcolor": "white",
            "gridwidth": 2,
            "linecolor": "white",
            "showbackground": true,
            "ticks": "",
            "zerolinecolor": "white"
           }
          },
          "shapedefaults": {
           "line": {
            "color": "#2a3f5f"
           }
          },
          "ternary": {
           "aaxis": {
            "gridcolor": "white",
            "linecolor": "white",
            "ticks": ""
           },
           "baxis": {
            "gridcolor": "white",
            "linecolor": "white",
            "ticks": ""
           },
           "bgcolor": "#E5ECF6",
           "caxis": {
            "gridcolor": "white",
            "linecolor": "white",
            "ticks": ""
           }
          },
          "title": {
           "x": 0.05
          },
          "xaxis": {
           "automargin": true,
           "gridcolor": "white",
           "linecolor": "white",
           "ticks": "",
           "title": {
            "standoff": 15
           },
           "zerolinecolor": "white",
           "zerolinewidth": 2
          },
          "yaxis": {
           "automargin": true,
           "gridcolor": "white",
           "linecolor": "white",
           "ticks": "",
           "title": {
            "standoff": 15
           },
           "zerolinecolor": "white",
           "zerolinewidth": 2
          }
         }
        },
        "title": {
         "text": "Top 3 Participating Countries"
        },
        "xaxis": {
         "anchor": "y",
         "domain": [
          0,
          1
         ],
         "title": {
          "text": "peak_name"
         }
        },
        "yaxis": {
         "anchor": "x",
         "domain": [
          0,
          1
         ],
         "title": {
          "text": "ascents"
         }
        }
       }
      },
      "text/html": [
       "<div>                            <div id=\"1fafb3b6-32cd-4aad-af45-3c7c4490e3f6\" class=\"plotly-graph-div\" style=\"height:525px; width:100%;\"></div>            <script type=\"text/javascript\">                require([\"plotly\"], function(Plotly) {                    window.PLOTLYENV=window.PLOTLYENV || {};                                    if (document.getElementById(\"1fafb3b6-32cd-4aad-af45-3c7c4490e3f6\")) {                    Plotly.newPlot(                        \"1fafb3b6-32cd-4aad-af45-3c7c4490e3f6\",                        [{\"alignmentgroup\": \"True\", \"hovertemplate\": \"season=Autumn<br>peak_name=%{x}<br>ascents=%{y}<extra></extra>\", \"legendgroup\": \"Autumn\", \"marker\": {\"color\": \"#636efa\"}, \"name\": \"Autumn\", \"offsetgroup\": \"Autumn\", \"orientation\": \"v\", \"showlegend\": true, \"textposition\": \"auto\", \"type\": \"bar\", \"x\": [\"Ama Dablam\", \"Annapurna I\", \"Annapurna II\", \"Annapurna III\", \"Annapurna IV\", \"Annapurna South\", \"Baruntse\", \"Cho Oyu\", \"Dhaulagiri I\", \"Everest\", \"Gaurishankar\", \"Himlung Himal\", \"Jannu\", \"Kangchenjunga\", \"Langtang Lirung\", \"Lhotse\", \"Lhotse Shar\", \"Makalu\", \"Makalu II\", \"Manaslu\", \"Nuptse\", \"Pumori\", \"Putha Hiunchuli\", \"Tilicho\", \"Tukuche\"], \"xaxis\": \"x\", \"y\": [1126, 84, 18, 29, 66, 19, 230, 856, 165, 227, 21, 136, 22, 29, 28, 63, 18, 97, 29, 481, 25, 173, 77, 70, 43], \"yaxis\": \"y\"}, {\"alignmentgroup\": \"True\", \"hovertemplate\": \"season=Spring<br>peak_name=%{x}<br>ascents=%{y}<extra></extra>\", \"legendgroup\": \"Spring\", \"marker\": {\"color\": \"#EF553B\"}, \"name\": \"Spring\", \"offsetgroup\": \"Spring\", \"orientation\": \"v\", \"showlegend\": true, \"textposition\": \"auto\", \"type\": \"bar\", \"x\": [\"Ama Dablam\", \"Annapurna I\", \"Annapurna II\", \"Annapurna III\", \"Annapurna IV\", \"Annapurna South\", \"Baruntse\", \"Cho Oyu\", \"Dhaulagiri I\", \"Everest\", \"Gaurishankar\", \"Himlung Himal\", \"Jannu\", \"Kangchenjunga\", \"Langtang Lirung\", \"Lhotse\", \"Lhotse Shar\", \"Makalu\", \"Makalu II\", \"Manaslu\", \"Nuptse\", \"Pumori\", \"Putha Hiunchuli\", \"Tilicho\", \"Tukuche\"], \"xaxis\": \"x\", \"y\": [230, 134, 14, 8, 28, 13, 80, 466, 209, 1871, 10, 23, 19, 149, 14, 359, 18, 245, 18, 176, 29, 74, 21, 13, 17], \"yaxis\": \"y\"}, {\"alignmentgroup\": \"True\", \"hovertemplate\": \"season=Winter<br>peak_name=%{x}<br>ascents=%{y}<extra></extra>\", \"legendgroup\": \"Winter\", \"marker\": {\"color\": \"#00cc96\"}, \"name\": \"Winter\", \"offsetgroup\": \"Winter\", \"orientation\": \"v\", \"showlegend\": true, \"textposition\": \"auto\", \"type\": \"bar\", \"x\": [\"Ama Dablam\", \"Annapurna I\", \"Annapurna II\", \"Annapurna IV\", \"Annapurna South\", \"Baruntse\", \"Cho Oyu\", \"Dhaulagiri I\", \"Everest\", \"Gaurishankar\", \"Himlung Himal\", \"Jannu\", \"Kangchenjunga\", \"Langtang Lirung\", \"Lhotse\", \"Makalu\", \"Manaslu\", \"Nuptse\", \"Pumori\", \"Tilicho\", \"Tukuche\"], \"xaxis\": \"x\", \"y\": [73, 22, 2, 2, 3, 1, 12, 13, 33, 2, 1, 3, 3, 6, 8, 14, 19, 2, 18, 4, 2], \"yaxis\": \"y\"}, {\"alignmentgroup\": \"True\", \"hovertemplate\": \"season=Summer<br>peak_name=%{x}<br>ascents=%{y}<extra></extra>\", \"legendgroup\": \"Summer\", \"marker\": {\"color\": \"#ab63fa\"}, \"name\": \"Summer\", \"offsetgroup\": \"Summer\", \"orientation\": \"v\", \"showlegend\": true, \"textposition\": \"auto\", \"type\": \"bar\", \"x\": [\"Annapurna I\", \"Annapurna II\", \"Annapurna IV\", \"Annapurna South\", \"Cho Oyu\", \"Dhaulagiri I\", \"Everest\", \"Himlung Himal\", \"Kangchenjunga\", \"Langtang Lirung\", \"Manaslu\"], \"xaxis\": \"x\", \"y\": [2, 1, 2, 1, 7, 1, 24, 2, 3, 1, 1], \"yaxis\": \"y\"}, {\"alignmentgroup\": \"True\", \"hovertemplate\": \"season=All<br>peak_name=%{x}<br>ascents=%{y}<extra></extra>\", \"legendgroup\": \"All\", \"marker\": {\"color\": \"#FFA15A\"}, \"name\": \"All\", \"offsetgroup\": \"All\", \"orientation\": \"v\", \"showlegend\": true, \"textposition\": \"auto\", \"type\": \"bar\", \"x\": [\"Dhaulagiri I\"], \"xaxis\": \"x\", \"y\": [1], \"yaxis\": \"y\"}],                        {\"barmode\": \"relative\", \"legend\": {\"title\": {\"text\": \"season\"}, \"tracegroupgap\": 0}, \"template\": {\"data\": {\"bar\": [{\"error_x\": {\"color\": \"#2a3f5f\"}, \"error_y\": {\"color\": \"#2a3f5f\"}, \"marker\": {\"line\": {\"color\": \"#E5ECF6\", \"width\": 0.5}}, \"type\": \"bar\"}], \"barpolar\": [{\"marker\": {\"line\": {\"color\": \"#E5ECF6\", \"width\": 0.5}}, \"type\": \"barpolar\"}], \"carpet\": [{\"aaxis\": {\"endlinecolor\": \"#2a3f5f\", \"gridcolor\": \"white\", \"linecolor\": \"white\", \"minorgridcolor\": \"white\", \"startlinecolor\": \"#2a3f5f\"}, \"baxis\": {\"endlinecolor\": \"#2a3f5f\", \"gridcolor\": \"white\", \"linecolor\": \"white\", \"minorgridcolor\": \"white\", \"startlinecolor\": \"#2a3f5f\"}, \"type\": \"carpet\"}], \"choropleth\": [{\"colorbar\": {\"outlinewidth\": 0, \"ticks\": \"\"}, \"type\": \"choropleth\"}], \"contour\": [{\"colorbar\": {\"outlinewidth\": 0, \"ticks\": \"\"}, \"colorscale\": [[0.0, \"#0d0887\"], [0.1111111111111111, \"#46039f\"], [0.2222222222222222, \"#7201a8\"], [0.3333333333333333, \"#9c179e\"], [0.4444444444444444, \"#bd3786\"], [0.5555555555555556, \"#d8576b\"], [0.6666666666666666, \"#ed7953\"], [0.7777777777777778, \"#fb9f3a\"], [0.8888888888888888, \"#fdca26\"], [1.0, \"#f0f921\"]], \"type\": \"contour\"}], \"contourcarpet\": [{\"colorbar\": {\"outlinewidth\": 0, \"ticks\": \"\"}, \"type\": \"contourcarpet\"}], \"heatmap\": [{\"colorbar\": {\"outlinewidth\": 0, \"ticks\": \"\"}, \"colorscale\": [[0.0, \"#0d0887\"], [0.1111111111111111, \"#46039f\"], [0.2222222222222222, \"#7201a8\"], [0.3333333333333333, \"#9c179e\"], [0.4444444444444444, \"#bd3786\"], [0.5555555555555556, \"#d8576b\"], [0.6666666666666666, \"#ed7953\"], [0.7777777777777778, \"#fb9f3a\"], [0.8888888888888888, \"#fdca26\"], [1.0, \"#f0f921\"]], \"type\": \"heatmap\"}], \"heatmapgl\": [{\"colorbar\": {\"outlinewidth\": 0, \"ticks\": \"\"}, \"colorscale\": [[0.0, \"#0d0887\"], [0.1111111111111111, \"#46039f\"], [0.2222222222222222, \"#7201a8\"], [0.3333333333333333, \"#9c179e\"], [0.4444444444444444, \"#bd3786\"], [0.5555555555555556, \"#d8576b\"], [0.6666666666666666, \"#ed7953\"], [0.7777777777777778, \"#fb9f3a\"], [0.8888888888888888, \"#fdca26\"], [1.0, \"#f0f921\"]], \"type\": \"heatmapgl\"}], \"histogram\": [{\"marker\": {\"colorbar\": {\"outlinewidth\": 0, \"ticks\": \"\"}}, \"type\": \"histogram\"}], \"histogram2d\": [{\"colorbar\": {\"outlinewidth\": 0, \"ticks\": \"\"}, \"colorscale\": [[0.0, \"#0d0887\"], [0.1111111111111111, \"#46039f\"], [0.2222222222222222, \"#7201a8\"], [0.3333333333333333, \"#9c179e\"], [0.4444444444444444, \"#bd3786\"], [0.5555555555555556, \"#d8576b\"], [0.6666666666666666, \"#ed7953\"], [0.7777777777777778, \"#fb9f3a\"], [0.8888888888888888, \"#fdca26\"], [1.0, \"#f0f921\"]], \"type\": \"histogram2d\"}], \"histogram2dcontour\": [{\"colorbar\": {\"outlinewidth\": 0, \"ticks\": \"\"}, \"colorscale\": [[0.0, \"#0d0887\"], [0.1111111111111111, \"#46039f\"], [0.2222222222222222, \"#7201a8\"], [0.3333333333333333, \"#9c179e\"], [0.4444444444444444, \"#bd3786\"], [0.5555555555555556, \"#d8576b\"], [0.6666666666666666, \"#ed7953\"], [0.7777777777777778, \"#fb9f3a\"], [0.8888888888888888, \"#fdca26\"], [1.0, \"#f0f921\"]], \"type\": \"histogram2dcontour\"}], \"mesh3d\": [{\"colorbar\": {\"outlinewidth\": 0, \"ticks\": \"\"}, \"type\": \"mesh3d\"}], \"parcoords\": [{\"line\": {\"colorbar\": {\"outlinewidth\": 0, \"ticks\": \"\"}}, \"type\": \"parcoords\"}], \"pie\": [{\"automargin\": true, \"type\": \"pie\"}], \"scatter\": [{\"marker\": {\"colorbar\": {\"outlinewidth\": 0, \"ticks\": \"\"}}, \"type\": \"scatter\"}], \"scatter3d\": [{\"line\": {\"colorbar\": {\"outlinewidth\": 0, \"ticks\": \"\"}}, \"marker\": {\"colorbar\": {\"outlinewidth\": 0, \"ticks\": \"\"}}, \"type\": \"scatter3d\"}], \"scattercarpet\": [{\"marker\": {\"colorbar\": {\"outlinewidth\": 0, \"ticks\": \"\"}}, \"type\": \"scattercarpet\"}], \"scattergeo\": [{\"marker\": {\"colorbar\": {\"outlinewidth\": 0, \"ticks\": \"\"}}, \"type\": \"scattergeo\"}], \"scattergl\": [{\"marker\": {\"colorbar\": {\"outlinewidth\": 0, \"ticks\": \"\"}}, \"type\": \"scattergl\"}], \"scattermapbox\": [{\"marker\": {\"colorbar\": {\"outlinewidth\": 0, \"ticks\": \"\"}}, \"type\": \"scattermapbox\"}], \"scatterpolar\": [{\"marker\": {\"colorbar\": {\"outlinewidth\": 0, \"ticks\": \"\"}}, \"type\": \"scatterpolar\"}], \"scatterpolargl\": [{\"marker\": {\"colorbar\": {\"outlinewidth\": 0, \"ticks\": \"\"}}, \"type\": \"scatterpolargl\"}], \"scatterternary\": [{\"marker\": {\"colorbar\": {\"outlinewidth\": 0, \"ticks\": \"\"}}, \"type\": \"scatterternary\"}], \"surface\": [{\"colorbar\": {\"outlinewidth\": 0, \"ticks\": \"\"}, \"colorscale\": [[0.0, \"#0d0887\"], [0.1111111111111111, \"#46039f\"], [0.2222222222222222, \"#7201a8\"], [0.3333333333333333, \"#9c179e\"], [0.4444444444444444, \"#bd3786\"], [0.5555555555555556, \"#d8576b\"], [0.6666666666666666, \"#ed7953\"], [0.7777777777777778, \"#fb9f3a\"], [0.8888888888888888, \"#fdca26\"], [1.0, \"#f0f921\"]], \"type\": \"surface\"}], \"table\": [{\"cells\": {\"fill\": {\"color\": \"#EBF0F8\"}, \"line\": {\"color\": \"white\"}}, \"header\": {\"fill\": {\"color\": \"#C8D4E3\"}, \"line\": {\"color\": \"white\"}}, \"type\": \"table\"}]}, \"layout\": {\"annotationdefaults\": {\"arrowcolor\": \"#2a3f5f\", \"arrowhead\": 0, \"arrowwidth\": 1}, \"autotypenumbers\": \"strict\", \"coloraxis\": {\"colorbar\": {\"outlinewidth\": 0, \"ticks\": \"\"}}, \"colorscale\": {\"diverging\": [[0, \"#8e0152\"], [0.1, \"#c51b7d\"], [0.2, \"#de77ae\"], [0.3, \"#f1b6da\"], [0.4, \"#fde0ef\"], [0.5, \"#f7f7f7\"], [0.6, \"#e6f5d0\"], [0.7, \"#b8e186\"], [0.8, \"#7fbc41\"], [0.9, \"#4d9221\"], [1, \"#276419\"]], \"sequential\": [[0.0, \"#0d0887\"], [0.1111111111111111, \"#46039f\"], [0.2222222222222222, \"#7201a8\"], [0.3333333333333333, \"#9c179e\"], [0.4444444444444444, \"#bd3786\"], [0.5555555555555556, \"#d8576b\"], [0.6666666666666666, \"#ed7953\"], [0.7777777777777778, \"#fb9f3a\"], [0.8888888888888888, \"#fdca26\"], [1.0, \"#f0f921\"]], \"sequentialminus\": [[0.0, \"#0d0887\"], [0.1111111111111111, \"#46039f\"], [0.2222222222222222, \"#7201a8\"], [0.3333333333333333, \"#9c179e\"], [0.4444444444444444, \"#bd3786\"], [0.5555555555555556, \"#d8576b\"], [0.6666666666666666, \"#ed7953\"], [0.7777777777777778, \"#fb9f3a\"], [0.8888888888888888, \"#fdca26\"], [1.0, \"#f0f921\"]]}, \"colorway\": [\"#636efa\", \"#EF553B\", \"#00cc96\", \"#ab63fa\", \"#FFA15A\", \"#19d3f3\", \"#FF6692\", \"#B6E880\", \"#FF97FF\", \"#FECB52\"], \"font\": {\"color\": \"#2a3f5f\"}, \"geo\": {\"bgcolor\": \"white\", \"lakecolor\": \"white\", \"landcolor\": \"#E5ECF6\", \"showlakes\": true, \"showland\": true, \"subunitcolor\": \"white\"}, \"hoverlabel\": {\"align\": \"left\"}, \"hovermode\": \"closest\", \"mapbox\": {\"style\": \"light\"}, \"paper_bgcolor\": \"white\", \"plot_bgcolor\": \"#E5ECF6\", \"polar\": {\"angularaxis\": {\"gridcolor\": \"white\", \"linecolor\": \"white\", \"ticks\": \"\"}, \"bgcolor\": \"#E5ECF6\", \"radialaxis\": {\"gridcolor\": \"white\", \"linecolor\": \"white\", \"ticks\": \"\"}}, \"scene\": {\"xaxis\": {\"backgroundcolor\": \"#E5ECF6\", \"gridcolor\": \"white\", \"gridwidth\": 2, \"linecolor\": \"white\", \"showbackground\": true, \"ticks\": \"\", \"zerolinecolor\": \"white\"}, \"yaxis\": {\"backgroundcolor\": \"#E5ECF6\", \"gridcolor\": \"white\", \"gridwidth\": 2, \"linecolor\": \"white\", \"showbackground\": true, \"ticks\": \"\", \"zerolinecolor\": \"white\"}, \"zaxis\": {\"backgroundcolor\": \"#E5ECF6\", \"gridcolor\": \"white\", \"gridwidth\": 2, \"linecolor\": \"white\", \"showbackground\": true, \"ticks\": \"\", \"zerolinecolor\": \"white\"}}, \"shapedefaults\": {\"line\": {\"color\": \"#2a3f5f\"}}, \"ternary\": {\"aaxis\": {\"gridcolor\": \"white\", \"linecolor\": \"white\", \"ticks\": \"\"}, \"baxis\": {\"gridcolor\": \"white\", \"linecolor\": \"white\", \"ticks\": \"\"}, \"bgcolor\": \"#E5ECF6\", \"caxis\": {\"gridcolor\": \"white\", \"linecolor\": \"white\", \"ticks\": \"\"}}, \"title\": {\"x\": 0.05}, \"xaxis\": {\"automargin\": true, \"gridcolor\": \"white\", \"linecolor\": \"white\", \"ticks\": \"\", \"title\": {\"standoff\": 15}, \"zerolinecolor\": \"white\", \"zerolinewidth\": 2}, \"yaxis\": {\"automargin\": true, \"gridcolor\": \"white\", \"linecolor\": \"white\", \"ticks\": \"\", \"title\": {\"standoff\": 15}, \"zerolinecolor\": \"white\", \"zerolinewidth\": 2}}}, \"title\": {\"text\": \"Top 3 Participating Countries\"}, \"xaxis\": {\"anchor\": \"y\", \"domain\": [0.0, 1.0], \"title\": {\"text\": \"peak_name\"}}, \"yaxis\": {\"anchor\": \"x\", \"domain\": [0.0, 1.0], \"title\": {\"text\": \"ascents\"}}},                        {\"responsive\": true}                    ).then(function(){\n",
       "                            \n",
       "var gd = document.getElementById('1fafb3b6-32cd-4aad-af45-3c7c4490e3f6');\n",
       "var x = new MutationObserver(function (mutations, observer) {{\n",
       "        var display = window.getComputedStyle(gd).display;\n",
       "        if (!display || display === 'none') {{\n",
       "            console.log([gd, 'removed!']);\n",
       "            Plotly.purge(gd);\n",
       "            observer.disconnect();\n",
       "        }}\n",
       "}});\n",
       "\n",
       "// Listen for the removal of the full notebook cells\n",
       "var notebookContainer = gd.closest('#notebook-container');\n",
       "if (notebookContainer) {{\n",
       "    x.observe(notebookContainer, {childList: true});\n",
       "}}\n",
       "\n",
       "// Listen for the clearing of the current output cell\n",
       "var outputEl = gd.closest('.output');\n",
       "if (outputEl) {{\n",
       "    x.observe(outputEl, {childList: true});\n",
       "}}\n",
       "\n",
       "                        })                };                });            </script>        </div>"
      ]
     },
     "metadata": {},
     "output_type": "display_data"
    }
   ],
   "source": [
    "pop_season = data\\\n",
    "                .query(\"peak_name in @top_25_mountains\")\\\n",
    "                .groupby(['peak_name', 'season'], as_index=False)\\\n",
    "                .agg({'peak_id': 'count'}).rename(columns={'peak_id': 'ascents'})\n",
    "\n",
    "fig = px.bar(pop_season,\n",
    "             x='peak_name',\n",
    "             y='ascents',\n",
    "             color='season',\n",
    "             title='Top 3 Participating Countries',\n",
    "             color_continuous_scale=px.colors.sequential.Bluyl) \n",
    "fig.show() "
   ]
  },
  {
   "cell_type": "markdown",
   "metadata": {},
   "source": [
    "### Popular Host Country"
   ]
  },
  {
   "cell_type": "code",
   "execution_count": 11,
   "metadata": {},
   "outputs": [
    {
     "data": {
      "application/vnd.plotly.v1+json": {
       "config": {
        "plotlyServerURL": "https://plot.ly"
       },
       "data": [
        {
         "alignmentgroup": "True",
         "hovertemplate": "host_cntr=Nepal<br>peak_name=%{x}<br>ascents=%{y}<extra></extra>",
         "legendgroup": "Nepal",
         "marker": {
          "color": "#636efa"
         },
         "name": "Nepal",
         "offsetgroup": "Nepal",
         "orientation": "v",
         "showlegend": true,
         "textposition": "auto",
         "type": "bar",
         "x": [
          "Ama Dablam",
          "Annapurna I",
          "Annapurna II",
          "Annapurna III",
          "Annapurna IV",
          "Annapurna South",
          "Baruntse",
          "Cho Oyu",
          "Dhaulagiri I",
          "Everest",
          "Gaurishankar",
          "Himlung Himal",
          "Jannu",
          "Kangchenjunga",
          "Langtang Lirung",
          "Lhotse",
          "Lhotse Shar",
          "Makalu",
          "Makalu II",
          "Manaslu",
          "Nuptse",
          "Pumori",
          "Putha Hiunchuli",
          "Tilicho",
          "Tukuche"
         ],
         "xaxis": "x",
         "y": [
          1429,
          242,
          35,
          37,
          98,
          36,
          311,
          91,
          389,
          1231,
          29,
          162,
          44,
          175,
          49,
          430,
          36,
          351,
          46,
          677,
          56,
          263,
          98,
          87,
          62
         ],
         "yaxis": "y"
        },
        {
         "alignmentgroup": "True",
         "hovertemplate": "host_cntr=China<br>peak_name=%{x}<br>ascents=%{y}<extra></extra>",
         "legendgroup": "China",
         "marker": {
          "color": "#EF553B"
         },
         "name": "China",
         "offsetgroup": "China",
         "orientation": "v",
         "showlegend": true,
         "textposition": "auto",
         "type": "bar",
         "x": [
          "Cho Oyu",
          "Everest",
          "Gaurishankar",
          "Kangchenjunga",
          "Makalu",
          "Makalu II",
          "Pumori"
         ],
         "xaxis": "x",
         "y": [
          1249,
          924,
          4,
          1,
          4,
          1,
          2
         ],
         "yaxis": "y"
        },
        {
         "alignmentgroup": "True",
         "hovertemplate": "host_cntr=Unknown<br>peak_name=%{x}<br>ascents=%{y}<extra></extra>",
         "legendgroup": "Unknown",
         "marker": {
          "color": "#00cc96"
         },
         "name": "Unknown",
         "offsetgroup": "Unknown",
         "orientation": "v",
         "showlegend": true,
         "textposition": "auto",
         "type": "bar",
         "x": [
          "Cho Oyu",
          "Makalu"
         ],
         "xaxis": "x",
         "y": [
          1,
          1
         ],
         "yaxis": "y"
        },
        {
         "alignmentgroup": "True",
         "hovertemplate": "host_cntr=India<br>peak_name=%{x}<br>ascents=%{y}<extra></extra>",
         "legendgroup": "India",
         "marker": {
          "color": "#ab63fa"
         },
         "name": "India",
         "offsetgroup": "India",
         "orientation": "v",
         "showlegend": true,
         "textposition": "auto",
         "type": "bar",
         "x": [
          "Kangchenjunga"
         ],
         "xaxis": "x",
         "y": [
          8
         ],
         "yaxis": "y"
        }
       ],
       "layout": {
        "barmode": "relative",
        "legend": {
         "title": {
          "text": "host_cntr"
         },
         "tracegroupgap": 0
        },
        "template": {
         "data": {
          "bar": [
           {
            "error_x": {
             "color": "#2a3f5f"
            },
            "error_y": {
             "color": "#2a3f5f"
            },
            "marker": {
             "line": {
              "color": "#E5ECF6",
              "width": 0.5
             }
            },
            "type": "bar"
           }
          ],
          "barpolar": [
           {
            "marker": {
             "line": {
              "color": "#E5ECF6",
              "width": 0.5
             }
            },
            "type": "barpolar"
           }
          ],
          "carpet": [
           {
            "aaxis": {
             "endlinecolor": "#2a3f5f",
             "gridcolor": "white",
             "linecolor": "white",
             "minorgridcolor": "white",
             "startlinecolor": "#2a3f5f"
            },
            "baxis": {
             "endlinecolor": "#2a3f5f",
             "gridcolor": "white",
             "linecolor": "white",
             "minorgridcolor": "white",
             "startlinecolor": "#2a3f5f"
            },
            "type": "carpet"
           }
          ],
          "choropleth": [
           {
            "colorbar": {
             "outlinewidth": 0,
             "ticks": ""
            },
            "type": "choropleth"
           }
          ],
          "contour": [
           {
            "colorbar": {
             "outlinewidth": 0,
             "ticks": ""
            },
            "colorscale": [
             [
              0,
              "#0d0887"
             ],
             [
              0.1111111111111111,
              "#46039f"
             ],
             [
              0.2222222222222222,
              "#7201a8"
             ],
             [
              0.3333333333333333,
              "#9c179e"
             ],
             [
              0.4444444444444444,
              "#bd3786"
             ],
             [
              0.5555555555555556,
              "#d8576b"
             ],
             [
              0.6666666666666666,
              "#ed7953"
             ],
             [
              0.7777777777777778,
              "#fb9f3a"
             ],
             [
              0.8888888888888888,
              "#fdca26"
             ],
             [
              1,
              "#f0f921"
             ]
            ],
            "type": "contour"
           }
          ],
          "contourcarpet": [
           {
            "colorbar": {
             "outlinewidth": 0,
             "ticks": ""
            },
            "type": "contourcarpet"
           }
          ],
          "heatmap": [
           {
            "colorbar": {
             "outlinewidth": 0,
             "ticks": ""
            },
            "colorscale": [
             [
              0,
              "#0d0887"
             ],
             [
              0.1111111111111111,
              "#46039f"
             ],
             [
              0.2222222222222222,
              "#7201a8"
             ],
             [
              0.3333333333333333,
              "#9c179e"
             ],
             [
              0.4444444444444444,
              "#bd3786"
             ],
             [
              0.5555555555555556,
              "#d8576b"
             ],
             [
              0.6666666666666666,
              "#ed7953"
             ],
             [
              0.7777777777777778,
              "#fb9f3a"
             ],
             [
              0.8888888888888888,
              "#fdca26"
             ],
             [
              1,
              "#f0f921"
             ]
            ],
            "type": "heatmap"
           }
          ],
          "heatmapgl": [
           {
            "colorbar": {
             "outlinewidth": 0,
             "ticks": ""
            },
            "colorscale": [
             [
              0,
              "#0d0887"
             ],
             [
              0.1111111111111111,
              "#46039f"
             ],
             [
              0.2222222222222222,
              "#7201a8"
             ],
             [
              0.3333333333333333,
              "#9c179e"
             ],
             [
              0.4444444444444444,
              "#bd3786"
             ],
             [
              0.5555555555555556,
              "#d8576b"
             ],
             [
              0.6666666666666666,
              "#ed7953"
             ],
             [
              0.7777777777777778,
              "#fb9f3a"
             ],
             [
              0.8888888888888888,
              "#fdca26"
             ],
             [
              1,
              "#f0f921"
             ]
            ],
            "type": "heatmapgl"
           }
          ],
          "histogram": [
           {
            "marker": {
             "colorbar": {
              "outlinewidth": 0,
              "ticks": ""
             }
            },
            "type": "histogram"
           }
          ],
          "histogram2d": [
           {
            "colorbar": {
             "outlinewidth": 0,
             "ticks": ""
            },
            "colorscale": [
             [
              0,
              "#0d0887"
             ],
             [
              0.1111111111111111,
              "#46039f"
             ],
             [
              0.2222222222222222,
              "#7201a8"
             ],
             [
              0.3333333333333333,
              "#9c179e"
             ],
             [
              0.4444444444444444,
              "#bd3786"
             ],
             [
              0.5555555555555556,
              "#d8576b"
             ],
             [
              0.6666666666666666,
              "#ed7953"
             ],
             [
              0.7777777777777778,
              "#fb9f3a"
             ],
             [
              0.8888888888888888,
              "#fdca26"
             ],
             [
              1,
              "#f0f921"
             ]
            ],
            "type": "histogram2d"
           }
          ],
          "histogram2dcontour": [
           {
            "colorbar": {
             "outlinewidth": 0,
             "ticks": ""
            },
            "colorscale": [
             [
              0,
              "#0d0887"
             ],
             [
              0.1111111111111111,
              "#46039f"
             ],
             [
              0.2222222222222222,
              "#7201a8"
             ],
             [
              0.3333333333333333,
              "#9c179e"
             ],
             [
              0.4444444444444444,
              "#bd3786"
             ],
             [
              0.5555555555555556,
              "#d8576b"
             ],
             [
              0.6666666666666666,
              "#ed7953"
             ],
             [
              0.7777777777777778,
              "#fb9f3a"
             ],
             [
              0.8888888888888888,
              "#fdca26"
             ],
             [
              1,
              "#f0f921"
             ]
            ],
            "type": "histogram2dcontour"
           }
          ],
          "mesh3d": [
           {
            "colorbar": {
             "outlinewidth": 0,
             "ticks": ""
            },
            "type": "mesh3d"
           }
          ],
          "parcoords": [
           {
            "line": {
             "colorbar": {
              "outlinewidth": 0,
              "ticks": ""
             }
            },
            "type": "parcoords"
           }
          ],
          "pie": [
           {
            "automargin": true,
            "type": "pie"
           }
          ],
          "scatter": [
           {
            "marker": {
             "colorbar": {
              "outlinewidth": 0,
              "ticks": ""
             }
            },
            "type": "scatter"
           }
          ],
          "scatter3d": [
           {
            "line": {
             "colorbar": {
              "outlinewidth": 0,
              "ticks": ""
             }
            },
            "marker": {
             "colorbar": {
              "outlinewidth": 0,
              "ticks": ""
             }
            },
            "type": "scatter3d"
           }
          ],
          "scattercarpet": [
           {
            "marker": {
             "colorbar": {
              "outlinewidth": 0,
              "ticks": ""
             }
            },
            "type": "scattercarpet"
           }
          ],
          "scattergeo": [
           {
            "marker": {
             "colorbar": {
              "outlinewidth": 0,
              "ticks": ""
             }
            },
            "type": "scattergeo"
           }
          ],
          "scattergl": [
           {
            "marker": {
             "colorbar": {
              "outlinewidth": 0,
              "ticks": ""
             }
            },
            "type": "scattergl"
           }
          ],
          "scattermapbox": [
           {
            "marker": {
             "colorbar": {
              "outlinewidth": 0,
              "ticks": ""
             }
            },
            "type": "scattermapbox"
           }
          ],
          "scatterpolar": [
           {
            "marker": {
             "colorbar": {
              "outlinewidth": 0,
              "ticks": ""
             }
            },
            "type": "scatterpolar"
           }
          ],
          "scatterpolargl": [
           {
            "marker": {
             "colorbar": {
              "outlinewidth": 0,
              "ticks": ""
             }
            },
            "type": "scatterpolargl"
           }
          ],
          "scatterternary": [
           {
            "marker": {
             "colorbar": {
              "outlinewidth": 0,
              "ticks": ""
             }
            },
            "type": "scatterternary"
           }
          ],
          "surface": [
           {
            "colorbar": {
             "outlinewidth": 0,
             "ticks": ""
            },
            "colorscale": [
             [
              0,
              "#0d0887"
             ],
             [
              0.1111111111111111,
              "#46039f"
             ],
             [
              0.2222222222222222,
              "#7201a8"
             ],
             [
              0.3333333333333333,
              "#9c179e"
             ],
             [
              0.4444444444444444,
              "#bd3786"
             ],
             [
              0.5555555555555556,
              "#d8576b"
             ],
             [
              0.6666666666666666,
              "#ed7953"
             ],
             [
              0.7777777777777778,
              "#fb9f3a"
             ],
             [
              0.8888888888888888,
              "#fdca26"
             ],
             [
              1,
              "#f0f921"
             ]
            ],
            "type": "surface"
           }
          ],
          "table": [
           {
            "cells": {
             "fill": {
              "color": "#EBF0F8"
             },
             "line": {
              "color": "white"
             }
            },
            "header": {
             "fill": {
              "color": "#C8D4E3"
             },
             "line": {
              "color": "white"
             }
            },
            "type": "table"
           }
          ]
         },
         "layout": {
          "annotationdefaults": {
           "arrowcolor": "#2a3f5f",
           "arrowhead": 0,
           "arrowwidth": 1
          },
          "autotypenumbers": "strict",
          "coloraxis": {
           "colorbar": {
            "outlinewidth": 0,
            "ticks": ""
           }
          },
          "colorscale": {
           "diverging": [
            [
             0,
             "#8e0152"
            ],
            [
             0.1,
             "#c51b7d"
            ],
            [
             0.2,
             "#de77ae"
            ],
            [
             0.3,
             "#f1b6da"
            ],
            [
             0.4,
             "#fde0ef"
            ],
            [
             0.5,
             "#f7f7f7"
            ],
            [
             0.6,
             "#e6f5d0"
            ],
            [
             0.7,
             "#b8e186"
            ],
            [
             0.8,
             "#7fbc41"
            ],
            [
             0.9,
             "#4d9221"
            ],
            [
             1,
             "#276419"
            ]
           ],
           "sequential": [
            [
             0,
             "#0d0887"
            ],
            [
             0.1111111111111111,
             "#46039f"
            ],
            [
             0.2222222222222222,
             "#7201a8"
            ],
            [
             0.3333333333333333,
             "#9c179e"
            ],
            [
             0.4444444444444444,
             "#bd3786"
            ],
            [
             0.5555555555555556,
             "#d8576b"
            ],
            [
             0.6666666666666666,
             "#ed7953"
            ],
            [
             0.7777777777777778,
             "#fb9f3a"
            ],
            [
             0.8888888888888888,
             "#fdca26"
            ],
            [
             1,
             "#f0f921"
            ]
           ],
           "sequentialminus": [
            [
             0,
             "#0d0887"
            ],
            [
             0.1111111111111111,
             "#46039f"
            ],
            [
             0.2222222222222222,
             "#7201a8"
            ],
            [
             0.3333333333333333,
             "#9c179e"
            ],
            [
             0.4444444444444444,
             "#bd3786"
            ],
            [
             0.5555555555555556,
             "#d8576b"
            ],
            [
             0.6666666666666666,
             "#ed7953"
            ],
            [
             0.7777777777777778,
             "#fb9f3a"
            ],
            [
             0.8888888888888888,
             "#fdca26"
            ],
            [
             1,
             "#f0f921"
            ]
           ]
          },
          "colorway": [
           "#636efa",
           "#EF553B",
           "#00cc96",
           "#ab63fa",
           "#FFA15A",
           "#19d3f3",
           "#FF6692",
           "#B6E880",
           "#FF97FF",
           "#FECB52"
          ],
          "font": {
           "color": "#2a3f5f"
          },
          "geo": {
           "bgcolor": "white",
           "lakecolor": "white",
           "landcolor": "#E5ECF6",
           "showlakes": true,
           "showland": true,
           "subunitcolor": "white"
          },
          "hoverlabel": {
           "align": "left"
          },
          "hovermode": "closest",
          "mapbox": {
           "style": "light"
          },
          "paper_bgcolor": "white",
          "plot_bgcolor": "#E5ECF6",
          "polar": {
           "angularaxis": {
            "gridcolor": "white",
            "linecolor": "white",
            "ticks": ""
           },
           "bgcolor": "#E5ECF6",
           "radialaxis": {
            "gridcolor": "white",
            "linecolor": "white",
            "ticks": ""
           }
          },
          "scene": {
           "xaxis": {
            "backgroundcolor": "#E5ECF6",
            "gridcolor": "white",
            "gridwidth": 2,
            "linecolor": "white",
            "showbackground": true,
            "ticks": "",
            "zerolinecolor": "white"
           },
           "yaxis": {
            "backgroundcolor": "#E5ECF6",
            "gridcolor": "white",
            "gridwidth": 2,
            "linecolor": "white",
            "showbackground": true,
            "ticks": "",
            "zerolinecolor": "white"
           },
           "zaxis": {
            "backgroundcolor": "#E5ECF6",
            "gridcolor": "white",
            "gridwidth": 2,
            "linecolor": "white",
            "showbackground": true,
            "ticks": "",
            "zerolinecolor": "white"
           }
          },
          "shapedefaults": {
           "line": {
            "color": "#2a3f5f"
           }
          },
          "ternary": {
           "aaxis": {
            "gridcolor": "white",
            "linecolor": "white",
            "ticks": ""
           },
           "baxis": {
            "gridcolor": "white",
            "linecolor": "white",
            "ticks": ""
           },
           "bgcolor": "#E5ECF6",
           "caxis": {
            "gridcolor": "white",
            "linecolor": "white",
            "ticks": ""
           }
          },
          "title": {
           "x": 0.05
          },
          "xaxis": {
           "automargin": true,
           "gridcolor": "white",
           "linecolor": "white",
           "ticks": "",
           "title": {
            "standoff": 15
           },
           "zerolinecolor": "white",
           "zerolinewidth": 2
          },
          "yaxis": {
           "automargin": true,
           "gridcolor": "white",
           "linecolor": "white",
           "ticks": "",
           "title": {
            "standoff": 15
           },
           "zerolinecolor": "white",
           "zerolinewidth": 2
          }
         }
        },
        "title": {
         "text": "Top 3 Participating Countries"
        },
        "xaxis": {
         "anchor": "y",
         "domain": [
          0,
          1
         ],
         "title": {
          "text": "peak_name"
         }
        },
        "yaxis": {
         "anchor": "x",
         "domain": [
          0,
          1
         ],
         "title": {
          "text": "ascents"
         }
        }
       }
      },
      "text/html": [
       "<div>                            <div id=\"d25c1ae9-4651-4a61-af7b-24c3f864cf16\" class=\"plotly-graph-div\" style=\"height:525px; width:100%;\"></div>            <script type=\"text/javascript\">                require([\"plotly\"], function(Plotly) {                    window.PLOTLYENV=window.PLOTLYENV || {};                                    if (document.getElementById(\"d25c1ae9-4651-4a61-af7b-24c3f864cf16\")) {                    Plotly.newPlot(                        \"d25c1ae9-4651-4a61-af7b-24c3f864cf16\",                        [{\"alignmentgroup\": \"True\", \"hovertemplate\": \"host_cntr=Nepal<br>peak_name=%{x}<br>ascents=%{y}<extra></extra>\", \"legendgroup\": \"Nepal\", \"marker\": {\"color\": \"#636efa\"}, \"name\": \"Nepal\", \"offsetgroup\": \"Nepal\", \"orientation\": \"v\", \"showlegend\": true, \"textposition\": \"auto\", \"type\": \"bar\", \"x\": [\"Ama Dablam\", \"Annapurna I\", \"Annapurna II\", \"Annapurna III\", \"Annapurna IV\", \"Annapurna South\", \"Baruntse\", \"Cho Oyu\", \"Dhaulagiri I\", \"Everest\", \"Gaurishankar\", \"Himlung Himal\", \"Jannu\", \"Kangchenjunga\", \"Langtang Lirung\", \"Lhotse\", \"Lhotse Shar\", \"Makalu\", \"Makalu II\", \"Manaslu\", \"Nuptse\", \"Pumori\", \"Putha Hiunchuli\", \"Tilicho\", \"Tukuche\"], \"xaxis\": \"x\", \"y\": [1429, 242, 35, 37, 98, 36, 311, 91, 389, 1231, 29, 162, 44, 175, 49, 430, 36, 351, 46, 677, 56, 263, 98, 87, 62], \"yaxis\": \"y\"}, {\"alignmentgroup\": \"True\", \"hovertemplate\": \"host_cntr=China<br>peak_name=%{x}<br>ascents=%{y}<extra></extra>\", \"legendgroup\": \"China\", \"marker\": {\"color\": \"#EF553B\"}, \"name\": \"China\", \"offsetgroup\": \"China\", \"orientation\": \"v\", \"showlegend\": true, \"textposition\": \"auto\", \"type\": \"bar\", \"x\": [\"Cho Oyu\", \"Everest\", \"Gaurishankar\", \"Kangchenjunga\", \"Makalu\", \"Makalu II\", \"Pumori\"], \"xaxis\": \"x\", \"y\": [1249, 924, 4, 1, 4, 1, 2], \"yaxis\": \"y\"}, {\"alignmentgroup\": \"True\", \"hovertemplate\": \"host_cntr=Unknown<br>peak_name=%{x}<br>ascents=%{y}<extra></extra>\", \"legendgroup\": \"Unknown\", \"marker\": {\"color\": \"#00cc96\"}, \"name\": \"Unknown\", \"offsetgroup\": \"Unknown\", \"orientation\": \"v\", \"showlegend\": true, \"textposition\": \"auto\", \"type\": \"bar\", \"x\": [\"Cho Oyu\", \"Makalu\"], \"xaxis\": \"x\", \"y\": [1, 1], \"yaxis\": \"y\"}, {\"alignmentgroup\": \"True\", \"hovertemplate\": \"host_cntr=India<br>peak_name=%{x}<br>ascents=%{y}<extra></extra>\", \"legendgroup\": \"India\", \"marker\": {\"color\": \"#ab63fa\"}, \"name\": \"India\", \"offsetgroup\": \"India\", \"orientation\": \"v\", \"showlegend\": true, \"textposition\": \"auto\", \"type\": \"bar\", \"x\": [\"Kangchenjunga\"], \"xaxis\": \"x\", \"y\": [8], \"yaxis\": \"y\"}],                        {\"barmode\": \"relative\", \"legend\": {\"title\": {\"text\": \"host_cntr\"}, \"tracegroupgap\": 0}, \"template\": {\"data\": {\"bar\": [{\"error_x\": {\"color\": \"#2a3f5f\"}, \"error_y\": {\"color\": \"#2a3f5f\"}, \"marker\": {\"line\": {\"color\": \"#E5ECF6\", \"width\": 0.5}}, \"type\": \"bar\"}], \"barpolar\": [{\"marker\": {\"line\": {\"color\": \"#E5ECF6\", \"width\": 0.5}}, \"type\": \"barpolar\"}], \"carpet\": [{\"aaxis\": {\"endlinecolor\": \"#2a3f5f\", \"gridcolor\": \"white\", \"linecolor\": \"white\", \"minorgridcolor\": \"white\", \"startlinecolor\": \"#2a3f5f\"}, \"baxis\": {\"endlinecolor\": \"#2a3f5f\", \"gridcolor\": \"white\", \"linecolor\": \"white\", \"minorgridcolor\": \"white\", \"startlinecolor\": \"#2a3f5f\"}, \"type\": \"carpet\"}], \"choropleth\": [{\"colorbar\": {\"outlinewidth\": 0, \"ticks\": \"\"}, \"type\": \"choropleth\"}], \"contour\": [{\"colorbar\": {\"outlinewidth\": 0, \"ticks\": \"\"}, \"colorscale\": [[0.0, \"#0d0887\"], [0.1111111111111111, \"#46039f\"], [0.2222222222222222, \"#7201a8\"], [0.3333333333333333, \"#9c179e\"], [0.4444444444444444, \"#bd3786\"], [0.5555555555555556, \"#d8576b\"], [0.6666666666666666, \"#ed7953\"], [0.7777777777777778, \"#fb9f3a\"], [0.8888888888888888, \"#fdca26\"], [1.0, \"#f0f921\"]], \"type\": \"contour\"}], \"contourcarpet\": [{\"colorbar\": {\"outlinewidth\": 0, \"ticks\": \"\"}, \"type\": \"contourcarpet\"}], \"heatmap\": [{\"colorbar\": {\"outlinewidth\": 0, \"ticks\": \"\"}, \"colorscale\": [[0.0, \"#0d0887\"], [0.1111111111111111, \"#46039f\"], [0.2222222222222222, \"#7201a8\"], [0.3333333333333333, \"#9c179e\"], [0.4444444444444444, \"#bd3786\"], [0.5555555555555556, \"#d8576b\"], [0.6666666666666666, \"#ed7953\"], [0.7777777777777778, \"#fb9f3a\"], [0.8888888888888888, \"#fdca26\"], [1.0, \"#f0f921\"]], \"type\": \"heatmap\"}], \"heatmapgl\": [{\"colorbar\": {\"outlinewidth\": 0, \"ticks\": \"\"}, \"colorscale\": [[0.0, \"#0d0887\"], [0.1111111111111111, \"#46039f\"], [0.2222222222222222, \"#7201a8\"], [0.3333333333333333, \"#9c179e\"], [0.4444444444444444, \"#bd3786\"], [0.5555555555555556, \"#d8576b\"], [0.6666666666666666, \"#ed7953\"], [0.7777777777777778, \"#fb9f3a\"], [0.8888888888888888, \"#fdca26\"], [1.0, \"#f0f921\"]], \"type\": \"heatmapgl\"}], \"histogram\": [{\"marker\": {\"colorbar\": {\"outlinewidth\": 0, \"ticks\": \"\"}}, \"type\": \"histogram\"}], \"histogram2d\": [{\"colorbar\": {\"outlinewidth\": 0, \"ticks\": \"\"}, \"colorscale\": [[0.0, \"#0d0887\"], [0.1111111111111111, \"#46039f\"], [0.2222222222222222, \"#7201a8\"], [0.3333333333333333, \"#9c179e\"], [0.4444444444444444, \"#bd3786\"], [0.5555555555555556, \"#d8576b\"], [0.6666666666666666, \"#ed7953\"], [0.7777777777777778, \"#fb9f3a\"], [0.8888888888888888, \"#fdca26\"], [1.0, \"#f0f921\"]], \"type\": \"histogram2d\"}], \"histogram2dcontour\": [{\"colorbar\": {\"outlinewidth\": 0, \"ticks\": \"\"}, \"colorscale\": [[0.0, \"#0d0887\"], [0.1111111111111111, \"#46039f\"], [0.2222222222222222, \"#7201a8\"], [0.3333333333333333, \"#9c179e\"], [0.4444444444444444, \"#bd3786\"], [0.5555555555555556, \"#d8576b\"], [0.6666666666666666, \"#ed7953\"], [0.7777777777777778, \"#fb9f3a\"], [0.8888888888888888, \"#fdca26\"], [1.0, \"#f0f921\"]], \"type\": \"histogram2dcontour\"}], \"mesh3d\": [{\"colorbar\": {\"outlinewidth\": 0, \"ticks\": \"\"}, \"type\": \"mesh3d\"}], \"parcoords\": [{\"line\": {\"colorbar\": {\"outlinewidth\": 0, \"ticks\": \"\"}}, \"type\": \"parcoords\"}], \"pie\": [{\"automargin\": true, \"type\": \"pie\"}], \"scatter\": [{\"marker\": {\"colorbar\": {\"outlinewidth\": 0, \"ticks\": \"\"}}, \"type\": \"scatter\"}], \"scatter3d\": [{\"line\": {\"colorbar\": {\"outlinewidth\": 0, \"ticks\": \"\"}}, \"marker\": {\"colorbar\": {\"outlinewidth\": 0, \"ticks\": \"\"}}, \"type\": \"scatter3d\"}], \"scattercarpet\": [{\"marker\": {\"colorbar\": {\"outlinewidth\": 0, \"ticks\": \"\"}}, \"type\": \"scattercarpet\"}], \"scattergeo\": [{\"marker\": {\"colorbar\": {\"outlinewidth\": 0, \"ticks\": \"\"}}, \"type\": \"scattergeo\"}], \"scattergl\": [{\"marker\": {\"colorbar\": {\"outlinewidth\": 0, \"ticks\": \"\"}}, \"type\": \"scattergl\"}], \"scattermapbox\": [{\"marker\": {\"colorbar\": {\"outlinewidth\": 0, \"ticks\": \"\"}}, \"type\": \"scattermapbox\"}], \"scatterpolar\": [{\"marker\": {\"colorbar\": {\"outlinewidth\": 0, \"ticks\": \"\"}}, \"type\": \"scatterpolar\"}], \"scatterpolargl\": [{\"marker\": {\"colorbar\": {\"outlinewidth\": 0, \"ticks\": \"\"}}, \"type\": \"scatterpolargl\"}], \"scatterternary\": [{\"marker\": {\"colorbar\": {\"outlinewidth\": 0, \"ticks\": \"\"}}, \"type\": \"scatterternary\"}], \"surface\": [{\"colorbar\": {\"outlinewidth\": 0, \"ticks\": \"\"}, \"colorscale\": [[0.0, \"#0d0887\"], [0.1111111111111111, \"#46039f\"], [0.2222222222222222, \"#7201a8\"], [0.3333333333333333, \"#9c179e\"], [0.4444444444444444, \"#bd3786\"], [0.5555555555555556, \"#d8576b\"], [0.6666666666666666, \"#ed7953\"], [0.7777777777777778, \"#fb9f3a\"], [0.8888888888888888, \"#fdca26\"], [1.0, \"#f0f921\"]], \"type\": \"surface\"}], \"table\": [{\"cells\": {\"fill\": {\"color\": \"#EBF0F8\"}, \"line\": {\"color\": \"white\"}}, \"header\": {\"fill\": {\"color\": \"#C8D4E3\"}, \"line\": {\"color\": \"white\"}}, \"type\": \"table\"}]}, \"layout\": {\"annotationdefaults\": {\"arrowcolor\": \"#2a3f5f\", \"arrowhead\": 0, \"arrowwidth\": 1}, \"autotypenumbers\": \"strict\", \"coloraxis\": {\"colorbar\": {\"outlinewidth\": 0, \"ticks\": \"\"}}, \"colorscale\": {\"diverging\": [[0, \"#8e0152\"], [0.1, \"#c51b7d\"], [0.2, \"#de77ae\"], [0.3, \"#f1b6da\"], [0.4, \"#fde0ef\"], [0.5, \"#f7f7f7\"], [0.6, \"#e6f5d0\"], [0.7, \"#b8e186\"], [0.8, \"#7fbc41\"], [0.9, \"#4d9221\"], [1, \"#276419\"]], \"sequential\": [[0.0, \"#0d0887\"], [0.1111111111111111, \"#46039f\"], [0.2222222222222222, \"#7201a8\"], [0.3333333333333333, \"#9c179e\"], [0.4444444444444444, \"#bd3786\"], [0.5555555555555556, \"#d8576b\"], [0.6666666666666666, \"#ed7953\"], [0.7777777777777778, \"#fb9f3a\"], [0.8888888888888888, \"#fdca26\"], [1.0, \"#f0f921\"]], \"sequentialminus\": [[0.0, \"#0d0887\"], [0.1111111111111111, \"#46039f\"], [0.2222222222222222, \"#7201a8\"], [0.3333333333333333, \"#9c179e\"], [0.4444444444444444, \"#bd3786\"], [0.5555555555555556, \"#d8576b\"], [0.6666666666666666, \"#ed7953\"], [0.7777777777777778, \"#fb9f3a\"], [0.8888888888888888, \"#fdca26\"], [1.0, \"#f0f921\"]]}, \"colorway\": [\"#636efa\", \"#EF553B\", \"#00cc96\", \"#ab63fa\", \"#FFA15A\", \"#19d3f3\", \"#FF6692\", \"#B6E880\", \"#FF97FF\", \"#FECB52\"], \"font\": {\"color\": \"#2a3f5f\"}, \"geo\": {\"bgcolor\": \"white\", \"lakecolor\": \"white\", \"landcolor\": \"#E5ECF6\", \"showlakes\": true, \"showland\": true, \"subunitcolor\": \"white\"}, \"hoverlabel\": {\"align\": \"left\"}, \"hovermode\": \"closest\", \"mapbox\": {\"style\": \"light\"}, \"paper_bgcolor\": \"white\", \"plot_bgcolor\": \"#E5ECF6\", \"polar\": {\"angularaxis\": {\"gridcolor\": \"white\", \"linecolor\": \"white\", \"ticks\": \"\"}, \"bgcolor\": \"#E5ECF6\", \"radialaxis\": {\"gridcolor\": \"white\", \"linecolor\": \"white\", \"ticks\": \"\"}}, \"scene\": {\"xaxis\": {\"backgroundcolor\": \"#E5ECF6\", \"gridcolor\": \"white\", \"gridwidth\": 2, \"linecolor\": \"white\", \"showbackground\": true, \"ticks\": \"\", \"zerolinecolor\": \"white\"}, \"yaxis\": {\"backgroundcolor\": \"#E5ECF6\", \"gridcolor\": \"white\", \"gridwidth\": 2, \"linecolor\": \"white\", \"showbackground\": true, \"ticks\": \"\", \"zerolinecolor\": \"white\"}, \"zaxis\": {\"backgroundcolor\": \"#E5ECF6\", \"gridcolor\": \"white\", \"gridwidth\": 2, \"linecolor\": \"white\", \"showbackground\": true, \"ticks\": \"\", \"zerolinecolor\": \"white\"}}, \"shapedefaults\": {\"line\": {\"color\": \"#2a3f5f\"}}, \"ternary\": {\"aaxis\": {\"gridcolor\": \"white\", \"linecolor\": \"white\", \"ticks\": \"\"}, \"baxis\": {\"gridcolor\": \"white\", \"linecolor\": \"white\", \"ticks\": \"\"}, \"bgcolor\": \"#E5ECF6\", \"caxis\": {\"gridcolor\": \"white\", \"linecolor\": \"white\", \"ticks\": \"\"}}, \"title\": {\"x\": 0.05}, \"xaxis\": {\"automargin\": true, \"gridcolor\": \"white\", \"linecolor\": \"white\", \"ticks\": \"\", \"title\": {\"standoff\": 15}, \"zerolinecolor\": \"white\", \"zerolinewidth\": 2}, \"yaxis\": {\"automargin\": true, \"gridcolor\": \"white\", \"linecolor\": \"white\", \"ticks\": \"\", \"title\": {\"standoff\": 15}, \"zerolinecolor\": \"white\", \"zerolinewidth\": 2}}}, \"title\": {\"text\": \"Top 3 Participating Countries\"}, \"xaxis\": {\"anchor\": \"y\", \"domain\": [0.0, 1.0], \"title\": {\"text\": \"peak_name\"}}, \"yaxis\": {\"anchor\": \"x\", \"domain\": [0.0, 1.0], \"title\": {\"text\": \"ascents\"}}},                        {\"responsive\": true}                    ).then(function(){\n",
       "                            \n",
       "var gd = document.getElementById('d25c1ae9-4651-4a61-af7b-24c3f864cf16');\n",
       "var x = new MutationObserver(function (mutations, observer) {{\n",
       "        var display = window.getComputedStyle(gd).display;\n",
       "        if (!display || display === 'none') {{\n",
       "            console.log([gd, 'removed!']);\n",
       "            Plotly.purge(gd);\n",
       "            observer.disconnect();\n",
       "        }}\n",
       "}});\n",
       "\n",
       "// Listen for the removal of the full notebook cells\n",
       "var notebookContainer = gd.closest('#notebook-container');\n",
       "if (notebookContainer) {{\n",
       "    x.observe(notebookContainer, {childList: true});\n",
       "}}\n",
       "\n",
       "// Listen for the clearing of the current output cell\n",
       "var outputEl = gd.closest('.output');\n",
       "if (outputEl) {{\n",
       "    x.observe(outputEl, {childList: true});\n",
       "}}\n",
       "\n",
       "                        })                };                });            </script>        </div>"
      ]
     },
     "metadata": {},
     "output_type": "display_data"
    }
   ],
   "source": [
    "pop_host_cnt = data\\\n",
    "                .query(\"peak_name in @top_25_mountains\")\\\n",
    "                .groupby(['peak_name', 'host_cntr'], as_index=False)\\\n",
    "                .agg({'peak_id': 'count'}).rename(columns={'peak_id': 'ascents'})\n",
    "\n",
    "fig = px.bar(pop_host_cnt,\n",
    "             x='peak_name',\n",
    "             y='ascents',\n",
    "             color='host_cntr',\n",
    "             title='Top 3 Participating Countries',\n",
    "             color_continuous_scale=px.colors.sequential.Bluyl) \n",
    "fig.show() "
   ]
  },
  {
   "cell_type": "markdown",
   "metadata": {},
   "source": [
    "### NUmber of Independet Expeditions/Attempts \n",
    "Climbing these mountains cost a lot and not many alpinist can afford it. Let's create a new binary feature `is_independent` and find out how many independent expeditions have been done"
   ]
  },
  {
   "cell_type": "code",
   "execution_count": 12,
   "metadata": {},
   "outputs": [],
   "source": [
    "data['sponsor'] = data['sponsor'].fillna('unknown')\n",
    "data['is_independent'] = data['sponsor'].apply(lambda x: 1 if 'independent' in x.lower() else 0)"
   ]
  },
  {
   "cell_type": "code",
   "execution_count": 13,
   "metadata": {},
   "outputs": [],
   "source": [
    "ind_expeds = data\\\n",
    "    .query(\"peak_name in @top_25_mountains and is_independent == 1\")\\\n",
    "    .groupby('peak_name', as_index=False)\\\n",
    "    .agg({'peak_id': 'count'}).rename(columns={'peak_id': 'ascents'})"
   ]
  },
  {
   "cell_type": "code",
   "execution_count": 14,
   "metadata": {},
   "outputs": [
    {
     "data": {
      "image/png": "[encoded data removed]",
      "text/plain": [
       "<Figure size 1080x432 with 1 Axes>"
      ]
     },
     "metadata": {},
     "output_type": "display_data"
    }
   ],
   "source": [
    "plt.figure(figsize=(15, 6))\n",
    "sns.barplot(x=ind_expeds['peak_name'], y=ind_expeds['ascents'])\n",
    "plt.xticks(rotation=45);"
   ]
  },
  {
   "cell_type": "markdown",
   "metadata": {},
   "source": [
    "### Top 3 PopularRroutes "
   ]
  },
  {
   "cell_type": "code",
   "execution_count": 15,
   "metadata": {},
   "outputs": [
    {
     "data": {
      "application/vnd.plotly.v1+json": {
       "config": {
        "plotlyServerURL": "https://plot.ly"
       },
       "data": [
        {
         "alignmentgroup": "True",
         "hovertemplate": "rte_1_name=S Col-SE Ridge<br>peak_name=%{x}<br>ascents=%{y}<extra></extra>",
         "legendgroup": "S Col-SE Ridge",
         "marker": {
          "color": "#636efa"
         },
         "name": "S Col-SE Ridge",
         "offsetgroup": "S Col-SE Ridge",
         "orientation": "v",
         "showlegend": true,
         "textposition": "auto",
         "type": "bar",
         "x": [
          "Everest"
         ],
         "xaxis": "x",
         "y": [
          1132
         ],
         "yaxis": "y"
        },
        {
         "alignmentgroup": "True",
         "hovertemplate": "rte_1_name=N Col-NE Ridge<br>peak_name=%{x}<br>ascents=%{y}<extra></extra>",
         "legendgroup": "N Col-NE Ridge",
         "marker": {
          "color": "#EF553B"
         },
         "name": "N Col-NE Ridge",
         "offsetgroup": "N Col-NE Ridge",
         "orientation": "v",
         "showlegend": true,
         "textposition": "auto",
         "type": "bar",
         "x": [
          "Everest"
         ],
         "xaxis": "x",
         "y": [
          671
         ],
         "yaxis": "y"
        },
        {
         "alignmentgroup": "True",
         "hovertemplate": "rte_1_name=N Col-N Face<br>peak_name=%{x}<br>ascents=%{y}<extra></extra>",
         "legendgroup": "N Col-N Face",
         "marker": {
          "color": "#00cc96"
         },
         "name": "N Col-N Face",
         "offsetgroup": "N Col-N Face",
         "orientation": "v",
         "showlegend": true,
         "textposition": "auto",
         "type": "bar",
         "x": [
          "Everest"
         ],
         "xaxis": "x",
         "y": [
          50
         ],
         "yaxis": "y"
        },
        {
         "alignmentgroup": "True",
         "hovertemplate": "rte_1_name=SW Ridge<br>peak_name=%{x}<br>ascents=%{y}<extra></extra>",
         "legendgroup": "SW Ridge",
         "marker": {
          "color": "#ab63fa"
         },
         "name": "SW Ridge",
         "offsetgroup": "SW Ridge",
         "orientation": "v",
         "showlegend": true,
         "textposition": "auto",
         "type": "bar",
         "x": [
          "Ama Dablam",
          "Pumori",
          "Himlung Himal",
          "Langtang Lirung",
          "Annapurna South"
         ],
         "xaxis": "x",
         "y": [
          1347,
          40,
          14,
          3,
          7
         ],
         "yaxis": "y"
        },
        {
         "alignmentgroup": "True",
         "hovertemplate": "rte_1_name=N Ridge<br>peak_name=%{x}<br>ascents=%{y}<extra></extra>",
         "legendgroup": "N Ridge",
         "marker": {
          "color": "#FFA15A"
         },
         "name": "N Ridge",
         "offsetgroup": "N Ridge",
         "orientation": "v",
         "showlegend": true,
         "textposition": "auto",
         "type": "bar",
         "x": [
          "Ama Dablam",
          "Tilicho",
          "Tukuche"
         ],
         "xaxis": "x",
         "y": [
          15,
          8,
          20
         ],
         "yaxis": "y"
        },
        {
         "alignmentgroup": "True",
         "hovertemplate": "rte_1_name=SE Ridge<br>peak_name=%{x}<br>ascents=%{y}<extra></extra>",
         "legendgroup": "SE Ridge",
         "marker": {
          "color": "#19d3f3"
         },
         "name": "SE Ridge",
         "offsetgroup": "SE Ridge",
         "orientation": "v",
         "showlegend": true,
         "textposition": "auto",
         "type": "bar",
         "x": [
          "Ama Dablam",
          "Makalu",
          "Baruntse",
          "Langtang Lirung",
          "Lhotse Shar",
          "Gaurishankar"
         ],
         "xaxis": "x",
         "y": [
          7,
          14,
          234,
          28,
          14,
          3
         ],
         "yaxis": "y"
        },
        {
         "alignmentgroup": "True",
         "hovertemplate": "rte_1_name=NW side<br>peak_name=%{x}<br>ascents=%{y}<extra></extra>",
         "legendgroup": "NW side",
         "marker": {
          "color": "#FF6692"
         },
         "name": "NW side",
         "offsetgroup": "NW side",
         "orientation": "v",
         "showlegend": true,
         "textposition": "auto",
         "type": "bar",
         "x": [
          "Cho Oyu"
         ],
         "xaxis": "x",
         "y": [
          1060
         ],
         "yaxis": "y"
        },
        {
         "alignmentgroup": "True",
         "hovertemplate": "rte_1_name=W Ridge-W Face from N<br>peak_name=%{x}<br>ascents=%{y}<extra></extra>",
         "legendgroup": "W Ridge-W Face from N",
         "marker": {
          "color": "#B6E880"
         },
         "name": "W Ridge-W Face from N",
         "offsetgroup": "W Ridge-W Face from N",
         "orientation": "v",
         "showlegend": true,
         "textposition": "auto",
         "type": "bar",
         "x": [
          "Cho Oyu"
         ],
         "xaxis": "x",
         "y": [
          61
         ],
         "yaxis": "y"
        },
        {
         "alignmentgroup": "True",
         "hovertemplate": "rte_1_name=W Ridge-W Face from S<br>peak_name=%{x}<br>ascents=%{y}<extra></extra>",
         "legendgroup": "W Ridge-W Face from S",
         "marker": {
          "color": "#FF97FF"
         },
         "name": "W Ridge-W Face from S",
         "offsetgroup": "W Ridge-W Face from S",
         "orientation": "v",
         "showlegend": true,
         "textposition": "auto",
         "type": "bar",
         "x": [
          "Cho Oyu"
         ],
         "xaxis": "x",
         "y": [
          25
         ],
         "yaxis": "y"
        },
        {
         "alignmentgroup": "True",
         "hovertemplate": "rte_1_name=NE Face<br>peak_name=%{x}<br>ascents=%{y}<extra></extra>",
         "legendgroup": "NE Face",
         "marker": {
          "color": "#FECB52"
         },
         "name": "NE Face",
         "offsetgroup": "NE Face",
         "orientation": "v",
         "showlegend": true,
         "textposition": "auto",
         "type": "bar",
         "x": [
          "Manaslu",
          "Putha Hiunchuli"
         ],
         "xaxis": "x",
         "y": [
          621,
          57
         ],
         "yaxis": "y"
        },
        {
         "alignmentgroup": "True",
         "hovertemplate": "rte_1_name=E Ridge<br>peak_name=%{x}<br>ascents=%{y}<extra></extra>",
         "legendgroup": "E Ridge",
         "marker": {
          "color": "#636efa"
         },
         "name": "E Ridge",
         "offsetgroup": "E Ridge",
         "orientation": "v",
         "showlegend": true,
         "textposition": "auto",
         "type": "bar",
         "x": [
          "Manaslu",
          "Langtang Lirung"
         ],
         "xaxis": "x",
         "y": [
          7,
          2
         ],
         "yaxis": "y"
        },
        {
         "alignmentgroup": "True",
         "hovertemplate": "rte_1_name=S Face<br>peak_name=%{x}<br>ascents=%{y}<extra></extra>",
         "legendgroup": "S Face",
         "marker": {
          "color": "#EF553B"
         },
         "name": "S Face",
         "offsetgroup": "S Face",
         "orientation": "v",
         "showlegend": true,
         "textposition": "auto",
         "type": "bar",
         "x": [
          "Manaslu",
          "Lhotse",
          "Annapurna I",
          "Nuptse",
          "Lhotse Shar",
          "Annapurna II"
         ],
         "xaxis": "x",
         "y": [
          4,
          21,
          23,
          3,
          3,
          4
         ],
         "yaxis": "y"
        },
        {
         "alignmentgroup": "True",
         "hovertemplate": "rte_1_name=W Face<br>peak_name=%{x}<br>ascents=%{y}<extra></extra>",
         "legendgroup": "W Face",
         "marker": {
          "color": "#00cc96"
         },
         "name": "W Face",
         "offsetgroup": "W Face",
         "orientation": "v",
         "showlegend": true,
         "textposition": "auto",
         "type": "bar",
         "x": [
          "Lhotse",
          "Annapurna III"
         ],
         "xaxis": "x",
         "y": [
          355,
          6
         ],
         "yaxis": "y"
        },
        {
         "alignmentgroup": "True",
         "hovertemplate": "rte_1_name=S Col-W Face<br>peak_name=%{x}<br>ascents=%{y}<extra></extra>",
         "legendgroup": "S Col-W Face",
         "marker": {
          "color": "#ab63fa"
         },
         "name": "S Col-W Face",
         "offsetgroup": "S Col-W Face",
         "orientation": "v",
         "showlegend": true,
         "textposition": "auto",
         "type": "bar",
         "x": [
          "Lhotse"
         ],
         "xaxis": "x",
         "y": [
          24
         ],
         "yaxis": "y"
        },
        {
         "alignmentgroup": "True",
         "hovertemplate": "rte_1_name=NE Ridge<br>peak_name=%{x}<br>ascents=%{y}<extra></extra>",
         "legendgroup": "NE Ridge",
         "marker": {
          "color": "#FFA15A"
         },
         "name": "NE Ridge",
         "offsetgroup": "NE Ridge",
         "orientation": "v",
         "showlegend": true,
         "textposition": "auto",
         "type": "bar",
         "x": [
          "Dhaulagiri I",
          "Tukuche"
         ],
         "xaxis": "x",
         "y": [
          335,
          3
         ],
         "yaxis": "y"
        },
        {
         "alignmentgroup": "True",
         "hovertemplate": "rte_1_name=N Face<br>peak_name=%{x}<br>ascents=%{y}<extra></extra>",
         "legendgroup": "N Face",
         "marker": {
          "color": "#19d3f3"
         },
         "name": "N Face",
         "offsetgroup": "N Face",
         "orientation": "v",
         "showlegend": true,
         "textposition": "auto",
         "type": "bar",
         "x": [
          "Dhaulagiri I",
          "Annapurna I",
          "Kangchenjunga",
          "Nuptse",
          "Jannu",
          "Annapurna III"
         ],
         "xaxis": "x",
         "y": [
          7,
          94,
          12,
          11,
          8,
          4
         ],
         "yaxis": "y"
        },
        {
         "alignmentgroup": "True",
         "hovertemplate": "rte_1_name=E Face-NE Ridge<br>peak_name=%{x}<br>ascents=%{y}<extra></extra>",
         "legendgroup": "E Face-NE Ridge",
         "marker": {
          "color": "#FF6692"
         },
         "name": "E Face-NE Ridge",
         "offsetgroup": "E Face-NE Ridge",
         "orientation": "v",
         "showlegend": true,
         "textposition": "auto",
         "type": "bar",
         "x": [
          "Dhaulagiri I"
         ],
         "xaxis": "x",
         "y": [
          4
         ],
         "yaxis": "y"
        },
        {
         "alignmentgroup": "True",
         "hovertemplate": "rte_1_name=Makalu La-NW Ridge<br>peak_name=%{x}<br>ascents=%{y}<extra></extra>",
         "legendgroup": "Makalu La-NW Ridge",
         "marker": {
          "color": "#B6E880"
         },
         "name": "Makalu La-NW Ridge",
         "offsetgroup": "Makalu La-NW Ridge",
         "orientation": "v",
         "showlegend": true,
         "textposition": "auto",
         "type": "bar",
         "x": [
          "Makalu"
         ],
         "xaxis": "x",
         "y": [
          258
         ],
         "yaxis": "y"
        },
        {
         "alignmentgroup": "True",
         "hovertemplate": "rte_1_name=W Pillar<br>peak_name=%{x}<br>ascents=%{y}<extra></extra>",
         "legendgroup": "W Pillar",
         "marker": {
          "color": "#FF97FF"
         },
         "name": "W Pillar",
         "offsetgroup": "W Pillar",
         "orientation": "v",
         "showlegend": true,
         "textposition": "auto",
         "type": "bar",
         "x": [
          "Makalu"
         ],
         "xaxis": "x",
         "y": [
          11
         ],
         "yaxis": "y"
        },
        {
         "alignmentgroup": "True",
         "hovertemplate": "rte_1_name=SE Rdge<br>peak_name=%{x}<br>ascents=%{y}<extra></extra>",
         "legendgroup": "SE Rdge",
         "marker": {
          "color": "#FECB52"
         },
         "name": "SE Rdge",
         "offsetgroup": "SE Rdge",
         "orientation": "v",
         "showlegend": true,
         "textposition": "auto",
         "type": "bar",
         "x": [
          "Baruntse"
         ],
         "xaxis": "x",
         "y": [
          13
         ],
         "yaxis": "y"
        },
        {
         "alignmentgroup": "True",
         "hovertemplate": "rte_1_name=SE Ridge from W<br>peak_name=%{x}<br>ascents=%{y}<extra></extra>",
         "legendgroup": "SE Ridge from W",
         "marker": {
          "color": "#636efa"
         },
         "name": "SE Ridge from W",
         "offsetgroup": "SE Ridge from W",
         "orientation": "v",
         "showlegend": true,
         "textposition": "auto",
         "type": "bar",
         "x": [
          "Baruntse"
         ],
         "xaxis": "x",
         "y": [
          7
         ],
         "yaxis": "y"
        },
        {
         "alignmentgroup": "True",
         "hovertemplate": "rte_1_name=SE Face-E Ridge<br>peak_name=%{x}<br>ascents=%{y}<extra></extra>",
         "legendgroup": "SE Face-E Ridge",
         "marker": {
          "color": "#EF553B"
         },
         "name": "SE Face-E Ridge",
         "offsetgroup": "SE Face-E Ridge",
         "orientation": "v",
         "showlegend": true,
         "textposition": "auto",
         "type": "bar",
         "x": [
          "Pumori"
         ],
         "xaxis": "x",
         "y": [
          42
         ],
         "yaxis": "y"
        },
        {
         "alignmentgroup": "True",
         "hovertemplate": "rte_1_name=SE Face<br>peak_name=%{x}<br>ascents=%{y}<extra></extra>",
         "legendgroup": "SE Face",
         "marker": {
          "color": "#00cc96"
         },
         "name": "SE Face",
         "offsetgroup": "SE Face",
         "orientation": "v",
         "showlegend": true,
         "textposition": "auto",
         "type": "bar",
         "x": [
          "Pumori"
         ],
         "xaxis": "x",
         "y": [
          23
         ],
         "yaxis": "y"
        },
        {
         "alignmentgroup": "True",
         "hovertemplate": "rte_1_name=N Face (Dutch Rib)<br>peak_name=%{x}<br>ascents=%{y}<extra></extra>",
         "legendgroup": "N Face (Dutch Rib)",
         "marker": {
          "color": "#ab63fa"
         },
         "name": "N Face (Dutch Rib)",
         "offsetgroup": "N Face (Dutch Rib)",
         "orientation": "v",
         "showlegend": true,
         "textposition": "auto",
         "type": "bar",
         "x": [
          "Annapurna I"
         ],
         "xaxis": "x",
         "y": [
          21
         ],
         "yaxis": "y"
        },
        {
         "alignmentgroup": "True",
         "hovertemplate": "rte_1_name=SW Face<br>peak_name=%{x}<br>ascents=%{y}<extra></extra>",
         "legendgroup": "SW Face",
         "marker": {
          "color": "#FFA15A"
         },
         "name": "SW Face",
         "offsetgroup": "SW Face",
         "orientation": "v",
         "showlegend": true,
         "textposition": "auto",
         "type": "bar",
         "x": [
          "Kangchenjunga",
          "Gaurishankar"
         ],
         "xaxis": "x",
         "y": [
          126,
          5
         ],
         "yaxis": "y"
        },
        {
         "alignmentgroup": "True",
         "hovertemplate": "rte_1_name=SW Face-W Col-NW Ridge<br>peak_name=%{x}<br>ascents=%{y}<extra></extra>",
         "legendgroup": "SW Face-W Col-NW Ridge",
         "marker": {
          "color": "#19d3f3"
         },
         "name": "SW Face-W Col-NW Ridge",
         "offsetgroup": "SW Face-W Col-NW Ridge",
         "orientation": "v",
         "showlegend": true,
         "textposition": "auto",
         "type": "bar",
         "x": [
          "Kangchenjunga"
         ],
         "xaxis": "x",
         "y": [
          5
         ],
         "yaxis": "y"
        },
        {
         "alignmentgroup": "True",
         "hovertemplate": "rte_1_name=W Ridge<br>peak_name=%{x}<br>ascents=%{y}<extra></extra>",
         "legendgroup": "W Ridge",
         "marker": {
          "color": "#FF6692"
         },
         "name": "W Ridge",
         "offsetgroup": "W Ridge",
         "orientation": "v",
         "showlegend": true,
         "textposition": "auto",
         "type": "bar",
         "x": [
          "Himlung Himal",
          "Nuptse"
         ],
         "xaxis": "x",
         "y": [
          69,
          3
         ],
         "yaxis": "y"
        },
        {
         "alignmentgroup": "True",
         "hovertemplate": "rte_1_name=NW Ridge<br>peak_name=%{x}<br>ascents=%{y}<extra></extra>",
         "legendgroup": "NW Ridge",
         "marker": {
          "color": "#B6E880"
         },
         "name": "NW Ridge",
         "offsetgroup": "NW Ridge",
         "orientation": "v",
         "showlegend": true,
         "textposition": "auto",
         "type": "bar",
         "x": [
          "Himlung Himal",
          "Annapurna IV",
          "Tukuche",
          "Makalu II"
         ],
         "xaxis": "x",
         "y": [
          42,
          73,
          21,
          7
         ],
         "yaxis": "y"
        },
        {
         "alignmentgroup": "True",
         "hovertemplate": "rte_1_name=NE side<br>peak_name=%{x}<br>ascents=%{y}<extra></extra>",
         "legendgroup": "NE side",
         "marker": {
          "color": "#FF97FF"
         },
         "name": "NE side",
         "offsetgroup": "NE side",
         "orientation": "v",
         "showlegend": true,
         "textposition": "auto",
         "type": "bar",
         "x": [
          "Putha Hiunchuli"
         ],
         "xaxis": "x",
         "y": [
          8
         ],
         "yaxis": "y"
        },
        {
         "alignmentgroup": "True",
         "hovertemplate": "rte_1_name=S Ridge-S Face<br>peak_name=%{x}<br>ascents=%{y}<extra></extra>",
         "legendgroup": "S Ridge-S Face",
         "marker": {
          "color": "#FECB52"
         },
         "name": "S Ridge-S Face",
         "offsetgroup": "S Ridge-S Face",
         "orientation": "v",
         "showlegend": true,
         "textposition": "auto",
         "type": "bar",
         "x": [
          "Putha Hiunchuli"
         ],
         "xaxis": "x",
         "y": [
          7
         ],
         "yaxis": "y"
        },
        {
         "alignmentgroup": "True",
         "hovertemplate": "rte_1_name=N Face-NW Ridge<br>peak_name=%{x}<br>ascents=%{y}<extra></extra>",
         "legendgroup": "N Face-NW Ridge",
         "marker": {
          "color": "#636efa"
         },
         "name": "N Face-NW Ridge",
         "offsetgroup": "N Face-NW Ridge",
         "orientation": "v",
         "showlegend": true,
         "textposition": "auto",
         "type": "bar",
         "x": [
          "Annapurna IV"
         ],
         "xaxis": "x",
         "y": [
          4
         ],
         "yaxis": "y"
        },
        {
         "alignmentgroup": "True",
         "hovertemplate": "rte_1_name=N Face-E Ridge<br>peak_name=%{x}<br>ascents=%{y}<extra></extra>",
         "legendgroup": "N Face-E Ridge",
         "marker": {
          "color": "#EF553B"
         },
         "name": "N Face-E Ridge",
         "offsetgroup": "N Face-E Ridge",
         "orientation": "v",
         "showlegend": true,
         "textposition": "auto",
         "type": "bar",
         "x": [
          "Annapurna IV"
         ],
         "xaxis": "x",
         "y": [
          2
         ],
         "yaxis": "y"
        },
        {
         "alignmentgroup": "True",
         "hovertemplate": "rte_1_name=NE Spur-N Ridge<br>peak_name=%{x}<br>ascents=%{y}<extra></extra>",
         "legendgroup": "NE Spur-N Ridge",
         "marker": {
          "color": "#00cc96"
         },
         "name": "NE Spur-N Ridge",
         "offsetgroup": "NE Spur-N Ridge",
         "orientation": "v",
         "showlegend": true,
         "textposition": "auto",
         "type": "bar",
         "x": [
          "Tilicho"
         ],
         "xaxis": "x",
         "y": [
          41
         ],
         "yaxis": "y"
        },
        {
         "alignmentgroup": "True",
         "hovertemplate": "rte_1_name=NE Spur<br>peak_name=%{x}<br>ascents=%{y}<extra></extra>",
         "legendgroup": "NE Spur",
         "marker": {
          "color": "#ab63fa"
         },
         "name": "NE Spur",
         "offsetgroup": "NE Spur",
         "orientation": "v",
         "showlegend": true,
         "textposition": "auto",
         "type": "bar",
         "x": [
          "Tilicho"
         ],
         "xaxis": "x",
         "y": [
          6
         ],
         "yaxis": "y"
        },
        {
         "alignmentgroup": "True",
         "hovertemplate": "rte_1_name=S Ridge<br>peak_name=%{x}<br>ascents=%{y}<extra></extra>",
         "legendgroup": "S Ridge",
         "marker": {
          "color": "#FFA15A"
         },
         "name": "S Ridge",
         "offsetgroup": "S Ridge",
         "orientation": "v",
         "showlegend": true,
         "textposition": "auto",
         "type": "bar",
         "x": [
          "Makalu II",
          "Jannu"
         ],
         "xaxis": "x",
         "y": [
          21,
          5
         ],
         "yaxis": "y"
        },
        {
         "alignmentgroup": "True",
         "hovertemplate": "rte_1_name=W Face-S Ridge<br>peak_name=%{x}<br>ascents=%{y}<extra></extra>",
         "legendgroup": "W Face-S Ridge",
         "marker": {
          "color": "#19d3f3"
         },
         "name": "W Face-S Ridge",
         "offsetgroup": "W Face-S Ridge",
         "orientation": "v",
         "showlegend": true,
         "textposition": "auto",
         "type": "bar",
         "x": [
          "Makalu II"
         ],
         "xaxis": "x",
         "y": [
          4
         ],
         "yaxis": "y"
        },
        {
         "alignmentgroup": "True",
         "hovertemplate": "rte_1_name=S Ridge (French 1962 rte)<br>peak_name=%{x}<br>ascents=%{y}<extra></extra>",
         "legendgroup": "S Ridge (French 1962 rte)",
         "marker": {
          "color": "#FF6692"
         },
         "name": "S Ridge (French 1962 rte)",
         "offsetgroup": "S Ridge (French 1962 rte)",
         "orientation": "v",
         "showlegend": true,
         "textposition": "auto",
         "type": "bar",
         "x": [
          "Jannu"
         ],
         "xaxis": "x",
         "y": [
          4
         ],
         "yaxis": "y"
        },
        {
         "alignmentgroup": "True",
         "hovertemplate": "rte_1_name=SE Pillar<br>peak_name=%{x}<br>ascents=%{y}<extra></extra>",
         "legendgroup": "SE Pillar",
         "marker": {
          "color": "#B6E880"
         },
         "name": "SE Pillar",
         "offsetgroup": "SE Pillar",
         "orientation": "v",
         "showlegend": true,
         "textposition": "auto",
         "type": "bar",
         "x": [
          "Annapurna III"
         ],
         "xaxis": "x",
         "y": [
          4
         ],
         "yaxis": "y"
        },
        {
         "alignmentgroup": "True",
         "hovertemplate": "rte_1_name=SW Ridge-S Face<br>peak_name=%{x}<br>ascents=%{y}<extra></extra>",
         "legendgroup": "SW Ridge-S Face",
         "marker": {
          "color": "#FF97FF"
         },
         "name": "SW Ridge-S Face",
         "offsetgroup": "SW Ridge-S Face",
         "orientation": "v",
         "showlegend": true,
         "textposition": "auto",
         "type": "bar",
         "x": [
          "Annapurna South"
         ],
         "xaxis": "x",
         "y": [
          3
         ],
         "yaxis": "y"
        },
        {
         "alignmentgroup": "True",
         "hovertemplate": "rte_1_name=E Face<br>peak_name=%{x}<br>ascents=%{y}<extra></extra>",
         "legendgroup": "E Face",
         "marker": {
          "color": "#FECB52"
         },
         "name": "E Face",
         "offsetgroup": "E Face",
         "orientation": "v",
         "showlegend": true,
         "textposition": "auto",
         "type": "bar",
         "x": [
          "Annapurna South"
         ],
         "xaxis": "x",
         "y": [
          2
         ],
         "yaxis": "y"
        },
        {
         "alignmentgroup": "True",
         "hovertemplate": "rte_1_name=S Ridge-SE Ridge<br>peak_name=%{x}<br>ascents=%{y}<extra></extra>",
         "legendgroup": "S Ridge-SE Ridge",
         "marker": {
          "color": "#636efa"
         },
         "name": "S Ridge-SE Ridge",
         "offsetgroup": "S Ridge-SE Ridge",
         "orientation": "v",
         "showlegend": true,
         "textposition": "auto",
         "type": "bar",
         "x": [
          "Lhotse Shar"
         ],
         "xaxis": "x",
         "y": [
          4
         ],
         "yaxis": "y"
        },
        {
         "alignmentgroup": "True",
         "hovertemplate": "rte_1_name=N Face-W Ridge<br>peak_name=%{x}<br>ascents=%{y}<extra></extra>",
         "legendgroup": "N Face-W Ridge",
         "marker": {
          "color": "#EF553B"
         },
         "name": "N Face-W Ridge",
         "offsetgroup": "N Face-W Ridge",
         "orientation": "v",
         "showlegend": true,
         "textposition": "auto",
         "type": "bar",
         "x": [
          "Annapurna II"
         ],
         "xaxis": "x",
         "y": [
          7
         ],
         "yaxis": "y"
        },
        {
         "alignmentgroup": "True",
         "hovertemplate": "rte_1_name=NW Ridge-W Ridge<br>peak_name=%{x}<br>ascents=%{y}<extra></extra>",
         "legendgroup": "NW Ridge-W Ridge",
         "marker": {
          "color": "#00cc96"
         },
         "name": "NW Ridge-W Ridge",
         "offsetgroup": "NW Ridge-W Ridge",
         "orientation": "v",
         "showlegend": true,
         "textposition": "auto",
         "type": "bar",
         "x": [
          "Annapurna II"
         ],
         "xaxis": "x",
         "y": [
          5
         ],
         "yaxis": "y"
        },
        {
         "alignmentgroup": "True",
         "hovertemplate": "rte_1_name=Reconnaissance<br>peak_name=%{x}<br>ascents=%{y}<extra></extra>",
         "legendgroup": "Reconnaissance",
         "marker": {
          "color": "#ab63fa"
         },
         "name": "Reconnaissance",
         "offsetgroup": "Reconnaissance",
         "orientation": "v",
         "showlegend": true,
         "textposition": "auto",
         "type": "bar",
         "x": [
          "Gaurishankar"
         ],
         "xaxis": "x",
         "y": [
          3
         ],
         "yaxis": "y"
        }
       ],
       "layout": {
        "barmode": "relative",
        "legend": {
         "title": {
          "text": "rte_1_name"
         },
         "tracegroupgap": 0
        },
        "margin": {
         "t": 60
        },
        "template": {
         "data": {
          "bar": [
           {
            "error_x": {
             "color": "#2a3f5f"
            },
            "error_y": {
             "color": "#2a3f5f"
            },
            "marker": {
             "line": {
              "color": "#E5ECF6",
              "width": 0.5
             }
            },
            "type": "bar"
           }
          ],
          "barpolar": [
           {
            "marker": {
             "line": {
              "color": "#E5ECF6",
              "width": 0.5
             }
            },
            "type": "barpolar"
           }
          ],
          "carpet": [
           {
            "aaxis": {
             "endlinecolor": "#2a3f5f",
             "gridcolor": "white",
             "linecolor": "white",
             "minorgridcolor": "white",
             "startlinecolor": "#2a3f5f"
            },
            "baxis": {
             "endlinecolor": "#2a3f5f",
             "gridcolor": "white",
             "linecolor": "white",
             "minorgridcolor": "white",
             "startlinecolor": "#2a3f5f"
            },
            "type": "carpet"
           }
          ],
          "choropleth": [
           {
            "colorbar": {
             "outlinewidth": 0,
             "ticks": ""
            },
            "type": "choropleth"
           }
          ],
          "contour": [
           {
            "colorbar": {
             "outlinewidth": 0,
             "ticks": ""
            },
            "colorscale": [
             [
              0,
              "#0d0887"
             ],
             [
              0.1111111111111111,
              "#46039f"
             ],
             [
              0.2222222222222222,
              "#7201a8"
             ],
             [
              0.3333333333333333,
              "#9c179e"
             ],
             [
              0.4444444444444444,
              "#bd3786"
             ],
             [
              0.5555555555555556,
              "#d8576b"
             ],
             [
              0.6666666666666666,
              "#ed7953"
             ],
             [
              0.7777777777777778,
              "#fb9f3a"
             ],
             [
              0.8888888888888888,
              "#fdca26"
             ],
             [
              1,
              "#f0f921"
             ]
            ],
            "type": "contour"
           }
          ],
          "contourcarpet": [
           {
            "colorbar": {
             "outlinewidth": 0,
             "ticks": ""
            },
            "type": "contourcarpet"
           }
          ],
          "heatmap": [
           {
            "colorbar": {
             "outlinewidth": 0,
             "ticks": ""
            },
            "colorscale": [
             [
              0,
              "#0d0887"
             ],
             [
              0.1111111111111111,
              "#46039f"
             ],
             [
              0.2222222222222222,
              "#7201a8"
             ],
             [
              0.3333333333333333,
              "#9c179e"
             ],
             [
              0.4444444444444444,
              "#bd3786"
             ],
             [
              0.5555555555555556,
              "#d8576b"
             ],
             [
              0.6666666666666666,
              "#ed7953"
             ],
             [
              0.7777777777777778,
              "#fb9f3a"
             ],
             [
              0.8888888888888888,
              "#fdca26"
             ],
             [
              1,
              "#f0f921"
             ]
            ],
            "type": "heatmap"
           }
          ],
          "heatmapgl": [
           {
            "colorbar": {
             "outlinewidth": 0,
             "ticks": ""
            },
            "colorscale": [
             [
              0,
              "#0d0887"
             ],
             [
              0.1111111111111111,
              "#46039f"
             ],
             [
              0.2222222222222222,
              "#7201a8"
             ],
             [
              0.3333333333333333,
              "#9c179e"
             ],
             [
              0.4444444444444444,
              "#bd3786"
             ],
             [
              0.5555555555555556,
              "#d8576b"
             ],
             [
              0.6666666666666666,
              "#ed7953"
             ],
             [
              0.7777777777777778,
              "#fb9f3a"
             ],
             [
              0.8888888888888888,
              "#fdca26"
             ],
             [
              1,
              "#f0f921"
             ]
            ],
            "type": "heatmapgl"
           }
          ],
          "histogram": [
           {
            "marker": {
             "colorbar": {
              "outlinewidth": 0,
              "ticks": ""
             }
            },
            "type": "histogram"
           }
          ],
          "histogram2d": [
           {
            "colorbar": {
             "outlinewidth": 0,
             "ticks": ""
            },
            "colorscale": [
             [
              0,
              "#0d0887"
             ],
             [
              0.1111111111111111,
              "#46039f"
             ],
             [
              0.2222222222222222,
              "#7201a8"
             ],
             [
              0.3333333333333333,
              "#9c179e"
             ],
             [
              0.4444444444444444,
              "#bd3786"
             ],
             [
              0.5555555555555556,
              "#d8576b"
             ],
             [
              0.6666666666666666,
              "#ed7953"
             ],
             [
              0.7777777777777778,
              "#fb9f3a"
             ],
             [
              0.8888888888888888,
              "#fdca26"
             ],
             [
              1,
              "#f0f921"
             ]
            ],
            "type": "histogram2d"
           }
          ],
          "histogram2dcontour": [
           {
            "colorbar": {
             "outlinewidth": 0,
             "ticks": ""
            },
            "colorscale": [
             [
              0,
              "#0d0887"
             ],
             [
              0.1111111111111111,
              "#46039f"
             ],
             [
              0.2222222222222222,
              "#7201a8"
             ],
             [
              0.3333333333333333,
              "#9c179e"
             ],
             [
              0.4444444444444444,
              "#bd3786"
             ],
             [
              0.5555555555555556,
              "#d8576b"
             ],
             [
              0.6666666666666666,
              "#ed7953"
             ],
             [
              0.7777777777777778,
              "#fb9f3a"
             ],
             [
              0.8888888888888888,
              "#fdca26"
             ],
             [
              1,
              "#f0f921"
             ]
            ],
            "type": "histogram2dcontour"
           }
          ],
          "mesh3d": [
           {
            "colorbar": {
             "outlinewidth": 0,
             "ticks": ""
            },
            "type": "mesh3d"
           }
          ],
          "parcoords": [
           {
            "line": {
             "colorbar": {
              "outlinewidth": 0,
              "ticks": ""
             }
            },
            "type": "parcoords"
           }
          ],
          "pie": [
           {
            "automargin": true,
            "type": "pie"
           }
          ],
          "scatter": [
           {
            "marker": {
             "colorbar": {
              "outlinewidth": 0,
              "ticks": ""
             }
            },
            "type": "scatter"
           }
          ],
          "scatter3d": [
           {
            "line": {
             "colorbar": {
              "outlinewidth": 0,
              "ticks": ""
             }
            },
            "marker": {
             "colorbar": {
              "outlinewidth": 0,
              "ticks": ""
             }
            },
            "type": "scatter3d"
           }
          ],
          "scattercarpet": [
           {
            "marker": {
             "colorbar": {
              "outlinewidth": 0,
              "ticks": ""
             }
            },
            "type": "scattercarpet"
           }
          ],
          "scattergeo": [
           {
            "marker": {
             "colorbar": {
              "outlinewidth": 0,
              "ticks": ""
             }
            },
            "type": "scattergeo"
           }
          ],
          "scattergl": [
           {
            "marker": {
             "colorbar": {
              "outlinewidth": 0,
              "ticks": ""
             }
            },
            "type": "scattergl"
           }
          ],
          "scattermapbox": [
           {
            "marker": {
             "colorbar": {
              "outlinewidth": 0,
              "ticks": ""
             }
            },
            "type": "scattermapbox"
           }
          ],
          "scatterpolar": [
           {
            "marker": {
             "colorbar": {
              "outlinewidth": 0,
              "ticks": ""
             }
            },
            "type": "scatterpolar"
           }
          ],
          "scatterpolargl": [
           {
            "marker": {
             "colorbar": {
              "outlinewidth": 0,
              "ticks": ""
             }
            },
            "type": "scatterpolargl"
           }
          ],
          "scatterternary": [
           {
            "marker": {
             "colorbar": {
              "outlinewidth": 0,
              "ticks": ""
             }
            },
            "type": "scatterternary"
           }
          ],
          "surface": [
           {
            "colorbar": {
             "outlinewidth": 0,
             "ticks": ""
            },
            "colorscale": [
             [
              0,
              "#0d0887"
             ],
             [
              0.1111111111111111,
              "#46039f"
             ],
             [
              0.2222222222222222,
              "#7201a8"
             ],
             [
              0.3333333333333333,
              "#9c179e"
             ],
             [
              0.4444444444444444,
              "#bd3786"
             ],
             [
              0.5555555555555556,
              "#d8576b"
             ],
             [
              0.6666666666666666,
              "#ed7953"
             ],
             [
              0.7777777777777778,
              "#fb9f3a"
             ],
             [
              0.8888888888888888,
              "#fdca26"
             ],
             [
              1,
              "#f0f921"
             ]
            ],
            "type": "surface"
           }
          ],
          "table": [
           {
            "cells": {
             "fill": {
              "color": "#EBF0F8"
             },
             "line": {
              "color": "white"
             }
            },
            "header": {
             "fill": {
              "color": "#C8D4E3"
             },
             "line": {
              "color": "white"
             }
            },
            "type": "table"
           }
          ]
         },
         "layout": {
          "annotationdefaults": {
           "arrowcolor": "#2a3f5f",
           "arrowhead": 0,
           "arrowwidth": 1
          },
          "autotypenumbers": "strict",
          "coloraxis": {
           "colorbar": {
            "outlinewidth": 0,
            "ticks": ""
           }
          },
          "colorscale": {
           "diverging": [
            [
             0,
             "#8e0152"
            ],
            [
             0.1,
             "#c51b7d"
            ],
            [
             0.2,
             "#de77ae"
            ],
            [
             0.3,
             "#f1b6da"
            ],
            [
             0.4,
             "#fde0ef"
            ],
            [
             0.5,
             "#f7f7f7"
            ],
            [
             0.6,
             "#e6f5d0"
            ],
            [
             0.7,
             "#b8e186"
            ],
            [
             0.8,
             "#7fbc41"
            ],
            [
             0.9,
             "#4d9221"
            ],
            [
             1,
             "#276419"
            ]
           ],
           "sequential": [
            [
             0,
             "#0d0887"
            ],
            [
             0.1111111111111111,
             "#46039f"
            ],
            [
             0.2222222222222222,
             "#7201a8"
            ],
            [
             0.3333333333333333,
             "#9c179e"
            ],
            [
             0.4444444444444444,
             "#bd3786"
            ],
            [
             0.5555555555555556,
             "#d8576b"
            ],
            [
             0.6666666666666666,
             "#ed7953"
            ],
            [
             0.7777777777777778,
             "#fb9f3a"
            ],
            [
             0.8888888888888888,
             "#fdca26"
            ],
            [
             1,
             "#f0f921"
            ]
           ],
           "sequentialminus": [
            [
             0,
             "#0d0887"
            ],
            [
             0.1111111111111111,
             "#46039f"
            ],
            [
             0.2222222222222222,
             "#7201a8"
            ],
            [
             0.3333333333333333,
             "#9c179e"
            ],
            [
             0.4444444444444444,
             "#bd3786"
            ],
            [
             0.5555555555555556,
             "#d8576b"
            ],
            [
             0.6666666666666666,
             "#ed7953"
            ],
            [
             0.7777777777777778,
             "#fb9f3a"
            ],
            [
             0.8888888888888888,
             "#fdca26"
            ],
            [
             1,
             "#f0f921"
            ]
           ]
          },
          "colorway": [
           "#636efa",
           "#EF553B",
           "#00cc96",
           "#ab63fa",
           "#FFA15A",
           "#19d3f3",
           "#FF6692",
           "#B6E880",
           "#FF97FF",
           "#FECB52"
          ],
          "font": {
           "color": "#2a3f5f"
          },
          "geo": {
           "bgcolor": "white",
           "lakecolor": "white",
           "landcolor": "#E5ECF6",
           "showlakes": true,
           "showland": true,
           "subunitcolor": "white"
          },
          "hoverlabel": {
           "align": "left"
          },
          "hovermode": "closest",
          "mapbox": {
           "style": "light"
          },
          "paper_bgcolor": "white",
          "plot_bgcolor": "#E5ECF6",
          "polar": {
           "angularaxis": {
            "gridcolor": "white",
            "linecolor": "white",
            "ticks": ""
           },
           "bgcolor": "#E5ECF6",
           "radialaxis": {
            "gridcolor": "white",
            "linecolor": "white",
            "ticks": ""
           }
          },
          "scene": {
           "xaxis": {
            "backgroundcolor": "#E5ECF6",
            "gridcolor": "white",
            "gridwidth": 2,
            "linecolor": "white",
            "showbackground": true,
            "ticks": "",
            "zerolinecolor": "white"
           },
           "yaxis": {
            "backgroundcolor": "#E5ECF6",
            "gridcolor": "white",
            "gridwidth": 2,
            "linecolor": "white",
            "showbackground": true,
            "ticks": "",
            "zerolinecolor": "white"
           },
           "zaxis": {
            "backgroundcolor": "#E5ECF6",
            "gridcolor": "white",
            "gridwidth": 2,
            "linecolor": "white",
            "showbackground": true,
            "ticks": "",
            "zerolinecolor": "white"
           }
          },
          "shapedefaults": {
           "line": {
            "color": "#2a3f5f"
           }
          },
          "ternary": {
           "aaxis": {
            "gridcolor": "white",
            "linecolor": "white",
            "ticks": ""
           },
           "baxis": {
            "gridcolor": "white",
            "linecolor": "white",
            "ticks": ""
           },
           "bgcolor": "#E5ECF6",
           "caxis": {
            "gridcolor": "white",
            "linecolor": "white",
            "ticks": ""
           }
          },
          "title": {
           "x": 0.05
          },
          "xaxis": {
           "automargin": true,
           "gridcolor": "white",
           "linecolor": "white",
           "ticks": "",
           "title": {
            "standoff": 15
           },
           "zerolinecolor": "white",
           "zerolinewidth": 2
          },
          "yaxis": {
           "automargin": true,
           "gridcolor": "white",
           "linecolor": "white",
           "ticks": "",
           "title": {
            "standoff": 15
           },
           "zerolinecolor": "white",
           "zerolinewidth": 2
          }
         }
        },
        "xaxis": {
         "anchor": "y",
         "domain": [
          0,
          1
         ],
         "title": {
          "text": "peak_name"
         }
        },
        "yaxis": {
         "anchor": "x",
         "domain": [
          0,
          1
         ],
         "title": {
          "text": "ascents"
         }
        }
       }
      },
      "text/html": [
       "<div>                            <div id=\"53dc8afd-f52b-4603-9bb4-9054ecdac2a7\" class=\"plotly-graph-div\" style=\"height:525px; width:100%;\"></div>            <script type=\"text/javascript\">                require([\"plotly\"], function(Plotly) {                    window.PLOTLYENV=window.PLOTLYENV || {};                                    if (document.getElementById(\"53dc8afd-f52b-4603-9bb4-9054ecdac2a7\")) {                    Plotly.newPlot(                        \"53dc8afd-f52b-4603-9bb4-9054ecdac2a7\",                        [{\"alignmentgroup\": \"True\", \"hovertemplate\": \"rte_1_name=S Col-SE Ridge<br>peak_name=%{x}<br>ascents=%{y}<extra></extra>\", \"legendgroup\": \"S Col-SE Ridge\", \"marker\": {\"color\": \"#636efa\"}, \"name\": \"S Col-SE Ridge\", \"offsetgroup\": \"S Col-SE Ridge\", \"orientation\": \"v\", \"showlegend\": true, \"textposition\": \"auto\", \"type\": \"bar\", \"x\": [\"Everest\"], \"xaxis\": \"x\", \"y\": [1132], \"yaxis\": \"y\"}, {\"alignmentgroup\": \"True\", \"hovertemplate\": \"rte_1_name=N Col-NE Ridge<br>peak_name=%{x}<br>ascents=%{y}<extra></extra>\", \"legendgroup\": \"N Col-NE Ridge\", \"marker\": {\"color\": \"#EF553B\"}, \"name\": \"N Col-NE Ridge\", \"offsetgroup\": \"N Col-NE Ridge\", \"orientation\": \"v\", \"showlegend\": true, \"textposition\": \"auto\", \"type\": \"bar\", \"x\": [\"Everest\"], \"xaxis\": \"x\", \"y\": [671], \"yaxis\": \"y\"}, {\"alignmentgroup\": \"True\", \"hovertemplate\": \"rte_1_name=N Col-N Face<br>peak_name=%{x}<br>ascents=%{y}<extra></extra>\", \"legendgroup\": \"N Col-N Face\", \"marker\": {\"color\": \"#00cc96\"}, \"name\": \"N Col-N Face\", \"offsetgroup\": \"N Col-N Face\", \"orientation\": \"v\", \"showlegend\": true, \"textposition\": \"auto\", \"type\": \"bar\", \"x\": [\"Everest\"], \"xaxis\": \"x\", \"y\": [50], \"yaxis\": \"y\"}, {\"alignmentgroup\": \"True\", \"hovertemplate\": \"rte_1_name=SW Ridge<br>peak_name=%{x}<br>ascents=%{y}<extra></extra>\", \"legendgroup\": \"SW Ridge\", \"marker\": {\"color\": \"#ab63fa\"}, \"name\": \"SW Ridge\", \"offsetgroup\": \"SW Ridge\", \"orientation\": \"v\", \"showlegend\": true, \"textposition\": \"auto\", \"type\": \"bar\", \"x\": [\"Ama Dablam\", \"Pumori\", \"Himlung Himal\", \"Langtang Lirung\", \"Annapurna South\"], \"xaxis\": \"x\", \"y\": [1347, 40, 14, 3, 7], \"yaxis\": \"y\"}, {\"alignmentgroup\": \"True\", \"hovertemplate\": \"rte_1_name=N Ridge<br>peak_name=%{x}<br>ascents=%{y}<extra></extra>\", \"legendgroup\": \"N Ridge\", \"marker\": {\"color\": \"#FFA15A\"}, \"name\": \"N Ridge\", \"offsetgroup\": \"N Ridge\", \"orientation\": \"v\", \"showlegend\": true, \"textposition\": \"auto\", \"type\": \"bar\", \"x\": [\"Ama Dablam\", \"Tilicho\", \"Tukuche\"], \"xaxis\": \"x\", \"y\": [15, 8, 20], \"yaxis\": \"y\"}, {\"alignmentgroup\": \"True\", \"hovertemplate\": \"rte_1_name=SE Ridge<br>peak_name=%{x}<br>ascents=%{y}<extra></extra>\", \"legendgroup\": \"SE Ridge\", \"marker\": {\"color\": \"#19d3f3\"}, \"name\": \"SE Ridge\", \"offsetgroup\": \"SE Ridge\", \"orientation\": \"v\", \"showlegend\": true, \"textposition\": \"auto\", \"type\": \"bar\", \"x\": [\"Ama Dablam\", \"Makalu\", \"Baruntse\", \"Langtang Lirung\", \"Lhotse Shar\", \"Gaurishankar\"], \"xaxis\": \"x\", \"y\": [7, 14, 234, 28, 14, 3], \"yaxis\": \"y\"}, {\"alignmentgroup\": \"True\", \"hovertemplate\": \"rte_1_name=NW side<br>peak_name=%{x}<br>ascents=%{y}<extra></extra>\", \"legendgroup\": \"NW side\", \"marker\": {\"color\": \"#FF6692\"}, \"name\": \"NW side\", \"offsetgroup\": \"NW side\", \"orientation\": \"v\", \"showlegend\": true, \"textposition\": \"auto\", \"type\": \"bar\", \"x\": [\"Cho Oyu\"], \"xaxis\": \"x\", \"y\": [1060], \"yaxis\": \"y\"}, {\"alignmentgroup\": \"True\", \"hovertemplate\": \"rte_1_name=W Ridge-W Face from N<br>peak_name=%{x}<br>ascents=%{y}<extra></extra>\", \"legendgroup\": \"W Ridge-W Face from N\", \"marker\": {\"color\": \"#B6E880\"}, \"name\": \"W Ridge-W Face from N\", \"offsetgroup\": \"W Ridge-W Face from N\", \"orientation\": \"v\", \"showlegend\": true, \"textposition\": \"auto\", \"type\": \"bar\", \"x\": [\"Cho Oyu\"], \"xaxis\": \"x\", \"y\": [61], \"yaxis\": \"y\"}, {\"alignmentgroup\": \"True\", \"hovertemplate\": \"rte_1_name=W Ridge-W Face from S<br>peak_name=%{x}<br>ascents=%{y}<extra></extra>\", \"legendgroup\": \"W Ridge-W Face from S\", \"marker\": {\"color\": \"#FF97FF\"}, \"name\": \"W Ridge-W Face from S\", \"offsetgroup\": \"W Ridge-W Face from S\", \"orientation\": \"v\", \"showlegend\": true, \"textposition\": \"auto\", \"type\": \"bar\", \"x\": [\"Cho Oyu\"], \"xaxis\": \"x\", \"y\": [25], \"yaxis\": \"y\"}, {\"alignmentgroup\": \"True\", \"hovertemplate\": \"rte_1_name=NE Face<br>peak_name=%{x}<br>ascents=%{y}<extra></extra>\", \"legendgroup\": \"NE Face\", \"marker\": {\"color\": \"#FECB52\"}, \"name\": \"NE Face\", \"offsetgroup\": \"NE Face\", \"orientation\": \"v\", \"showlegend\": true, \"textposition\": \"auto\", \"type\": \"bar\", \"x\": [\"Manaslu\", \"Putha Hiunchuli\"], \"xaxis\": \"x\", \"y\": [621, 57], \"yaxis\": \"y\"}, {\"alignmentgroup\": \"True\", \"hovertemplate\": \"rte_1_name=E Ridge<br>peak_name=%{x}<br>ascents=%{y}<extra></extra>\", \"legendgroup\": \"E Ridge\", \"marker\": {\"color\": \"#636efa\"}, \"name\": \"E Ridge\", \"offsetgroup\": \"E Ridge\", \"orientation\": \"v\", \"showlegend\": true, \"textposition\": \"auto\", \"type\": \"bar\", \"x\": [\"Manaslu\", \"Langtang Lirung\"], \"xaxis\": \"x\", \"y\": [7, 2], \"yaxis\": \"y\"}, {\"alignmentgroup\": \"True\", \"hovertemplate\": \"rte_1_name=S Face<br>peak_name=%{x}<br>ascents=%{y}<extra></extra>\", \"legendgroup\": \"S Face\", \"marker\": {\"color\": \"#EF553B\"}, \"name\": \"S Face\", \"offsetgroup\": \"S Face\", \"orientation\": \"v\", \"showlegend\": true, \"textposition\": \"auto\", \"type\": \"bar\", \"x\": [\"Manaslu\", \"Lhotse\", \"Annapurna I\", \"Nuptse\", \"Lhotse Shar\", \"Annapurna II\"], \"xaxis\": \"x\", \"y\": [4, 21, 23, 3, 3, 4], \"yaxis\": \"y\"}, {\"alignmentgroup\": \"True\", \"hovertemplate\": \"rte_1_name=W Face<br>peak_name=%{x}<br>ascents=%{y}<extra></extra>\", \"legendgroup\": \"W Face\", \"marker\": {\"color\": \"#00cc96\"}, \"name\": \"W Face\", \"offsetgroup\": \"W Face\", \"orientation\": \"v\", \"showlegend\": true, \"textposition\": \"auto\", \"type\": \"bar\", \"x\": [\"Lhotse\", \"Annapurna III\"], \"xaxis\": \"x\", \"y\": [355, 6], \"yaxis\": \"y\"}, {\"alignmentgroup\": \"True\", \"hovertemplate\": \"rte_1_name=S Col-W Face<br>peak_name=%{x}<br>ascents=%{y}<extra></extra>\", \"legendgroup\": \"S Col-W Face\", \"marker\": {\"color\": \"#ab63fa\"}, \"name\": \"S Col-W Face\", \"offsetgroup\": \"S Col-W Face\", \"orientation\": \"v\", \"showlegend\": true, \"textposition\": \"auto\", \"type\": \"bar\", \"x\": [\"Lhotse\"], \"xaxis\": \"x\", \"y\": [24], \"yaxis\": \"y\"}, {\"alignmentgroup\": \"True\", \"hovertemplate\": \"rte_1_name=NE Ridge<br>peak_name=%{x}<br>ascents=%{y}<extra></extra>\", \"legendgroup\": \"NE Ridge\", \"marker\": {\"color\": \"#FFA15A\"}, \"name\": \"NE Ridge\", \"offsetgroup\": \"NE Ridge\", \"orientation\": \"v\", \"showlegend\": true, \"textposition\": \"auto\", \"type\": \"bar\", \"x\": [\"Dhaulagiri I\", \"Tukuche\"], \"xaxis\": \"x\", \"y\": [335, 3], \"yaxis\": \"y\"}, {\"alignmentgroup\": \"True\", \"hovertemplate\": \"rte_1_name=N Face<br>peak_name=%{x}<br>ascents=%{y}<extra></extra>\", \"legendgroup\": \"N Face\", \"marker\": {\"color\": \"#19d3f3\"}, \"name\": \"N Face\", \"offsetgroup\": \"N Face\", \"orientation\": \"v\", \"showlegend\": true, \"textposition\": \"auto\", \"type\": \"bar\", \"x\": [\"Dhaulagiri I\", \"Annapurna I\", \"Kangchenjunga\", \"Nuptse\", \"Jannu\", \"Annapurna III\"], \"xaxis\": \"x\", \"y\": [7, 94, 12, 11, 8, 4], \"yaxis\": \"y\"}, {\"alignmentgroup\": \"True\", \"hovertemplate\": \"rte_1_name=E Face-NE Ridge<br>peak_name=%{x}<br>ascents=%{y}<extra></extra>\", \"legendgroup\": \"E Face-NE Ridge\", \"marker\": {\"color\": \"#FF6692\"}, \"name\": \"E Face-NE Ridge\", \"offsetgroup\": \"E Face-NE Ridge\", \"orientation\": \"v\", \"showlegend\": true, \"textposition\": \"auto\", \"type\": \"bar\", \"x\": [\"Dhaulagiri I\"], \"xaxis\": \"x\", \"y\": [4], \"yaxis\": \"y\"}, {\"alignmentgroup\": \"True\", \"hovertemplate\": \"rte_1_name=Makalu La-NW Ridge<br>peak_name=%{x}<br>ascents=%{y}<extra></extra>\", \"legendgroup\": \"Makalu La-NW Ridge\", \"marker\": {\"color\": \"#B6E880\"}, \"name\": \"Makalu La-NW Ridge\", \"offsetgroup\": \"Makalu La-NW Ridge\", \"orientation\": \"v\", \"showlegend\": true, \"textposition\": \"auto\", \"type\": \"bar\", \"x\": [\"Makalu\"], \"xaxis\": \"x\", \"y\": [258], \"yaxis\": \"y\"}, {\"alignmentgroup\": \"True\", \"hovertemplate\": \"rte_1_name=W Pillar<br>peak_name=%{x}<br>ascents=%{y}<extra></extra>\", \"legendgroup\": \"W Pillar\", \"marker\": {\"color\": \"#FF97FF\"}, \"name\": \"W Pillar\", \"offsetgroup\": \"W Pillar\", \"orientation\": \"v\", \"showlegend\": true, \"textposition\": \"auto\", \"type\": \"bar\", \"x\": [\"Makalu\"], \"xaxis\": \"x\", \"y\": [11], \"yaxis\": \"y\"}, {\"alignmentgroup\": \"True\", \"hovertemplate\": \"rte_1_name=SE Rdge<br>peak_name=%{x}<br>ascents=%{y}<extra></extra>\", \"legendgroup\": \"SE Rdge\", \"marker\": {\"color\": \"#FECB52\"}, \"name\": \"SE Rdge\", \"offsetgroup\": \"SE Rdge\", \"orientation\": \"v\", \"showlegend\": true, \"textposition\": \"auto\", \"type\": \"bar\", \"x\": [\"Baruntse\"], \"xaxis\": \"x\", \"y\": [13], \"yaxis\": \"y\"}, {\"alignmentgroup\": \"True\", \"hovertemplate\": \"rte_1_name=SE Ridge from W<br>peak_name=%{x}<br>ascents=%{y}<extra></extra>\", \"legendgroup\": \"SE Ridge from W\", \"marker\": {\"color\": \"#636efa\"}, \"name\": \"SE Ridge from W\", \"offsetgroup\": \"SE Ridge from W\", \"orientation\": \"v\", \"showlegend\": true, \"textposition\": \"auto\", \"type\": \"bar\", \"x\": [\"Baruntse\"], \"xaxis\": \"x\", \"y\": [7], \"yaxis\": \"y\"}, {\"alignmentgroup\": \"True\", \"hovertemplate\": \"rte_1_name=SE Face-E Ridge<br>peak_name=%{x}<br>ascents=%{y}<extra></extra>\", \"legendgroup\": \"SE Face-E Ridge\", \"marker\": {\"color\": \"#EF553B\"}, \"name\": \"SE Face-E Ridge\", \"offsetgroup\": \"SE Face-E Ridge\", \"orientation\": \"v\", \"showlegend\": true, \"textposition\": \"auto\", \"type\": \"bar\", \"x\": [\"Pumori\"], \"xaxis\": \"x\", \"y\": [42], \"yaxis\": \"y\"}, {\"alignmentgroup\": \"True\", \"hovertemplate\": \"rte_1_name=SE Face<br>peak_name=%{x}<br>ascents=%{y}<extra></extra>\", \"legendgroup\": \"SE Face\", \"marker\": {\"color\": \"#00cc96\"}, \"name\": \"SE Face\", \"offsetgroup\": \"SE Face\", \"orientation\": \"v\", \"showlegend\": true, \"textposition\": \"auto\", \"type\": \"bar\", \"x\": [\"Pumori\"], \"xaxis\": \"x\", \"y\": [23], \"yaxis\": \"y\"}, {\"alignmentgroup\": \"True\", \"hovertemplate\": \"rte_1_name=N Face (Dutch Rib)<br>peak_name=%{x}<br>ascents=%{y}<extra></extra>\", \"legendgroup\": \"N Face (Dutch Rib)\", \"marker\": {\"color\": \"#ab63fa\"}, \"name\": \"N Face (Dutch Rib)\", \"offsetgroup\": \"N Face (Dutch Rib)\", \"orientation\": \"v\", \"showlegend\": true, \"textposition\": \"auto\", \"type\": \"bar\", \"x\": [\"Annapurna I\"], \"xaxis\": \"x\", \"y\": [21], \"yaxis\": \"y\"}, {\"alignmentgroup\": \"True\", \"hovertemplate\": \"rte_1_name=SW Face<br>peak_name=%{x}<br>ascents=%{y}<extra></extra>\", \"legendgroup\": \"SW Face\", \"marker\": {\"color\": \"#FFA15A\"}, \"name\": \"SW Face\", \"offsetgroup\": \"SW Face\", \"orientation\": \"v\", \"showlegend\": true, \"textposition\": \"auto\", \"type\": \"bar\", \"x\": [\"Kangchenjunga\", \"Gaurishankar\"], \"xaxis\": \"x\", \"y\": [126, 5], \"yaxis\": \"y\"}, {\"alignmentgroup\": \"True\", \"hovertemplate\": \"rte_1_name=SW Face-W Col-NW Ridge<br>peak_name=%{x}<br>ascents=%{y}<extra></extra>\", \"legendgroup\": \"SW Face-W Col-NW Ridge\", \"marker\": {\"color\": \"#19d3f3\"}, \"name\": \"SW Face-W Col-NW Ridge\", \"offsetgroup\": \"SW Face-W Col-NW Ridge\", \"orientation\": \"v\", \"showlegend\": true, \"textposition\": \"auto\", \"type\": \"bar\", \"x\": [\"Kangchenjunga\"], \"xaxis\": \"x\", \"y\": [5], \"yaxis\": \"y\"}, {\"alignmentgroup\": \"True\", \"hovertemplate\": \"rte_1_name=W Ridge<br>peak_name=%{x}<br>ascents=%{y}<extra></extra>\", \"legendgroup\": \"W Ridge\", \"marker\": {\"color\": \"#FF6692\"}, \"name\": \"W Ridge\", \"offsetgroup\": \"W Ridge\", \"orientation\": \"v\", \"showlegend\": true, \"textposition\": \"auto\", \"type\": \"bar\", \"x\": [\"Himlung Himal\", \"Nuptse\"], \"xaxis\": \"x\", \"y\": [69, 3], \"yaxis\": \"y\"}, {\"alignmentgroup\": \"True\", \"hovertemplate\": \"rte_1_name=NW Ridge<br>peak_name=%{x}<br>ascents=%{y}<extra></extra>\", \"legendgroup\": \"NW Ridge\", \"marker\": {\"color\": \"#B6E880\"}, \"name\": \"NW Ridge\", \"offsetgroup\": \"NW Ridge\", \"orientation\": \"v\", \"showlegend\": true, \"textposition\": \"auto\", \"type\": \"bar\", \"x\": [\"Himlung Himal\", \"Annapurna IV\", \"Tukuche\", \"Makalu II\"], \"xaxis\": \"x\", \"y\": [42, 73, 21, 7], \"yaxis\": \"y\"}, {\"alignmentgroup\": \"True\", \"hovertemplate\": \"rte_1_name=NE side<br>peak_name=%{x}<br>ascents=%{y}<extra></extra>\", \"legendgroup\": \"NE side\", \"marker\": {\"color\": \"#FF97FF\"}, \"name\": \"NE side\", \"offsetgroup\": \"NE side\", \"orientation\": \"v\", \"showlegend\": true, \"textposition\": \"auto\", \"type\": \"bar\", \"x\": [\"Putha Hiunchuli\"], \"xaxis\": \"x\", \"y\": [8], \"yaxis\": \"y\"}, {\"alignmentgroup\": \"True\", \"hovertemplate\": \"rte_1_name=S Ridge-S Face<br>peak_name=%{x}<br>ascents=%{y}<extra></extra>\", \"legendgroup\": \"S Ridge-S Face\", \"marker\": {\"color\": \"#FECB52\"}, \"name\": \"S Ridge-S Face\", \"offsetgroup\": \"S Ridge-S Face\", \"orientation\": \"v\", \"showlegend\": true, \"textposition\": \"auto\", \"type\": \"bar\", \"x\": [\"Putha Hiunchuli\"], \"xaxis\": \"x\", \"y\": [7], \"yaxis\": \"y\"}, {\"alignmentgroup\": \"True\", \"hovertemplate\": \"rte_1_name=N Face-NW Ridge<br>peak_name=%{x}<br>ascents=%{y}<extra></extra>\", \"legendgroup\": \"N Face-NW Ridge\", \"marker\": {\"color\": \"#636efa\"}, \"name\": \"N Face-NW Ridge\", \"offsetgroup\": \"N Face-NW Ridge\", \"orientation\": \"v\", \"showlegend\": true, \"textposition\": \"auto\", \"type\": \"bar\", \"x\": [\"Annapurna IV\"], \"xaxis\": \"x\", \"y\": [4], \"yaxis\": \"y\"}, {\"alignmentgroup\": \"True\", \"hovertemplate\": \"rte_1_name=N Face-E Ridge<br>peak_name=%{x}<br>ascents=%{y}<extra></extra>\", \"legendgroup\": \"N Face-E Ridge\", \"marker\": {\"color\": \"#EF553B\"}, \"name\": \"N Face-E Ridge\", \"offsetgroup\": \"N Face-E Ridge\", \"orientation\": \"v\", \"showlegend\": true, \"textposition\": \"auto\", \"type\": \"bar\", \"x\": [\"Annapurna IV\"], \"xaxis\": \"x\", \"y\": [2], \"yaxis\": \"y\"}, {\"alignmentgroup\": \"True\", \"hovertemplate\": \"rte_1_name=NE Spur-N Ridge<br>peak_name=%{x}<br>ascents=%{y}<extra></extra>\", \"legendgroup\": \"NE Spur-N Ridge\", \"marker\": {\"color\": \"#00cc96\"}, \"name\": \"NE Spur-N Ridge\", \"offsetgroup\": \"NE Spur-N Ridge\", \"orientation\": \"v\", \"showlegend\": true, \"textposition\": \"auto\", \"type\": \"bar\", \"x\": [\"Tilicho\"], \"xaxis\": \"x\", \"y\": [41], \"yaxis\": \"y\"}, {\"alignmentgroup\": \"True\", \"hovertemplate\": \"rte_1_name=NE Spur<br>peak_name=%{x}<br>ascents=%{y}<extra></extra>\", \"legendgroup\": \"NE Spur\", \"marker\": {\"color\": \"#ab63fa\"}, \"name\": \"NE Spur\", \"offsetgroup\": \"NE Spur\", \"orientation\": \"v\", \"showlegend\": true, \"textposition\": \"auto\", \"type\": \"bar\", \"x\": [\"Tilicho\"], \"xaxis\": \"x\", \"y\": [6], \"yaxis\": \"y\"}, {\"alignmentgroup\": \"True\", \"hovertemplate\": \"rte_1_name=S Ridge<br>peak_name=%{x}<br>ascents=%{y}<extra></extra>\", \"legendgroup\": \"S Ridge\", \"marker\": {\"color\": \"#FFA15A\"}, \"name\": \"S Ridge\", \"offsetgroup\": \"S Ridge\", \"orientation\": \"v\", \"showlegend\": true, \"textposition\": \"auto\", \"type\": \"bar\", \"x\": [\"Makalu II\", \"Jannu\"], \"xaxis\": \"x\", \"y\": [21, 5], \"yaxis\": \"y\"}, {\"alignmentgroup\": \"True\", \"hovertemplate\": \"rte_1_name=W Face-S Ridge<br>peak_name=%{x}<br>ascents=%{y}<extra></extra>\", \"legendgroup\": \"W Face-S Ridge\", \"marker\": {\"color\": \"#19d3f3\"}, \"name\": \"W Face-S Ridge\", \"offsetgroup\": \"W Face-S Ridge\", \"orientation\": \"v\", \"showlegend\": true, \"textposition\": \"auto\", \"type\": \"bar\", \"x\": [\"Makalu II\"], \"xaxis\": \"x\", \"y\": [4], \"yaxis\": \"y\"}, {\"alignmentgroup\": \"True\", \"hovertemplate\": \"rte_1_name=S Ridge (French 1962 rte)<br>peak_name=%{x}<br>ascents=%{y}<extra></extra>\", \"legendgroup\": \"S Ridge (French 1962 rte)\", \"marker\": {\"color\": \"#FF6692\"}, \"name\": \"S Ridge (French 1962 rte)\", \"offsetgroup\": \"S Ridge (French 1962 rte)\", \"orientation\": \"v\", \"showlegend\": true, \"textposition\": \"auto\", \"type\": \"bar\", \"x\": [\"Jannu\"], \"xaxis\": \"x\", \"y\": [4], \"yaxis\": \"y\"}, {\"alignmentgroup\": \"True\", \"hovertemplate\": \"rte_1_name=SE Pillar<br>peak_name=%{x}<br>ascents=%{y}<extra></extra>\", \"legendgroup\": \"SE Pillar\", \"marker\": {\"color\": \"#B6E880\"}, \"name\": \"SE Pillar\", \"offsetgroup\": \"SE Pillar\", \"orientation\": \"v\", \"showlegend\": true, \"textposition\": \"auto\", \"type\": \"bar\", \"x\": [\"Annapurna III\"], \"xaxis\": \"x\", \"y\": [4], \"yaxis\": \"y\"}, {\"alignmentgroup\": \"True\", \"hovertemplate\": \"rte_1_name=SW Ridge-S Face<br>peak_name=%{x}<br>ascents=%{y}<extra></extra>\", \"legendgroup\": \"SW Ridge-S Face\", \"marker\": {\"color\": \"#FF97FF\"}, \"name\": \"SW Ridge-S Face\", \"offsetgroup\": \"SW Ridge-S Face\", \"orientation\": \"v\", \"showlegend\": true, \"textposition\": \"auto\", \"type\": \"bar\", \"x\": [\"Annapurna South\"], \"xaxis\": \"x\", \"y\": [3], \"yaxis\": \"y\"}, {\"alignmentgroup\": \"True\", \"hovertemplate\": \"rte_1_name=E Face<br>peak_name=%{x}<br>ascents=%{y}<extra></extra>\", \"legendgroup\": \"E Face\", \"marker\": {\"color\": \"#FECB52\"}, \"name\": \"E Face\", \"offsetgroup\": \"E Face\", \"orientation\": \"v\", \"showlegend\": true, \"textposition\": \"auto\", \"type\": \"bar\", \"x\": [\"Annapurna South\"], \"xaxis\": \"x\", \"y\": [2], \"yaxis\": \"y\"}, {\"alignmentgroup\": \"True\", \"hovertemplate\": \"rte_1_name=S Ridge-SE Ridge<br>peak_name=%{x}<br>ascents=%{y}<extra></extra>\", \"legendgroup\": \"S Ridge-SE Ridge\", \"marker\": {\"color\": \"#636efa\"}, \"name\": \"S Ridge-SE Ridge\", \"offsetgroup\": \"S Ridge-SE Ridge\", \"orientation\": \"v\", \"showlegend\": true, \"textposition\": \"auto\", \"type\": \"bar\", \"x\": [\"Lhotse Shar\"], \"xaxis\": \"x\", \"y\": [4], \"yaxis\": \"y\"}, {\"alignmentgroup\": \"True\", \"hovertemplate\": \"rte_1_name=N Face-W Ridge<br>peak_name=%{x}<br>ascents=%{y}<extra></extra>\", \"legendgroup\": \"N Face-W Ridge\", \"marker\": {\"color\": \"#EF553B\"}, \"name\": \"N Face-W Ridge\", \"offsetgroup\": \"N Face-W Ridge\", \"orientation\": \"v\", \"showlegend\": true, \"textposition\": \"auto\", \"type\": \"bar\", \"x\": [\"Annapurna II\"], \"xaxis\": \"x\", \"y\": [7], \"yaxis\": \"y\"}, {\"alignmentgroup\": \"True\", \"hovertemplate\": \"rte_1_name=NW Ridge-W Ridge<br>peak_name=%{x}<br>ascents=%{y}<extra></extra>\", \"legendgroup\": \"NW Ridge-W Ridge\", \"marker\": {\"color\": \"#00cc96\"}, \"name\": \"NW Ridge-W Ridge\", \"offsetgroup\": \"NW Ridge-W Ridge\", \"orientation\": \"v\", \"showlegend\": true, \"textposition\": \"auto\", \"type\": \"bar\", \"x\": [\"Annapurna II\"], \"xaxis\": \"x\", \"y\": [5], \"yaxis\": \"y\"}, {\"alignmentgroup\": \"True\", \"hovertemplate\": \"rte_1_name=Reconnaissance<br>peak_name=%{x}<br>ascents=%{y}<extra></extra>\", \"legendgroup\": \"Reconnaissance\", \"marker\": {\"color\": \"#ab63fa\"}, \"name\": \"Reconnaissance\", \"offsetgroup\": \"Reconnaissance\", \"orientation\": \"v\", \"showlegend\": true, \"textposition\": \"auto\", \"type\": \"bar\", \"x\": [\"Gaurishankar\"], \"xaxis\": \"x\", \"y\": [3], \"yaxis\": \"y\"}],                        {\"barmode\": \"relative\", \"legend\": {\"title\": {\"text\": \"rte_1_name\"}, \"tracegroupgap\": 0}, \"margin\": {\"t\": 60}, \"template\": {\"data\": {\"bar\": [{\"error_x\": {\"color\": \"#2a3f5f\"}, \"error_y\": {\"color\": \"#2a3f5f\"}, \"marker\": {\"line\": {\"color\": \"#E5ECF6\", \"width\": 0.5}}, \"type\": \"bar\"}], \"barpolar\": [{\"marker\": {\"line\": {\"color\": \"#E5ECF6\", \"width\": 0.5}}, \"type\": \"barpolar\"}], \"carpet\": [{\"aaxis\": {\"endlinecolor\": \"#2a3f5f\", \"gridcolor\": \"white\", \"linecolor\": \"white\", \"minorgridcolor\": \"white\", \"startlinecolor\": \"#2a3f5f\"}, \"baxis\": {\"endlinecolor\": \"#2a3f5f\", \"gridcolor\": \"white\", \"linecolor\": \"white\", \"minorgridcolor\": \"white\", \"startlinecolor\": \"#2a3f5f\"}, \"type\": \"carpet\"}], \"choropleth\": [{\"colorbar\": {\"outlinewidth\": 0, \"ticks\": \"\"}, \"type\": \"choropleth\"}], \"contour\": [{\"colorbar\": {\"outlinewidth\": 0, \"ticks\": \"\"}, \"colorscale\": [[0.0, \"#0d0887\"], [0.1111111111111111, \"#46039f\"], [0.2222222222222222, \"#7201a8\"], [0.3333333333333333, \"#9c179e\"], [0.4444444444444444, \"#bd3786\"], [0.5555555555555556, \"#d8576b\"], [0.6666666666666666, \"#ed7953\"], [0.7777777777777778, \"#fb9f3a\"], [0.8888888888888888, \"#fdca26\"], [1.0, \"#f0f921\"]], \"type\": \"contour\"}], \"contourcarpet\": [{\"colorbar\": {\"outlinewidth\": 0, \"ticks\": \"\"}, \"type\": \"contourcarpet\"}], \"heatmap\": [{\"colorbar\": {\"outlinewidth\": 0, \"ticks\": \"\"}, \"colorscale\": [[0.0, \"#0d0887\"], [0.1111111111111111, \"#46039f\"], [0.2222222222222222, \"#7201a8\"], [0.3333333333333333, \"#9c179e\"], [0.4444444444444444, \"#bd3786\"], [0.5555555555555556, \"#d8576b\"], [0.6666666666666666, \"#ed7953\"], [0.7777777777777778, \"#fb9f3a\"], [0.8888888888888888, \"#fdca26\"], [1.0, \"#f0f921\"]], \"type\": \"heatmap\"}], \"heatmapgl\": [{\"colorbar\": {\"outlinewidth\": 0, \"ticks\": \"\"}, \"colorscale\": [[0.0, \"#0d0887\"], [0.1111111111111111, \"#46039f\"], [0.2222222222222222, \"#7201a8\"], [0.3333333333333333, \"#9c179e\"], [0.4444444444444444, \"#bd3786\"], [0.5555555555555556, \"#d8576b\"], [0.6666666666666666, \"#ed7953\"], [0.7777777777777778, \"#fb9f3a\"], [0.8888888888888888, \"#fdca26\"], [1.0, \"#f0f921\"]], \"type\": \"heatmapgl\"}], \"histogram\": [{\"marker\": {\"colorbar\": {\"outlinewidth\": 0, \"ticks\": \"\"}}, \"type\": \"histogram\"}], \"histogram2d\": [{\"colorbar\": {\"outlinewidth\": 0, \"ticks\": \"\"}, \"colorscale\": [[0.0, \"#0d0887\"], [0.1111111111111111, \"#46039f\"], [0.2222222222222222, \"#7201a8\"], [0.3333333333333333, \"#9c179e\"], [0.4444444444444444, \"#bd3786\"], [0.5555555555555556, \"#d8576b\"], [0.6666666666666666, \"#ed7953\"], [0.7777777777777778, \"#fb9f3a\"], [0.8888888888888888, \"#fdca26\"], [1.0, \"#f0f921\"]], \"type\": \"histogram2d\"}], \"histogram2dcontour\": [{\"colorbar\": {\"outlinewidth\": 0, \"ticks\": \"\"}, \"colorscale\": [[0.0, \"#0d0887\"], [0.1111111111111111, \"#46039f\"], [0.2222222222222222, \"#7201a8\"], [0.3333333333333333, \"#9c179e\"], [0.4444444444444444, \"#bd3786\"], [0.5555555555555556, \"#d8576b\"], [0.6666666666666666, \"#ed7953\"], [0.7777777777777778, \"#fb9f3a\"], [0.8888888888888888, \"#fdca26\"], [1.0, \"#f0f921\"]], \"type\": \"histogram2dcontour\"}], \"mesh3d\": [{\"colorbar\": {\"outlinewidth\": 0, \"ticks\": \"\"}, \"type\": \"mesh3d\"}], \"parcoords\": [{\"line\": {\"colorbar\": {\"outlinewidth\": 0, \"ticks\": \"\"}}, \"type\": \"parcoords\"}], \"pie\": [{\"automargin\": true, \"type\": \"pie\"}], \"scatter\": [{\"marker\": {\"colorbar\": {\"outlinewidth\": 0, \"ticks\": \"\"}}, \"type\": \"scatter\"}], \"scatter3d\": [{\"line\": {\"colorbar\": {\"outlinewidth\": 0, \"ticks\": \"\"}}, \"marker\": {\"colorbar\": {\"outlinewidth\": 0, \"ticks\": \"\"}}, \"type\": \"scatter3d\"}], \"scattercarpet\": [{\"marker\": {\"colorbar\": {\"outlinewidth\": 0, \"ticks\": \"\"}}, \"type\": \"scattercarpet\"}], \"scattergeo\": [{\"marker\": {\"colorbar\": {\"outlinewidth\": 0, \"ticks\": \"\"}}, \"type\": \"scattergeo\"}], \"scattergl\": [{\"marker\": {\"colorbar\": {\"outlinewidth\": 0, \"ticks\": \"\"}}, \"type\": \"scattergl\"}], \"scattermapbox\": [{\"marker\": {\"colorbar\": {\"outlinewidth\": 0, \"ticks\": \"\"}}, \"type\": \"scattermapbox\"}], \"scatterpolar\": [{\"marker\": {\"colorbar\": {\"outlinewidth\": 0, \"ticks\": \"\"}}, \"type\": \"scatterpolar\"}], \"scatterpolargl\": [{\"marker\": {\"colorbar\": {\"outlinewidth\": 0, \"ticks\": \"\"}}, \"type\": \"scatterpolargl\"}], \"scatterternary\": [{\"marker\": {\"colorbar\": {\"outlinewidth\": 0, \"ticks\": \"\"}}, \"type\": \"scatterternary\"}], \"surface\": [{\"colorbar\": {\"outlinewidth\": 0, \"ticks\": \"\"}, \"colorscale\": [[0.0, \"#0d0887\"], [0.1111111111111111, \"#46039f\"], [0.2222222222222222, \"#7201a8\"], [0.3333333333333333, \"#9c179e\"], [0.4444444444444444, \"#bd3786\"], [0.5555555555555556, \"#d8576b\"], [0.6666666666666666, \"#ed7953\"], [0.7777777777777778, \"#fb9f3a\"], [0.8888888888888888, \"#fdca26\"], [1.0, \"#f0f921\"]], \"type\": \"surface\"}], \"table\": [{\"cells\": {\"fill\": {\"color\": \"#EBF0F8\"}, \"line\": {\"color\": \"white\"}}, \"header\": {\"fill\": {\"color\": \"#C8D4E3\"}, \"line\": {\"color\": \"white\"}}, \"type\": \"table\"}]}, \"layout\": {\"annotationdefaults\": {\"arrowcolor\": \"#2a3f5f\", \"arrowhead\": 0, \"arrowwidth\": 1}, \"autotypenumbers\": \"strict\", \"coloraxis\": {\"colorbar\": {\"outlinewidth\": 0, \"ticks\": \"\"}}, \"colorscale\": {\"diverging\": [[0, \"#8e0152\"], [0.1, \"#c51b7d\"], [0.2, \"#de77ae\"], [0.3, \"#f1b6da\"], [0.4, \"#fde0ef\"], [0.5, \"#f7f7f7\"], [0.6, \"#e6f5d0\"], [0.7, \"#b8e186\"], [0.8, \"#7fbc41\"], [0.9, \"#4d9221\"], [1, \"#276419\"]], \"sequential\": [[0.0, \"#0d0887\"], [0.1111111111111111, \"#46039f\"], [0.2222222222222222, \"#7201a8\"], [0.3333333333333333, \"#9c179e\"], [0.4444444444444444, \"#bd3786\"], [0.5555555555555556, \"#d8576b\"], [0.6666666666666666, \"#ed7953\"], [0.7777777777777778, \"#fb9f3a\"], [0.8888888888888888, \"#fdca26\"], [1.0, \"#f0f921\"]], \"sequentialminus\": [[0.0, \"#0d0887\"], [0.1111111111111111, \"#46039f\"], [0.2222222222222222, \"#7201a8\"], [0.3333333333333333, \"#9c179e\"], [0.4444444444444444, \"#bd3786\"], [0.5555555555555556, \"#d8576b\"], [0.6666666666666666, \"#ed7953\"], [0.7777777777777778, \"#fb9f3a\"], [0.8888888888888888, \"#fdca26\"], [1.0, \"#f0f921\"]]}, \"colorway\": [\"#636efa\", \"#EF553B\", \"#00cc96\", \"#ab63fa\", \"#FFA15A\", \"#19d3f3\", \"#FF6692\", \"#B6E880\", \"#FF97FF\", \"#FECB52\"], \"font\": {\"color\": \"#2a3f5f\"}, \"geo\": {\"bgcolor\": \"white\", \"lakecolor\": \"white\", \"landcolor\": \"#E5ECF6\", \"showlakes\": true, \"showland\": true, \"subunitcolor\": \"white\"}, \"hoverlabel\": {\"align\": \"left\"}, \"hovermode\": \"closest\", \"mapbox\": {\"style\": \"light\"}, \"paper_bgcolor\": \"white\", \"plot_bgcolor\": \"#E5ECF6\", \"polar\": {\"angularaxis\": {\"gridcolor\": \"white\", \"linecolor\": \"white\", \"ticks\": \"\"}, \"bgcolor\": \"#E5ECF6\", \"radialaxis\": {\"gridcolor\": \"white\", \"linecolor\": \"white\", \"ticks\": \"\"}}, \"scene\": {\"xaxis\": {\"backgroundcolor\": \"#E5ECF6\", \"gridcolor\": \"white\", \"gridwidth\": 2, \"linecolor\": \"white\", \"showbackground\": true, \"ticks\": \"\", \"zerolinecolor\": \"white\"}, \"yaxis\": {\"backgroundcolor\": \"#E5ECF6\", \"gridcolor\": \"white\", \"gridwidth\": 2, \"linecolor\": \"white\", \"showbackground\": true, \"ticks\": \"\", \"zerolinecolor\": \"white\"}, \"zaxis\": {\"backgroundcolor\": \"#E5ECF6\", \"gridcolor\": \"white\", \"gridwidth\": 2, \"linecolor\": \"white\", \"showbackground\": true, \"ticks\": \"\", \"zerolinecolor\": \"white\"}}, \"shapedefaults\": {\"line\": {\"color\": \"#2a3f5f\"}}, \"ternary\": {\"aaxis\": {\"gridcolor\": \"white\", \"linecolor\": \"white\", \"ticks\": \"\"}, \"baxis\": {\"gridcolor\": \"white\", \"linecolor\": \"white\", \"ticks\": \"\"}, \"bgcolor\": \"#E5ECF6\", \"caxis\": {\"gridcolor\": \"white\", \"linecolor\": \"white\", \"ticks\": \"\"}}, \"title\": {\"x\": 0.05}, \"xaxis\": {\"automargin\": true, \"gridcolor\": \"white\", \"linecolor\": \"white\", \"ticks\": \"\", \"title\": {\"standoff\": 15}, \"zerolinecolor\": \"white\", \"zerolinewidth\": 2}, \"yaxis\": {\"automargin\": true, \"gridcolor\": \"white\", \"linecolor\": \"white\", \"ticks\": \"\", \"title\": {\"standoff\": 15}, \"zerolinecolor\": \"white\", \"zerolinewidth\": 2}}}, \"xaxis\": {\"anchor\": \"y\", \"domain\": [0.0, 1.0], \"title\": {\"text\": \"peak_name\"}}, \"yaxis\": {\"anchor\": \"x\", \"domain\": [0.0, 1.0], \"title\": {\"text\": \"ascents\"}}},                        {\"responsive\": true}                    ).then(function(){\n",
       "                            \n",
       "var gd = document.getElementById('53dc8afd-f52b-4603-9bb4-9054ecdac2a7');\n",
       "var x = new MutationObserver(function (mutations, observer) {{\n",
       "        var display = window.getComputedStyle(gd).display;\n",
       "        if (!display || display === 'none') {{\n",
       "            console.log([gd, 'removed!']);\n",
       "            Plotly.purge(gd);\n",
       "            observer.disconnect();\n",
       "        }}\n",
       "}});\n",
       "\n",
       "// Listen for the removal of the full notebook cells\n",
       "var notebookContainer = gd.closest('#notebook-container');\n",
       "if (notebookContainer) {{\n",
       "    x.observe(notebookContainer, {childList: true});\n",
       "}}\n",
       "\n",
       "// Listen for the clearing of the current output cell\n",
       "var outputEl = gd.closest('.output');\n",
       "if (outputEl) {{\n",
       "    x.observe(outputEl, {childList: true});\n",
       "}}\n",
       "\n",
       "                        })                };                });            </script>        </div>"
      ]
     },
     "metadata": {},
     "output_type": "display_data"
    }
   ],
   "source": [
    "# Itermediate DF\n",
    "tmp_df = data\\\n",
    "    .query(\"peak_name in @top_25_mountains\")\\\n",
    "    .groupby(['peak_name', 'rte_1_name'], as_index=False)\\\n",
    "    .agg({'peak_id': 'count'}).rename(columns={'peak_id': 'ascents'})\n",
    "\n",
    "top_route = pd.DataFrame()\n",
    "for peak in top_25_mountains:\n",
    "    top_route = top_route.append(\n",
    "        tmp_df.query('peak_name == @peak').sort_values('ascents', ascending=False)[:3]\n",
    "    )\n",
    "    \n",
    "fig = px.bar(top_route,\n",
    "             x='peak_name',\n",
    "             y='ascents',\n",
    "             color='rte_1_name',\n",
    "             color_continuous_scale=px.colors.sequential.Bluyl) \n",
    "fig.show() "
   ]
  },
  {
   "cell_type": "markdown",
   "metadata": {},
   "source": [
    "### Median Days to Summit "
   ]
  },
  {
   "cell_type": "code",
   "execution_count": 16,
   "metadata": {},
   "outputs": [
    {
     "data": {
      "image/png": "[encoded data removed]",
      "text/plain": [
       "<Figure size 1080x432 with 1 Axes>"
      ]
     },
     "metadata": {},
     "output_type": "display_data"
    }
   ],
   "source": [
    "median_days_to_summit = data\\\n",
    "    .query(\"peak_name in @top_25_mountains\")\\\n",
    "    .groupby('peak_name', as_index=False)\\\n",
    "    .agg({'total_days': 'median'}).rename(columns={'total_days': 'median_days'})\\\n",
    "    .query(\"median_days != 0\")\\\n",
    "    .sort_values('median_days')\n",
    "\n",
    "\n",
    "plt.figure(figsize=(15, 6))\n",
    "sns.barplot(x=median_days_to_summit['peak_name'], y=median_days_to_summit['median_days'])\n",
    "plt.xticks(rotation=45);"
   ]
  },
  {
   "cell_type": "markdown",
   "metadata": {},
   "source": [
    "Interesting insight the higher the mountain the more days you have to spend on the expedition"
   ]
  },
  {
   "cell_type": "markdown",
   "metadata": {},
   "source": [
    "### Median Wether Window date"
   ]
  },
  {
   "cell_type": "code",
   "execution_count": 21,
   "metadata": {},
   "outputs": [
    {
     "data": {
      "text/html": [
       "<div>\n",
       "<style scoped>\n",
       "    .dataframe tbody tr th:only-of-type {\n",
       "        vertical-align: middle;\n",
       "    }\n",
       "\n",
       "    .dataframe tbody tr th {\n",
       "        vertical-align: top;\n",
       "    }\n",
       "\n",
       "    .dataframe thead th {\n",
       "        text-align: right;\n",
       "    }\n",
       "</style>\n",
       "<table border=\"1\" class=\"dataframe\">\n",
       "  <thead>\n",
       "    <tr style=\"text-align: right;\">\n",
       "      <th></th>\n",
       "      <th>peak_name</th>\n",
       "      <th>weather_window_date</th>\n",
       "    </tr>\n",
       "  </thead>\n",
       "  <tbody>\n",
       "    <tr>\n",
       "      <th>0</th>\n",
       "      <td>Everest</td>\n",
       "      <td>20 May</td>\n",
       "    </tr>\n",
       "    <tr>\n",
       "      <th>1</th>\n",
       "      <td>Ama Dablam</td>\n",
       "      <td>29 October</td>\n",
       "    </tr>\n",
       "    <tr>\n",
       "      <th>2</th>\n",
       "      <td>Cho Oyu</td>\n",
       "      <td>24 September</td>\n",
       "    </tr>\n",
       "    <tr>\n",
       "      <th>3</th>\n",
       "      <td>Manaslu</td>\n",
       "      <td>27 September</td>\n",
       "    </tr>\n",
       "    <tr>\n",
       "      <th>4</th>\n",
       "      <td>Lhotse</td>\n",
       "      <td>20 May</td>\n",
       "    </tr>\n",
       "  </tbody>\n",
       "</table>\n",
       "</div>"
      ],
      "text/plain": [
       "    peak_name weather_window_date\n",
       "0     Everest              20 May\n",
       "1  Ama Dablam          29 October\n",
       "2     Cho Oyu        24 September\n",
       "3     Manaslu        27 September\n",
       "4      Lhotse              20 May"
      ]
     },
     "execution_count": 21,
     "metadata": {},
     "output_type": "execute_result"
    }
   ],
   "source": [
    "# 1. Theare are missing values not much ~ 0.06 drop thmem\n",
    "window_dates = pd.DataFrame()\n",
    "for peak in top_25_mountains:\n",
    "    peak_data = data.query(\"peak_name == @peak\")['summit_day'].dropna()\n",
    "    # 2. Convert to the same year\n",
    "    peak_data = pd.to_datetime('2020' + '-' + pd.to_datetime(peak_data).dt.strftime('%m-%d'))\n",
    "    # 3. Calculate the median date\n",
    "    date_int_64 = pd.to_datetime(peak_data).values.astype(np.int64)\n",
    "    median_date = pd.to_datetime(np.median(date_int_64))\n",
    "    # 4. Conver to a format Day Month_name\n",
    "    median_date = str(median_date.day) + ' ' + median_date.month_name()\n",
    "    \n",
    "    window_dates = window_dates.append(\n",
    "        pd.DataFrame({'peak_name': peak, 'weather_window_date': median_date}, index=[0])\n",
    "    )\n",
    "    \n",
    "    window_dates = window_dates.reset_index(drop=True)\n",
    "    \n",
    "window_dates.head()"
   ]
  },
  {
   "cell_type": "markdown",
   "metadata": {},
   "source": [
    "### Median Summit Time "
   ]
  },
  {
   "cell_type": "code",
   "execution_count": 17,
   "metadata": {},
   "outputs": [],
   "source": [
    "# Some time has been written incorrectly (e.g. 61:5), find them and drop\n",
    "def find_wrong_time_indx(series):\n",
    "    indx_to_drop = []\n",
    "    for indx, value in series.items():\n",
    "        try:\n",
    "             pd.to_datetime(value)\n",
    "        except:\n",
    "            indx_to_drop.append(indx)\n",
    "    return indx_to_drop"
   ]
  },
  {
   "cell_type": "code",
   "execution_count": 18,
   "metadata": {},
   "outputs": [],
   "source": [
    "median_time = pd.DataFrame()\n",
    "for peak in top_25_mountains:\n",
    "    peak_data = data.query(\"peak_name == @peak\")['time'].dropna()\n",
    "    wrong_time_indxs = find_wrong_time_indx(peak_data)\n",
    "    peak_data = peak_data[~peak_data.index.isin(wrong_time_indxs)]\n",
    "    \n",
    "    date_int_64 = pd.to_datetime(peak_data).values.astype(np.int64)\n",
    "    res = pd.to_datetime(np.median(date_int_64)).time()\n",
    "\n",
    "    median_time = median_time.append(\n",
    "        pd.DataFrame({'peak_name': peak, 'summit_time': res}, index=[0])\n",
    "    )\n",
    "    median_time = median_time.reset_index(drop=True)"
   ]
  },
  {
   "cell_type": "code",
   "execution_count": 19,
   "metadata": {},
   "outputs": [
    {
     "data": {
      "text/html": [
       "<div>\n",
       "<style scoped>\n",
       "    .dataframe tbody tr th:only-of-type {\n",
       "        vertical-align: middle;\n",
       "    }\n",
       "\n",
       "    .dataframe tbody tr th {\n",
       "        vertical-align: top;\n",
       "    }\n",
       "\n",
       "    .dataframe thead th {\n",
       "        text-align: right;\n",
       "    }\n",
       "</style>\n",
       "<table border=\"1\" class=\"dataframe\">\n",
       "  <thead>\n",
       "    <tr style=\"text-align: right;\">\n",
       "      <th></th>\n",
       "      <th>peak_name</th>\n",
       "      <th>summit_time</th>\n",
       "    </tr>\n",
       "  </thead>\n",
       "  <tbody>\n",
       "    <tr>\n",
       "      <th>0</th>\n",
       "      <td>Everest</td>\n",
       "      <td>08:30:00</td>\n",
       "    </tr>\n",
       "    <tr>\n",
       "      <th>1</th>\n",
       "      <td>Ama Dablam</td>\n",
       "      <td>11:25:00</td>\n",
       "    </tr>\n",
       "    <tr>\n",
       "      <th>2</th>\n",
       "      <td>Cho Oyu</td>\n",
       "      <td>10:30:00</td>\n",
       "    </tr>\n",
       "    <tr>\n",
       "      <th>3</th>\n",
       "      <td>Manaslu</td>\n",
       "      <td>10:00:00</td>\n",
       "    </tr>\n",
       "    <tr>\n",
       "      <th>4</th>\n",
       "      <td>Lhotse</td>\n",
       "      <td>10:30:00</td>\n",
       "    </tr>\n",
       "  </tbody>\n",
       "</table>\n",
       "</div>"
      ],
      "text/plain": [
       "    peak_name summit_time\n",
       "0     Everest    08:30:00\n",
       "1  Ama Dablam    11:25:00\n",
       "2     Cho Oyu    10:30:00\n",
       "3     Manaslu    10:00:00\n",
       "4      Lhotse    10:30:00"
      ]
     },
     "execution_count": 19,
     "metadata": {},
     "output_type": "execute_result"
    }
   ],
   "source": [
    "median_time.head()"
   ]
  },
  {
   "cell_type": "markdown",
   "metadata": {},
   "source": [
    "### Snowboard/Ski/Parapente Attempts"
   ]
  },
  {
   "cell_type": "code",
   "execution_count": 22,
   "metadata": {},
   "outputs": [
    {
     "data": {
      "image/png": "[encoded data removed]",
      "text/plain": [
       "<Figure size 1080x432 with 1 Axes>"
      ]
     },
     "metadata": {},
     "output_type": "display_data"
    },
    {
     "data": {
      "image/png": "[encoded data removed]",
      "text/plain": [
       "<Figure size 1080x432 with 1 Axes>"
      ]
     },
     "metadata": {},
     "output_type": "display_data"
    }
   ],
   "source": [
    "# Snowboard/Ski/Parapente attempts on these peaks \n",
    "ski_snowboard_data = data\\\n",
    "    .query(\"peak_name in @top_25_mountains and is_ski_snowboard == 1\")\\\n",
    "    .groupby('peak_name', as_index=False)\\\n",
    "    .agg({'peak_id': 'count'}).rename(columns={'peak_id': 'suc_descents'})\n",
    "\n",
    "\n",
    "plt.figure(figsize=(15, 6))\n",
    "sns.barplot(x=ski_snowboard_data['peak_name'],\n",
    "            y=ski_snowboard_data['suc_descents'])\n",
    "plt.xticks(rotation=45);\n",
    "\n",
    "\n",
    "parapente_data = data\\\n",
    "    .query(\"peak_name in @top_25_mountains and is_parapente == 1\")\\\n",
    "    .groupby('peak_name', as_index=False)\\\n",
    "    .agg({'peak_id': 'count'}).rename(columns={'peak_id': 'suc_descents'})\n",
    "\n",
    "\n",
    "plt.figure(figsize=(15, 6))\n",
    "sns.barplot(x=parapente_data['peak_name'],\n",
    "            y=parapente_data['suc_descents'])\n",
    "plt.xticks(rotation=45);"
   ]
  },
  {
   "cell_type": "markdown",
   "metadata": {},
   "source": [
    "### Average expedition Size "
   ]
  },
  {
   "cell_type": "code",
   "execution_count": 23,
   "metadata": {},
   "outputs": [
    {
     "data": {
      "text/html": [
       "<div>\n",
       "<style scoped>\n",
       "    .dataframe tbody tr th:only-of-type {\n",
       "        vertical-align: middle;\n",
       "    }\n",
       "\n",
       "    .dataframe tbody tr th {\n",
       "        vertical-align: top;\n",
       "    }\n",
       "\n",
       "    .dataframe thead th {\n",
       "        text-align: right;\n",
       "    }\n",
       "</style>\n",
       "<table border=\"1\" class=\"dataframe\">\n",
       "  <thead>\n",
       "    <tr style=\"text-align: right;\">\n",
       "      <th></th>\n",
       "      <th>peak_name</th>\n",
       "      <th>avg_exped_size</th>\n",
       "    </tr>\n",
       "  </thead>\n",
       "  <tbody>\n",
       "    <tr>\n",
       "      <th>24</th>\n",
       "      <td>Tukuche</td>\n",
       "      <td>7.0</td>\n",
       "    </tr>\n",
       "    <tr>\n",
       "      <th>23</th>\n",
       "      <td>Tilicho</td>\n",
       "      <td>7.0</td>\n",
       "    </tr>\n",
       "    <tr>\n",
       "      <th>3</th>\n",
       "      <td>Annapurna III</td>\n",
       "      <td>7.0</td>\n",
       "    </tr>\n",
       "    <tr>\n",
       "      <th>4</th>\n",
       "      <td>Annapurna IV</td>\n",
       "      <td>7.0</td>\n",
       "    </tr>\n",
       "    <tr>\n",
       "      <th>9</th>\n",
       "      <td>Everest</td>\n",
       "      <td>7.0</td>\n",
       "    </tr>\n",
       "  </tbody>\n",
       "</table>\n",
       "</div>"
      ],
      "text/plain": [
       "        peak_name  avg_exped_size\n",
       "24        Tukuche             7.0\n",
       "23        Tilicho             7.0\n",
       "3   Annapurna III             7.0\n",
       "4    Annapurna IV             7.0\n",
       "9         Everest             7.0"
      ]
     },
     "execution_count": 23,
     "metadata": {},
     "output_type": "execute_result"
    }
   ],
   "source": [
    "avg_exped_size = data\\\n",
    "    .query(\"peak_name in @top_25_mountains\")\\\n",
    "    .groupby('peak_name', as_index=False)\\\n",
    "    .agg({'total_mbrs': 'mean'}).rename(columns={'total_mbrs': 'avg_exped_size'})\n",
    "    \n",
    "    \n",
    "avg_exped_size['avg_exped_size'] = avg_exped_size['avg_exped_size'].round()\n",
    "avg_exped_size = avg_exped_size.sort_values('avg_exped_size', ascending=False)\n",
    "avg_exped_size.head()"
   ]
  },
  {
   "cell_type": "markdown",
   "metadata": {},
   "source": [
    "### Number of Deaths"
   ]
  },
  {
   "cell_type": "code",
   "execution_count": 25,
   "metadata": {},
   "outputs": [
    {
     "data": {
      "text/html": [
       "<div>\n",
       "<style scoped>\n",
       "    .dataframe tbody tr th:only-of-type {\n",
       "        vertical-align: middle;\n",
       "    }\n",
       "\n",
       "    .dataframe tbody tr th {\n",
       "        vertical-align: top;\n",
       "    }\n",
       "\n",
       "    .dataframe thead th {\n",
       "        text-align: right;\n",
       "    }\n",
       "</style>\n",
       "<table border=\"1\" class=\"dataframe\">\n",
       "  <thead>\n",
       "    <tr style=\"text-align: right;\">\n",
       "      <th></th>\n",
       "      <th>peak_name</th>\n",
       "      <th>total_deaths</th>\n",
       "    </tr>\n",
       "  </thead>\n",
       "  <tbody>\n",
       "    <tr>\n",
       "      <th>9</th>\n",
       "      <td>Everest</td>\n",
       "      <td>185</td>\n",
       "    </tr>\n",
       "    <tr>\n",
       "      <th>19</th>\n",
       "      <td>Manaslu</td>\n",
       "      <td>70</td>\n",
       "    </tr>\n",
       "    <tr>\n",
       "      <th>8</th>\n",
       "      <td>Dhaulagiri I</td>\n",
       "      <td>63</td>\n",
       "    </tr>\n",
       "    <tr>\n",
       "      <th>1</th>\n",
       "      <td>Annapurna I</td>\n",
       "      <td>54</td>\n",
       "    </tr>\n",
       "    <tr>\n",
       "      <th>7</th>\n",
       "      <td>Cho Oyu</td>\n",
       "      <td>42</td>\n",
       "    </tr>\n",
       "  </tbody>\n",
       "</table>\n",
       "</div>"
      ],
      "text/plain": [
       "       peak_name  total_deaths\n",
       "9        Everest           185\n",
       "19       Manaslu            70\n",
       "8   Dhaulagiri I            63\n",
       "1    Annapurna I            54\n",
       "7        Cho Oyu            42"
      ]
     },
     "execution_count": 25,
     "metadata": {},
     "output_type": "execute_result"
    }
   ],
   "source": [
    "# Deaths on these mountains \n",
    "deaths = data\\\n",
    "    .query(\"peak_name in @top_25_mountains\")\\\n",
    "    .groupby('peak_name', as_index=False)\\\n",
    "    .agg({'mbrs_deaths': 'sum'}).rename(columns={'mbrs_deaths': 'total_deaths'})\\\n",
    "    .sort_values('total_deaths', ascending=False)\n",
    "\n",
    "deaths.head()"
   ]
  },
  {
   "cell_type": "markdown",
   "metadata": {},
   "source": [
    "### Avg Summiters Fraction of the Expedition"
   ]
  },
  {
   "cell_type": "code",
   "execution_count": 26,
   "metadata": {},
   "outputs": [
    {
     "data": {
      "text/html": [
       "<div>\n",
       "<style scoped>\n",
       "    .dataframe tbody tr th:only-of-type {\n",
       "        vertical-align: middle;\n",
       "    }\n",
       "\n",
       "    .dataframe tbody tr th {\n",
       "        vertical-align: top;\n",
       "    }\n",
       "\n",
       "    .dataframe thead th {\n",
       "        text-align: right;\n",
       "    }\n",
       "</style>\n",
       "<table border=\"1\" class=\"dataframe\">\n",
       "  <thead>\n",
       "    <tr style=\"text-align: right;\">\n",
       "      <th></th>\n",
       "      <th>peak_name</th>\n",
       "      <th>mbrs_summiters_frac</th>\n",
       "    </tr>\n",
       "  </thead>\n",
       "  <tbody>\n",
       "    <tr>\n",
       "      <th>0</th>\n",
       "      <td>Ama Dablam</td>\n",
       "      <td>0.495037</td>\n",
       "    </tr>\n",
       "    <tr>\n",
       "      <th>9</th>\n",
       "      <td>Everest</td>\n",
       "      <td>0.389321</td>\n",
       "    </tr>\n",
       "    <tr>\n",
       "      <th>7</th>\n",
       "      <td>Cho Oyu</td>\n",
       "      <td>0.384996</td>\n",
       "    </tr>\n",
       "    <tr>\n",
       "      <th>15</th>\n",
       "      <td>Lhotse</td>\n",
       "      <td>0.378890</td>\n",
       "    </tr>\n",
       "    <tr>\n",
       "      <th>22</th>\n",
       "      <td>Putha Hiunchuli</td>\n",
       "      <td>0.372666</td>\n",
       "    </tr>\n",
       "  </tbody>\n",
       "</table>\n",
       "</div>"
      ],
      "text/plain": [
       "          peak_name  mbrs_summiters_frac\n",
       "0        Ama Dablam             0.495037\n",
       "9           Everest             0.389321\n",
       "7           Cho Oyu             0.384996\n",
       "15           Lhotse             0.378890\n",
       "22  Putha Hiunchuli             0.372666"
      ]
     },
     "execution_count": 26,
     "metadata": {},
     "output_type": "execute_result"
    }
   ],
   "source": [
    "### Avg Summiters size in the expedition \n",
    "data['mbrs_summiters_frac'] = data['mbrs_summited']/data['total_mbrs']\n",
    "\n",
    "sum_frac = data\\\n",
    "    .query(\"peak_name in @top_25_mountains\")\\\n",
    "    .groupby('peak_name', as_index=False)\\\n",
    "    .agg({'mbrs_summiters_frac': 'mean'}).rename(columns={'mbrs_summiters_frac': 'mbrs_summiters_frac'})\\\n",
    "    .sort_values('mbrs_summiters_frac', ascending=False)\n",
    "\n",
    "sum_frac.head()"
   ]
  },
  {
   "cell_type": "markdown",
   "metadata": {},
   "source": [
    "### Team Fraction to Die "
   ]
  },
  {
   "cell_type": "code",
   "execution_count": 27,
   "metadata": {},
   "outputs": [
    {
     "data": {
      "text/html": [
       "<div>\n",
       "<style scoped>\n",
       "    .dataframe tbody tr th:only-of-type {\n",
       "        vertical-align: middle;\n",
       "    }\n",
       "\n",
       "    .dataframe tbody tr th {\n",
       "        vertical-align: top;\n",
       "    }\n",
       "\n",
       "    .dataframe thead th {\n",
       "        text-align: right;\n",
       "    }\n",
       "</style>\n",
       "<table border=\"1\" class=\"dataframe\">\n",
       "  <thead>\n",
       "    <tr style=\"text-align: right;\">\n",
       "      <th></th>\n",
       "      <th>peak_name</th>\n",
       "      <th>mbrs_die_frac</th>\n",
       "    </tr>\n",
       "  </thead>\n",
       "  <tbody>\n",
       "    <tr>\n",
       "      <th>18</th>\n",
       "      <td>Makalu II</td>\n",
       "      <td>inf</td>\n",
       "    </tr>\n",
       "    <tr>\n",
       "      <th>14</th>\n",
       "      <td>Langtang Lirung</td>\n",
       "      <td>0.048150</td>\n",
       "    </tr>\n",
       "    <tr>\n",
       "      <th>8</th>\n",
       "      <td>Dhaulagiri I</td>\n",
       "      <td>0.032960</td>\n",
       "    </tr>\n",
       "    <tr>\n",
       "      <th>1</th>\n",
       "      <td>Annapurna I</td>\n",
       "      <td>0.030889</td>\n",
       "    </tr>\n",
       "    <tr>\n",
       "      <th>13</th>\n",
       "      <td>Kangchenjunga</td>\n",
       "      <td>0.029499</td>\n",
       "    </tr>\n",
       "  </tbody>\n",
       "</table>\n",
       "</div>"
      ],
      "text/plain": [
       "          peak_name  mbrs_die_frac\n",
       "18        Makalu II            inf\n",
       "14  Langtang Lirung       0.048150\n",
       "8      Dhaulagiri I       0.032960\n",
       "1       Annapurna I       0.030889\n",
       "13    Kangchenjunga       0.029499"
      ]
     },
     "execution_count": 27,
     "metadata": {},
     "output_type": "execute_result"
    }
   ],
   "source": [
    "# Portion of team to die \n",
    "data['mbrs_die_frac'] = data['mbrs_deaths']/data['total_mbrs']\n",
    "\n",
    "deaths_frac = data\\\n",
    "    .query(\"peak_name in @top_25_mountains\")\\\n",
    "    .groupby('peak_name', as_index=False)\\\n",
    "    .agg({'mbrs_die_frac': 'mean'})\\\n",
    "    .sort_values('mbrs_die_frac', ascending=False)\n",
    "\n",
    "deaths_frac.head()"
   ]
  },
  {
   "cell_type": "markdown",
   "metadata": {},
   "source": [
    "To be continued "
   ]
  }
 ],
 "metadata": {
  "kernelspec": {
   "display_name": "Python 3",
   "language": "python",
   "name": "python3"
  },
  "language_info": {
   "codemirror_mode": {
    "name": "ipython",
    "version": 3
   },
   "file_extension": ".py",
   "mimetype": "text/x-python",
   "name": "python",
   "nbconvert_exporter": "python",
   "pygments_lexer": "ipython3",
   "version": "3.7.9"
  }
 },
 "nbformat": 4,
 "nbformat_minor": 4
}
